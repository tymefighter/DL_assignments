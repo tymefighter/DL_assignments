{
 "cells": [
  {
   "cell_type": "markdown",
   "metadata": {
    "colab_type": "text",
    "id": "WbYF6Kj027mr"
   },
   "source": [
    "# Importing Libraries"
   ]
  },
  {
   "cell_type": "code",
   "execution_count": 1,
   "metadata": {
    "colab": {},
    "colab_type": "code",
    "id": "9p9iPIIWbQDx"
   },
   "outputs": [],
   "source": [
    "import numpy as np\n",
    "import matplotlib.pyplot as plt\n",
    "import tensorflow as tf"
   ]
  },
  {
   "cell_type": "markdown",
   "metadata": {
    "colab_type": "text",
    "id": "QbVJdOKr0MEg"
   },
   "source": [
    "# Loading Dataset"
   ]
  },
  {
   "cell_type": "markdown",
   "metadata": {
    "colab_type": "text",
    "id": "0ADEQ92h3CSA"
   },
   "source": [
    "## Get Dataset"
   ]
  },
  {
   "cell_type": "code",
   "execution_count": 2,
   "metadata": {
    "colab": {},
    "colab_type": "code",
    "id": "QL3-1olNbi4N"
   },
   "outputs": [
    {
     "name": "stdout",
     "output_type": "stream",
     "text": [
      "Downloading data from https://storage.googleapis.com/tensorflow/tf-keras-datasets/mnist.npz\n",
      "11493376/11490434 [==============================] - 0s 0us/step\n"
     ]
    }
   ],
   "source": [
    "(X_train, Y_train), (X_test, Y_test) = tf.keras.datasets.mnist.load_data()"
   ]
  },
  {
   "cell_type": "markdown",
   "metadata": {
    "colab_type": "text",
    "id": "5Vg-NCBg8Ofg"
   },
   "source": [
    "Flatten Dataset"
   ]
  },
  {
   "cell_type": "code",
   "execution_count": 3,
   "metadata": {
    "colab": {},
    "colab_type": "code",
    "id": "jxM7NLgr8Nxg"
   },
   "outputs": [],
   "source": [
    "X_train = np.reshape(X_train, (X_train.shape[0], X_train.shape[1] * X_train.shape[2]))\n",
    "X_test = np.reshape(X_test, (X_test.shape[0], X_test.shape[1] * X_test.shape[2]))"
   ]
  },
  {
   "cell_type": "markdown",
   "metadata": {
    "colab_type": "text",
    "id": "G-rytLhF3ED1"
   },
   "source": [
    "Here, we just have the training and test sets, hence we must build a validation set from the test set to select among different models"
   ]
  },
  {
   "cell_type": "code",
   "execution_count": 4,
   "metadata": {
    "colab": {
     "base_uri": "https://localhost:8080/",
     "height": 92
    },
    "colab_type": "code",
    "id": "nuR7-qWYdPuJ",
    "outputId": "9dbf6cdb-b03d-49f1-e98b-7c795b0200e7"
   },
   "outputs": [
    {
     "name": "stdout",
     "output_type": "stream",
     "text": [
      "Shape of X_train: (60000, 784)\n",
      "Shape of Y_train: (60000,)\n"
     ]
    }
   ],
   "source": [
    "print(\"Shape of X_train: \" + str(X_train.shape))\n",
    "print(\"Shape of Y_train: \" + str(Y_train.shape))"
   ]
  },
  {
   "cell_type": "markdown",
   "metadata": {
    "colab_type": "text",
    "id": "_KRaGy7u0IAW"
   },
   "source": [
    "## Building a validation set"
   ]
  },
  {
   "cell_type": "markdown",
   "metadata": {
    "colab_type": "text",
    "id": "hJduaZd13nds"
   },
   "source": [
    "##### Shuffle indices randomly"
   ]
  },
  {
   "cell_type": "code",
   "execution_count": 5,
   "metadata": {
    "colab": {},
    "colab_type": "code",
    "id": "3j2TFde03meG"
   },
   "outputs": [],
   "source": [
    "shuffle_indices = np.arange(0, X_train.shape[0])\n",
    "np.random.shuffle(shuffle_indices)\n",
    "\n",
    "X_train = X_train[shuffle_indices, :]\n",
    "Y_train = Y_train[shuffle_indices]"
   ]
  },
  {
   "cell_type": "markdown",
   "metadata": {
    "colab_type": "text",
    "id": "I4VRiGOj3_EG"
   },
   "source": [
    "##### We would take the first 5000 images of the training set (after shuffling it) to be the validation set."
   ]
  },
  {
   "cell_type": "code",
   "execution_count": 6,
   "metadata": {
    "colab": {},
    "colab_type": "code",
    "id": "cLCNJrEP10_b"
   },
   "outputs": [],
   "source": [
    "X_val = X_train[:5000]\n",
    "Y_val = Y_train[:5000]\n",
    "\n",
    "X_train = X_train[5000: ]\n",
    "Y_train = Y_train[5000: ]"
   ]
  },
  {
   "cell_type": "code",
   "execution_count": 7,
   "metadata": {
    "colab": {
     "base_uri": "https://localhost:8080/",
     "height": 180
    },
    "colab_type": "code",
    "id": "quPONaJ82EIk",
    "outputId": "46ebe97b-8cab-47d5-819e-d357035fdadc"
   },
   "outputs": [
    {
     "name": "stdout",
     "output_type": "stream",
     "text": [
      "All the shapes: -\n",
      "X_train: (55000, 784)\n",
      "Y_train: (55000,)\n",
      "X_val  : (5000, 784)\n",
      "Y_val  : (5000,)\n",
      "X_test : (10000, 784)\n",
      "Y_test : (10000,)\n"
     ]
    }
   ],
   "source": [
    "print(\"All the shapes: -\")\n",
    "\n",
    "print(\"X_train: \" + str(X_train.shape))\n",
    "print(\"Y_train: \" + str(Y_train.shape))\n",
    "\n",
    "print(\"X_val  : \" + str(X_val.shape))\n",
    "print(\"Y_val  : \" + str(Y_val.shape))\n",
    "\n",
    "print(\"X_test : \" + str(X_test.shape))\n",
    "print(\"Y_test : \" + str(Y_test.shape))"
   ]
  },
  {
   "cell_type": "markdown",
   "metadata": {},
   "source": [
    "## Some Helper Functions"
   ]
  },
  {
   "cell_type": "code",
   "execution_count": 8,
   "metadata": {},
   "outputs": [],
   "source": [
    "def plot_loss(loss_arr):\n",
    "    plt.plot(loss_arr)\n",
    "    plt.title('Loss curve')\n",
    "    plt.xlabel('num iters')\n",
    "    plt.ylabel('Loss value')\n",
    "    plt.show()\n",
    "\n",
    "def plot_acc(acc_arr):\n",
    "    plt.plot(acc_arr)\n",
    "    plt.title('Accuracy curve')\n",
    "    plt.xlabel('num iters')\n",
    "    plt.ylabel('Accuracy value')\n",
    "    plt.show()"
   ]
  },
  {
   "cell_type": "markdown",
   "metadata": {
    "colab_type": "text",
    "id": "JKEsxTGG6MZv"
   },
   "source": [
    "# Building Models"
   ]
  },
  {
   "cell_type": "markdown",
   "metadata": {
    "colab_type": "text",
    "id": "1HMbRz5j2mYS"
   },
   "source": [
    "Now, we would build multiple models and compare them on the basis of their validation accuracy"
   ]
  },
  {
   "cell_type": "markdown",
   "metadata": {
    "colab_type": "text",
    "id": "-JZb35U-6bph"
   },
   "source": [
    "## Models - I: Unnormalized vs Normalized"
   ]
  },
  {
   "cell_type": "markdown",
   "metadata": {
    "colab_type": "text",
    "id": "t4U12Bl46kop"
   },
   "source": [
    "### Model 1: Using Unnormalized data"
   ]
  },
  {
   "cell_type": "markdown",
   "metadata": {
    "colab_type": "text",
    "id": "MIRisyvQDIvQ"
   },
   "source": [
    "#### Hyperparameters"
   ]
  },
  {
   "cell_type": "code",
   "execution_count": 9,
   "metadata": {},
   "outputs": [],
   "source": [
    "num_hidden_units = 32\n",
    "output_size = 10\n",
    "learning_rate = 0.1\n",
    "num_iters = 100"
   ]
  },
  {
   "cell_type": "markdown",
   "metadata": {
    "colab_type": "text",
    "id": "A9lSDbJ1C0j2"
   },
   "source": [
    "#### Model"
   ]
  },
  {
   "cell_type": "code",
   "execution_count": 10,
   "metadata": {},
   "outputs": [],
   "source": [
    "model = tf.keras.Sequential([\n",
    "    tf.keras.layers.Dense(num_hidden_units, activation = tf.nn.sigmoid),\n",
    "    tf.keras.layers.Dense(output_size, activation = tf.nn.softmax)\n",
    "])"
   ]
  },
  {
   "cell_type": "code",
   "execution_count": 11,
   "metadata": {},
   "outputs": [],
   "source": [
    "optimizer = tf.keras.optimizers.SGD(learning_rate = learning_rate)\n",
    "model.compile(optimizer=optimizer, loss = 'sparse_categorical_crossentropy', metrics = ['accuracy'])"
   ]
  },
  {
   "cell_type": "markdown",
   "metadata": {},
   "source": [
    "#### Train the Model"
   ]
  },
  {
   "cell_type": "code",
   "execution_count": 12,
   "metadata": {
    "_kg_hide-output": false
   },
   "outputs": [
    {
     "name": "stdout",
     "output_type": "stream",
     "text": [
      "Epoch 1/100\n",
      "55000/55000 - 2s - loss: 1.3730 - acc: 0.5561\n",
      "Epoch 2/100\n",
      "55000/55000 - 2s - loss: 1.0466 - acc: 0.6493\n",
      "Epoch 3/100\n",
      "55000/55000 - 2s - loss: 1.0566 - acc: 0.6465\n",
      "Epoch 4/100\n",
      "55000/55000 - 2s - loss: 1.0244 - acc: 0.6527\n",
      "Epoch 5/100\n",
      "55000/55000 - 2s - loss: 1.0163 - acc: 0.6579\n",
      "Epoch 6/100\n",
      "55000/55000 - 2s - loss: 0.9929 - acc: 0.6739\n",
      "Epoch 7/100\n",
      "55000/55000 - 2s - loss: 0.8991 - acc: 0.7017\n",
      "Epoch 8/100\n",
      "55000/55000 - 2s - loss: 0.9009 - acc: 0.7111\n",
      "Epoch 9/100\n",
      "55000/55000 - 2s - loss: 0.8599 - acc: 0.7216\n",
      "Epoch 10/100\n",
      "55000/55000 - 2s - loss: 0.8995 - acc: 0.6999\n",
      "Epoch 11/100\n",
      "55000/55000 - 2s - loss: 0.7731 - acc: 0.7561\n",
      "Epoch 12/100\n",
      "55000/55000 - 2s - loss: 0.8525 - acc: 0.7127\n",
      "Epoch 13/100\n",
      "55000/55000 - 2s - loss: 0.8420 - acc: 0.7263\n",
      "Epoch 14/100\n",
      "55000/55000 - 2s - loss: 0.8320 - acc: 0.7272\n",
      "Epoch 15/100\n",
      "55000/55000 - 2s - loss: 0.7432 - acc: 0.7666\n",
      "Epoch 16/100\n",
      "55000/55000 - 2s - loss: 0.7464 - acc: 0.7608\n",
      "Epoch 17/100\n",
      "55000/55000 - 2s - loss: 0.7755 - acc: 0.7474\n",
      "Epoch 18/100\n",
      "55000/55000 - 2s - loss: 0.8203 - acc: 0.7272\n",
      "Epoch 19/100\n",
      "55000/55000 - 2s - loss: 0.8717 - acc: 0.7023\n",
      "Epoch 20/100\n",
      "55000/55000 - 2s - loss: 0.8128 - acc: 0.7303\n",
      "Epoch 21/100\n",
      "55000/55000 - 2s - loss: 0.8536 - acc: 0.7224\n",
      "Epoch 22/100\n",
      "55000/55000 - 2s - loss: 0.8219 - acc: 0.7321\n",
      "Epoch 23/100\n",
      "55000/55000 - 2s - loss: 0.7620 - acc: 0.7621\n",
      "Epoch 24/100\n",
      "55000/55000 - 2s - loss: 0.7789 - acc: 0.7545\n",
      "Epoch 25/100\n",
      "55000/55000 - 2s - loss: 0.7402 - acc: 0.7642\n",
      "Epoch 26/100\n",
      "55000/55000 - 2s - loss: 0.7671 - acc: 0.7499\n",
      "Epoch 27/100\n",
      "55000/55000 - 2s - loss: 0.7772 - acc: 0.7447\n",
      "Epoch 28/100\n",
      "55000/55000 - 2s - loss: 0.7336 - acc: 0.7657\n",
      "Epoch 29/100\n",
      "55000/55000 - 2s - loss: 0.7027 - acc: 0.7733\n",
      "Epoch 30/100\n",
      "55000/55000 - 2s - loss: 0.6840 - acc: 0.7778\n",
      "Epoch 31/100\n",
      "55000/55000 - 2s - loss: 0.6689 - acc: 0.7895\n",
      "Epoch 32/100\n",
      "55000/55000 - 2s - loss: 0.6872 - acc: 0.7802\n",
      "Epoch 33/100\n",
      "55000/55000 - 2s - loss: 0.7032 - acc: 0.7701\n",
      "Epoch 34/100\n",
      "55000/55000 - 2s - loss: 0.7009 - acc: 0.7694\n",
      "Epoch 35/100\n",
      "55000/55000 - 2s - loss: 0.6848 - acc: 0.7797\n",
      "Epoch 36/100\n",
      "55000/55000 - 2s - loss: 0.7278 - acc: 0.7566\n",
      "Epoch 37/100\n",
      "55000/55000 - 2s - loss: 0.7115 - acc: 0.7582\n",
      "Epoch 38/100\n",
      "55000/55000 - 2s - loss: 0.6732 - acc: 0.7871\n",
      "Epoch 39/100\n",
      "55000/55000 - 2s - loss: 0.6914 - acc: 0.7810\n",
      "Epoch 40/100\n",
      "55000/55000 - 2s - loss: 0.6800 - acc: 0.7804\n",
      "Epoch 41/100\n",
      "55000/55000 - 2s - loss: 0.6528 - acc: 0.7892\n",
      "Epoch 42/100\n",
      "55000/55000 - 2s - loss: 0.6167 - acc: 0.8036\n",
      "Epoch 43/100\n",
      "55000/55000 - 2s - loss: 0.6331 - acc: 0.7996\n",
      "Epoch 44/100\n",
      "55000/55000 - 2s - loss: 0.6436 - acc: 0.7913\n",
      "Epoch 45/100\n",
      "55000/55000 - 2s - loss: 0.6586 - acc: 0.7894\n",
      "Epoch 46/100\n",
      "55000/55000 - 2s - loss: 0.6553 - acc: 0.7929\n",
      "Epoch 47/100\n",
      "55000/55000 - 2s - loss: 0.6744 - acc: 0.7813\n",
      "Epoch 48/100\n",
      "55000/55000 - 2s - loss: 0.6674 - acc: 0.7887\n",
      "Epoch 49/100\n",
      "55000/55000 - 2s - loss: 0.6845 - acc: 0.7786\n",
      "Epoch 50/100\n",
      "55000/55000 - 2s - loss: 0.7193 - acc: 0.7703\n",
      "Epoch 51/100\n",
      "55000/55000 - 2s - loss: 0.6462 - acc: 0.8007\n",
      "Epoch 52/100\n",
      "55000/55000 - 2s - loss: 0.6461 - acc: 0.7969\n",
      "Epoch 53/100\n",
      "55000/55000 - 2s - loss: 0.6177 - acc: 0.8099\n",
      "Epoch 54/100\n",
      "55000/55000 - 2s - loss: 0.6449 - acc: 0.7983\n",
      "Epoch 55/100\n",
      "55000/55000 - 2s - loss: 0.6230 - acc: 0.8003\n",
      "Epoch 56/100\n",
      "55000/55000 - 2s - loss: 0.5987 - acc: 0.8098\n",
      "Epoch 57/100\n",
      "55000/55000 - 2s - loss: 0.6228 - acc: 0.7965\n",
      "Epoch 58/100\n",
      "55000/55000 - 2s - loss: 0.6832 - acc: 0.7789\n",
      "Epoch 59/100\n",
      "55000/55000 - 2s - loss: 0.6577 - acc: 0.7875\n",
      "Epoch 60/100\n",
      "55000/55000 - 2s - loss: 0.6520 - acc: 0.7849\n",
      "Epoch 61/100\n",
      "55000/55000 - 2s - loss: 0.6580 - acc: 0.7865\n",
      "Epoch 62/100\n",
      "55000/55000 - 2s - loss: 0.6583 - acc: 0.7898\n",
      "Epoch 63/100\n",
      "55000/55000 - 2s - loss: 0.6204 - acc: 0.8026\n",
      "Epoch 64/100\n",
      "55000/55000 - 2s - loss: 0.6439 - acc: 0.7912\n",
      "Epoch 65/100\n",
      "55000/55000 - 2s - loss: 0.6470 - acc: 0.7945\n",
      "Epoch 66/100\n",
      "55000/55000 - 2s - loss: 0.6073 - acc: 0.8123\n",
      "Epoch 67/100\n",
      "55000/55000 - 2s - loss: 0.6039 - acc: 0.8035\n",
      "Epoch 68/100\n",
      "55000/55000 - 2s - loss: 0.5879 - acc: 0.8144\n",
      "Epoch 69/100\n",
      "55000/55000 - 2s - loss: 0.6257 - acc: 0.7880\n",
      "Epoch 70/100\n",
      "55000/55000 - 2s - loss: 0.5845 - acc: 0.8167\n",
      "Epoch 71/100\n",
      "55000/55000 - 2s - loss: 0.5724 - acc: 0.8256\n",
      "Epoch 72/100\n",
      "55000/55000 - 2s - loss: 0.5823 - acc: 0.8222\n",
      "Epoch 73/100\n",
      "55000/55000 - 2s - loss: 0.5628 - acc: 0.8282\n",
      "Epoch 74/100\n",
      "55000/55000 - 2s - loss: 0.5763 - acc: 0.8262\n",
      "Epoch 75/100\n",
      "55000/55000 - 2s - loss: 0.5461 - acc: 0.8399\n",
      "Epoch 76/100\n",
      "55000/55000 - 2s - loss: 0.5557 - acc: 0.8297\n",
      "Epoch 77/100\n",
      "55000/55000 - 2s - loss: 0.5690 - acc: 0.8223\n",
      "Epoch 78/100\n",
      "55000/55000 - 2s - loss: 0.5270 - acc: 0.8424\n",
      "Epoch 79/100\n",
      "55000/55000 - 2s - loss: 0.5186 - acc: 0.8474\n",
      "Epoch 80/100\n",
      "55000/55000 - 2s - loss: 0.5710 - acc: 0.8277\n",
      "Epoch 81/100\n",
      "55000/55000 - 2s - loss: 0.5932 - acc: 0.8169\n",
      "Epoch 82/100\n",
      "55000/55000 - 2s - loss: 0.5839 - acc: 0.8230\n",
      "Epoch 83/100\n",
      "55000/55000 - 2s - loss: 0.5685 - acc: 0.8265\n",
      "Epoch 84/100\n",
      "55000/55000 - 2s - loss: 0.5743 - acc: 0.8265\n",
      "Epoch 85/100\n",
      "55000/55000 - 2s - loss: 0.5602 - acc: 0.8324\n",
      "Epoch 86/100\n",
      "55000/55000 - 2s - loss: 0.5643 - acc: 0.8341\n",
      "Epoch 87/100\n",
      "55000/55000 - 2s - loss: 0.5863 - acc: 0.8237\n",
      "Epoch 88/100\n",
      "55000/55000 - 2s - loss: 0.5615 - acc: 0.8323\n",
      "Epoch 89/100\n",
      "55000/55000 - 2s - loss: 0.5669 - acc: 0.8268\n",
      "Epoch 90/100\n",
      "55000/55000 - 2s - loss: 0.5455 - acc: 0.8397\n",
      "Epoch 91/100\n",
      "55000/55000 - 2s - loss: 0.5585 - acc: 0.8329\n",
      "Epoch 92/100\n",
      "55000/55000 - 2s - loss: 0.5542 - acc: 0.8342\n",
      "Epoch 93/100\n",
      "55000/55000 - 2s - loss: 0.5958 - acc: 0.8125\n",
      "Epoch 94/100\n",
      "55000/55000 - 2s - loss: 0.5883 - acc: 0.8159\n",
      "Epoch 95/100\n",
      "55000/55000 - 2s - loss: 0.5409 - acc: 0.8377\n",
      "Epoch 96/100\n",
      "55000/55000 - 2s - loss: 0.5263 - acc: 0.8430\n",
      "Epoch 97/100\n",
      "55000/55000 - 2s - loss: 0.5313 - acc: 0.8393\n",
      "Epoch 98/100\n",
      "55000/55000 - 2s - loss: 0.5295 - acc: 0.8386\n",
      "Epoch 99/100\n",
      "55000/55000 - 2s - loss: 0.5385 - acc: 0.8332\n",
      "Epoch 100/100\n",
      "55000/55000 - 2s - loss: 0.5468 - acc: 0.8265\n"
     ]
    }
   ],
   "source": [
    "info = model.fit(X_train.astype(np.float32), Y_train, epochs = num_iters, verbose=2)"
   ]
  },
  {
   "cell_type": "code",
   "execution_count": 13,
   "metadata": {},
   "outputs": [],
   "source": [
    "loss_arr = info.history['loss']\n",
    "acc_arr = info.history['acc']"
   ]
  },
  {
   "cell_type": "markdown",
   "metadata": {},
   "source": [
    "#### Plotting Loss"
   ]
  },
  {
   "cell_type": "code",
   "execution_count": 14,
   "metadata": {},
   "outputs": [
    {
     "data": {
      "image/png": "[encoded data removed]",
      "text/plain": [
       "<Figure size 432x288 with 1 Axes>"
      ]
     },
     "metadata": {
      "needs_background": "light"
     },
     "output_type": "display_data"
    }
   ],
   "source": [
    "plot_loss(loss_arr)"
   ]
  },
  {
   "cell_type": "markdown",
   "metadata": {},
   "source": [
    "#### Plotting Accuracy"
   ]
  },
  {
   "cell_type": "code",
   "execution_count": 15,
   "metadata": {},
   "outputs": [
    {
     "data": {
      "image/png": "[encoded data removed]",
      "text/plain": [
       "<Figure size 432x288 with 1 Axes>"
      ]
     },
     "metadata": {
      "needs_background": "light"
     },
     "output_type": "display_data"
    }
   ],
   "source": [
    "plot_acc(acc_arr)"
   ]
  },
  {
   "cell_type": "markdown",
   "metadata": {},
   "source": [
    "#### Validation Loss and Accuracy"
   ]
  },
  {
   "cell_type": "code",
   "execution_count": 16,
   "metadata": {},
   "outputs": [
    {
     "name": "stdout",
     "output_type": "stream",
     "text": [
      "5000/5000 [==============================] - 0s 26us/sample - loss: 0.5707 - acc: 0.8174\n",
      "Validation Loss: 0.5707360449790955\n",
      "Validation Accuracy: 0.8174\n"
     ]
    }
   ],
   "source": [
    "val_loss, val_acc = model.evaluate(X_val.astype(np.float32), Y_val)\n",
    "print('Validation Loss: ' + str(val_loss))\n",
    "print('Validation Accuracy: ' + str(val_acc))"
   ]
  },
  {
   "cell_type": "markdown",
   "metadata": {},
   "source": [
    "### Model 2: Normalized Data"
   ]
  },
  {
   "cell_type": "markdown",
   "metadata": {},
   "source": [
    "#### Normalize the data"
   ]
  },
  {
   "cell_type": "code",
   "execution_count": 17,
   "metadata": {},
   "outputs": [],
   "source": [
    "X_train_n = X_train / 255.\n",
    "X_val_n = X_val / 255.\n",
    "X_test_n = X_test / 255."
   ]
  },
  {
   "cell_type": "markdown",
   "metadata": {},
   "source": [
    "#### Model"
   ]
  },
  {
   "cell_type": "code",
   "execution_count": 18,
   "metadata": {},
   "outputs": [],
   "source": [
    "model = tf.keras.Sequential([\n",
    "    tf.keras.layers.Dense(num_hidden_units, activation = tf.nn.sigmoid),\n",
    "    tf.keras.layers.Dense(output_size, activation = tf.nn.softmax)\n",
    "])"
   ]
  },
  {
   "cell_type": "code",
   "execution_count": 19,
   "metadata": {},
   "outputs": [],
   "source": [
    "optimizer = tf.keras.optimizers.SGD(learning_rate = learning_rate)\n",
    "model.compile(optimizer=optimizer, loss = 'sparse_categorical_crossentropy', metrics = ['accuracy'])"
   ]
  },
  {
   "cell_type": "markdown",
   "metadata": {},
   "source": [
    "#### Train the Model"
   ]
  },
  {
   "cell_type": "code",
   "execution_count": 20,
   "metadata": {},
   "outputs": [
    {
     "name": "stdout",
     "output_type": "stream",
     "text": [
      "Epoch 1/100\n",
      "55000/55000 - 2s - loss: 0.6339 - acc: 0.8519\n",
      "Epoch 2/100\n",
      "55000/55000 - 2s - loss: 0.3095 - acc: 0.9137\n",
      "Epoch 3/100\n",
      "55000/55000 - 2s - loss: 0.2591 - acc: 0.9268\n",
      "Epoch 4/100\n",
      "55000/55000 - 2s - loss: 0.2296 - acc: 0.9350\n",
      "Epoch 5/100\n",
      "55000/55000 - 2s - loss: 0.2088 - acc: 0.9411\n",
      "Epoch 6/100\n",
      "55000/55000 - 2s - loss: 0.1924 - acc: 0.9455\n",
      "Epoch 7/100\n",
      "55000/55000 - 2s - loss: 0.1798 - acc: 0.9486\n",
      "Epoch 8/100\n",
      "55000/55000 - 2s - loss: 0.1692 - acc: 0.9517\n",
      "Epoch 9/100\n",
      "55000/55000 - 2s - loss: 0.1603 - acc: 0.9544\n",
      "Epoch 10/100\n",
      "55000/55000 - 2s - loss: 0.1521 - acc: 0.9568\n",
      "Epoch 11/100\n",
      "55000/55000 - 2s - loss: 0.1457 - acc: 0.9584\n",
      "Epoch 12/100\n",
      "55000/55000 - 2s - loss: 0.1394 - acc: 0.9602\n",
      "Epoch 13/100\n",
      "55000/55000 - 2s - loss: 0.1339 - acc: 0.9623\n",
      "Epoch 14/100\n",
      "55000/55000 - 2s - loss: 0.1289 - acc: 0.9637\n",
      "Epoch 15/100\n",
      "55000/55000 - 2s - loss: 0.1244 - acc: 0.9649\n",
      "Epoch 16/100\n",
      "55000/55000 - 2s - loss: 0.1204 - acc: 0.9662\n",
      "Epoch 17/100\n",
      "55000/55000 - 2s - loss: 0.1167 - acc: 0.9673\n",
      "Epoch 18/100\n",
      "55000/55000 - 2s - loss: 0.1129 - acc: 0.9685\n",
      "Epoch 19/100\n",
      "55000/55000 - 2s - loss: 0.1098 - acc: 0.9689\n",
      "Epoch 20/100\n",
      "55000/55000 - 2s - loss: 0.1067 - acc: 0.9694\n",
      "Epoch 21/100\n",
      "55000/55000 - 2s - loss: 0.1040 - acc: 0.9709\n",
      "Epoch 22/100\n",
      "55000/55000 - 2s - loss: 0.1013 - acc: 0.9718\n",
      "Epoch 23/100\n",
      "55000/55000 - 2s - loss: 0.0986 - acc: 0.9722\n",
      "Epoch 24/100\n",
      "55000/55000 - 2s - loss: 0.0965 - acc: 0.9726\n",
      "Epoch 25/100\n",
      "55000/55000 - 2s - loss: 0.0940 - acc: 0.9731\n",
      "Epoch 26/100\n",
      "55000/55000 - 2s - loss: 0.0921 - acc: 0.9743\n",
      "Epoch 27/100\n",
      "55000/55000 - 2s - loss: 0.0898 - acc: 0.9749\n",
      "Epoch 28/100\n",
      "55000/55000 - 2s - loss: 0.0878 - acc: 0.9755\n",
      "Epoch 29/100\n",
      "55000/55000 - 2s - loss: 0.0862 - acc: 0.9759\n",
      "Epoch 30/100\n",
      "55000/55000 - 2s - loss: 0.0844 - acc: 0.9761\n",
      "Epoch 31/100\n",
      "55000/55000 - 2s - loss: 0.0827 - acc: 0.9770\n",
      "Epoch 32/100\n",
      "55000/55000 - 2s - loss: 0.0810 - acc: 0.9769\n",
      "Epoch 33/100\n",
      "55000/55000 - 2s - loss: 0.0796 - acc: 0.9777\n",
      "Epoch 34/100\n",
      "55000/55000 - 2s - loss: 0.0780 - acc: 0.9781\n",
      "Epoch 35/100\n",
      "55000/55000 - 2s - loss: 0.0765 - acc: 0.9789\n",
      "Epoch 36/100\n",
      "55000/55000 - 2s - loss: 0.0752 - acc: 0.9791\n",
      "Epoch 37/100\n",
      "55000/55000 - 2s - loss: 0.0739 - acc: 0.9787\n",
      "Epoch 38/100\n",
      "55000/55000 - 2s - loss: 0.0724 - acc: 0.9798\n",
      "Epoch 39/100\n",
      "55000/55000 - 2s - loss: 0.0714 - acc: 0.9800\n",
      "Epoch 40/100\n",
      "55000/55000 - 2s - loss: 0.0701 - acc: 0.9806\n",
      "Epoch 41/100\n",
      "55000/55000 - 2s - loss: 0.0689 - acc: 0.9810\n",
      "Epoch 42/100\n",
      "55000/55000 - 2s - loss: 0.0680 - acc: 0.9813\n",
      "Epoch 43/100\n",
      "55000/55000 - 2s - loss: 0.0666 - acc: 0.9819\n",
      "Epoch 44/100\n",
      "55000/55000 - 2s - loss: 0.0657 - acc: 0.9818\n",
      "Epoch 45/100\n",
      "55000/55000 - 2s - loss: 0.0648 - acc: 0.9822\n",
      "Epoch 46/100\n",
      "55000/55000 - 2s - loss: 0.0637 - acc: 0.9827\n",
      "Epoch 47/100\n",
      "55000/55000 - 2s - loss: 0.0626 - acc: 0.9828\n",
      "Epoch 48/100\n",
      "55000/55000 - 2s - loss: 0.0618 - acc: 0.9834\n",
      "Epoch 49/100\n",
      "55000/55000 - 2s - loss: 0.0608 - acc: 0.9836\n",
      "Epoch 50/100\n",
      "55000/55000 - 2s - loss: 0.0598 - acc: 0.9837\n",
      "Epoch 51/100\n",
      "55000/55000 - 2s - loss: 0.0590 - acc: 0.9840\n",
      "Epoch 52/100\n",
      "55000/55000 - 2s - loss: 0.0582 - acc: 0.9844\n",
      "Epoch 53/100\n",
      "55000/55000 - 2s - loss: 0.0573 - acc: 0.9843\n",
      "Epoch 54/100\n",
      "55000/55000 - 2s - loss: 0.0562 - acc: 0.9851\n",
      "Epoch 55/100\n",
      "55000/55000 - 2s - loss: 0.0556 - acc: 0.9854\n",
      "Epoch 56/100\n",
      "55000/55000 - 2s - loss: 0.0548 - acc: 0.9855\n",
      "Epoch 57/100\n",
      "55000/55000 - 2s - loss: 0.0538 - acc: 0.9861\n",
      "Epoch 58/100\n",
      "55000/55000 - 2s - loss: 0.0535 - acc: 0.9860\n",
      "Epoch 59/100\n",
      "55000/55000 - 2s - loss: 0.0524 - acc: 0.9866\n",
      "Epoch 60/100\n",
      "55000/55000 - 2s - loss: 0.0519 - acc: 0.9865\n",
      "Epoch 61/100\n",
      "55000/55000 - 2s - loss: 0.0510 - acc: 0.9870\n",
      "Epoch 62/100\n",
      "55000/55000 - 2s - loss: 0.0504 - acc: 0.9869\n",
      "Epoch 63/100\n",
      "55000/55000 - 2s - loss: 0.0498 - acc: 0.9872\n",
      "Epoch 64/100\n",
      "55000/55000 - 2s - loss: 0.0489 - acc: 0.9879\n",
      "Epoch 65/100\n",
      "55000/55000 - 2s - loss: 0.0485 - acc: 0.9878\n",
      "Epoch 66/100\n",
      "55000/55000 - 2s - loss: 0.0478 - acc: 0.9882\n",
      "Epoch 67/100\n",
      "55000/55000 - 2s - loss: 0.0472 - acc: 0.9882\n",
      "Epoch 68/100\n",
      "55000/55000 - 2s - loss: 0.0467 - acc: 0.9886\n",
      "Epoch 69/100\n",
      "55000/55000 - 2s - loss: 0.0460 - acc: 0.9885\n",
      "Epoch 70/100\n",
      "55000/55000 - 2s - loss: 0.0453 - acc: 0.9890\n",
      "Epoch 71/100\n",
      "55000/55000 - 2s - loss: 0.0448 - acc: 0.9894\n",
      "Epoch 72/100\n",
      "55000/55000 - 2s - loss: 0.0442 - acc: 0.9891\n",
      "Epoch 73/100\n",
      "55000/55000 - 2s - loss: 0.0438 - acc: 0.9894\n",
      "Epoch 74/100\n",
      "55000/55000 - 2s - loss: 0.0432 - acc: 0.9892\n",
      "Epoch 75/100\n",
      "55000/55000 - 2s - loss: 0.0427 - acc: 0.9895\n",
      "Epoch 76/100\n",
      "55000/55000 - 2s - loss: 0.0422 - acc: 0.9899\n",
      "Epoch 77/100\n",
      "55000/55000 - 2s - loss: 0.0416 - acc: 0.9903\n",
      "Epoch 78/100\n",
      "55000/55000 - 2s - loss: 0.0411 - acc: 0.9900\n",
      "Epoch 79/100\n",
      "55000/55000 - 2s - loss: 0.0405 - acc: 0.9905\n",
      "Epoch 80/100\n",
      "55000/55000 - 2s - loss: 0.0401 - acc: 0.9908\n",
      "Epoch 81/100\n",
      "55000/55000 - 2s - loss: 0.0397 - acc: 0.9906\n",
      "Epoch 82/100\n",
      "55000/55000 - 2s - loss: 0.0392 - acc: 0.9910\n",
      "Epoch 83/100\n",
      "55000/55000 - 2s - loss: 0.0387 - acc: 0.9911\n",
      "Epoch 84/100\n",
      "55000/55000 - 2s - loss: 0.0383 - acc: 0.9910\n",
      "Epoch 85/100\n",
      "55000/55000 - 2s - loss: 0.0379 - acc: 0.9912\n",
      "Epoch 86/100\n",
      "55000/55000 - 2s - loss: 0.0375 - acc: 0.9914\n",
      "Epoch 87/100\n",
      "55000/55000 - 2s - loss: 0.0369 - acc: 0.9916\n",
      "Epoch 88/100\n",
      "55000/55000 - 2s - loss: 0.0365 - acc: 0.9918\n",
      "Epoch 89/100\n",
      "55000/55000 - 2s - loss: 0.0364 - acc: 0.9916\n",
      "Epoch 90/100\n",
      "55000/55000 - 2s - loss: 0.0358 - acc: 0.9922\n",
      "Epoch 91/100\n",
      "55000/55000 - 2s - loss: 0.0350 - acc: 0.9925\n",
      "Epoch 92/100\n",
      "55000/55000 - 2s - loss: 0.0349 - acc: 0.9927\n",
      "Epoch 93/100\n",
      "55000/55000 - 2s - loss: 0.0346 - acc: 0.9925\n",
      "Epoch 94/100\n",
      "55000/55000 - 2s - loss: 0.0341 - acc: 0.9924\n",
      "Epoch 95/100\n",
      "55000/55000 - 2s - loss: 0.0338 - acc: 0.9928\n",
      "Epoch 96/100\n",
      "55000/55000 - 2s - loss: 0.0335 - acc: 0.9930\n",
      "Epoch 97/100\n",
      "55000/55000 - 2s - loss: 0.0329 - acc: 0.9933\n",
      "Epoch 98/100\n",
      "55000/55000 - 2s - loss: 0.0326 - acc: 0.9927\n",
      "Epoch 99/100\n",
      "55000/55000 - 2s - loss: 0.0324 - acc: 0.9930\n",
      "Epoch 100/100\n",
      "55000/55000 - 2s - loss: 0.0320 - acc: 0.9933\n"
     ]
    }
   ],
   "source": [
    "info = model.fit(X_train_n.astype(np.float32), Y_train, epochs=num_iters, verbose=2)"
   ]
  },
  {
   "cell_type": "code",
   "execution_count": 21,
   "metadata": {},
   "outputs": [],
   "source": [
    "loss_arr = info.history['loss']\n",
    "acc_arr = info.history['acc']"
   ]
  },
  {
   "cell_type": "markdown",
   "metadata": {},
   "source": [
    "#### Plotting Loss"
   ]
  },
  {
   "cell_type": "code",
   "execution_count": 22,
   "metadata": {},
   "outputs": [
    {
     "data": {
      "image/png": "[encoded data removed]",
      "text/plain": [
       "<Figure size 432x288 with 1 Axes>"
      ]
     },
     "metadata": {
      "needs_background": "light"
     },
     "output_type": "display_data"
    }
   ],
   "source": [
    "plot_loss(loss_arr)"
   ]
  },
  {
   "cell_type": "markdown",
   "metadata": {},
   "source": [
    "#### Plotting Accuracy"
   ]
  },
  {
   "cell_type": "code",
   "execution_count": 23,
   "metadata": {},
   "outputs": [
    {
     "data": {
      "image/png": "[encoded data removed]",
      "text/plain": [
       "<Figure size 432x288 with 1 Axes>"
      ]
     },
     "metadata": {
      "needs_background": "light"
     },
     "output_type": "display_data"
    }
   ],
   "source": [
    "plot_acc(acc_arr)"
   ]
  },
  {
   "cell_type": "markdown",
   "metadata": {},
   "source": [
    "#### Validation Loss and Accuracy"
   ]
  },
  {
   "cell_type": "code",
   "execution_count": 24,
   "metadata": {},
   "outputs": [
    {
     "name": "stdout",
     "output_type": "stream",
     "text": [
      "5000/5000 [==============================] - 0s 30us/sample - loss: 0.1341 - acc: 0.9596\n",
      "Validation Loss: 0.13405590852051974\n",
      "Validation Accuracy: 0.9596\n"
     ]
    }
   ],
   "source": [
    "val_loss, val_acc = model.evaluate(X_val_n.astype(np.float32), Y_val)\n",
    "print('Validation Loss: ' + str(val_loss))\n",
    "print('Validation Accuracy: ' + str(val_acc))"
   ]
  },
  {
   "cell_type": "markdown",
   "metadata": {},
   "source": [
    "## Summary of Models - I\n",
    "\n",
    "1. **Model1**: Unnormalized - Loss: 0.571, Acc: 0.817\n",
    "2. **Model2**: Normalized - Loss: 0.134, Acc: 0.960\n",
    "\n",
    "We can see that after normalizing the data to be between 0 and 1, the loss had decreased from 0.571 to 0.134 and the accuracy increased from 0.817 to 0.960 when trained for the same number of iterations (100) while keeping the model as well as optimizer (SGD) same.\n",
    "\n",
    "## Conclusion\n",
    "\n",
    "Hence, in further models, we will be using the normalized data"
   ]
  },
  {
   "cell_type": "markdown",
   "metadata": {},
   "source": [
    "## Models - II: Number of Hidden Layers"
   ]
  },
  {
   "cell_type": "markdown",
   "metadata": {},
   "source": [
    "### Model 1: Number of hidden layers = 1\n",
    "#### Already evaluated - Loss: 0.134, Acc: 0.960"
   ]
  },
  {
   "cell_type": "markdown",
   "metadata": {},
   "source": [
    "### Model 2: Number of hidden layers = 2"
   ]
  },
  {
   "cell_type": "markdown",
   "metadata": {},
   "source": [
    "#### Model"
   ]
  },
  {
   "cell_type": "code",
   "execution_count": 25,
   "metadata": {},
   "outputs": [],
   "source": [
    "model = tf.keras.Sequential([\n",
    "    tf.keras.layers.Dense(num_hidden_units, activation = tf.nn.sigmoid),\n",
    "    tf.keras.layers.Dense(num_hidden_units, activation = tf.nn.sigmoid),\n",
    "    tf.keras.layers.Dense(output_size, activation = tf.nn.softmax)\n",
    "])"
   ]
  },
  {
   "cell_type": "code",
   "execution_count": 26,
   "metadata": {},
   "outputs": [],
   "source": [
    "optimizer = tf.keras.optimizers.SGD(learning_rate = learning_rate)\n",
    "model.compile(optimizer=optimizer, loss = 'sparse_categorical_crossentropy', metrics = ['accuracy'])"
   ]
  },
  {
   "cell_type": "markdown",
   "metadata": {},
   "source": [
    "#### Train the Model"
   ]
  },
  {
   "cell_type": "code",
   "execution_count": 27,
   "metadata": {},
   "outputs": [
    {
     "name": "stdout",
     "output_type": "stream",
     "text": [
      "Epoch 1/100\n",
      "55000/55000 - 2s - loss: 1.1205 - acc: 0.6824\n",
      "Epoch 2/100\n",
      "55000/55000 - 2s - loss: 0.3779 - acc: 0.8970\n",
      "Epoch 3/100\n",
      "55000/55000 - 2s - loss: 0.2888 - acc: 0.9183\n",
      "Epoch 4/100\n",
      "55000/55000 - 2s - loss: 0.2426 - acc: 0.9307\n",
      "Epoch 5/100\n",
      "55000/55000 - 2s - loss: 0.2100 - acc: 0.9397\n",
      "Epoch 6/100\n",
      "55000/55000 - 2s - loss: 0.1867 - acc: 0.9462\n",
      "Epoch 7/100\n",
      "55000/55000 - 2s - loss: 0.1693 - acc: 0.9507\n",
      "Epoch 8/100\n",
      "55000/55000 - 2s - loss: 0.1556 - acc: 0.9553\n",
      "Epoch 9/100\n",
      "55000/55000 - 2s - loss: 0.1446 - acc: 0.9579\n",
      "Epoch 10/100\n",
      "55000/55000 - 2s - loss: 0.1352 - acc: 0.9607\n",
      "Epoch 11/100\n",
      "55000/55000 - 2s - loss: 0.1277 - acc: 0.9626\n",
      "Epoch 12/100\n",
      "55000/55000 - 2s - loss: 0.1208 - acc: 0.9644\n",
      "Epoch 13/100\n",
      "55000/55000 - 2s - loss: 0.1147 - acc: 0.9667\n",
      "Epoch 14/100\n",
      "55000/55000 - 2s - loss: 0.1098 - acc: 0.9682\n",
      "Epoch 15/100\n",
      "55000/55000 - 2s - loss: 0.1051 - acc: 0.9693\n",
      "Epoch 16/100\n",
      "55000/55000 - 2s - loss: 0.1004 - acc: 0.9710\n",
      "Epoch 17/100\n",
      "55000/55000 - 2s - loss: 0.0969 - acc: 0.9711\n",
      "Epoch 18/100\n",
      "55000/55000 - 2s - loss: 0.0927 - acc: 0.9733\n",
      "Epoch 19/100\n",
      "55000/55000 - 2s - loss: 0.0896 - acc: 0.9741\n",
      "Epoch 20/100\n",
      "55000/55000 - 2s - loss: 0.0860 - acc: 0.9753\n",
      "Epoch 21/100\n",
      "55000/55000 - 2s - loss: 0.0835 - acc: 0.9760\n",
      "Epoch 22/100\n",
      "55000/55000 - 2s - loss: 0.0800 - acc: 0.9769\n",
      "Epoch 23/100\n",
      "55000/55000 - 2s - loss: 0.0775 - acc: 0.9775\n",
      "Epoch 24/100\n",
      "55000/55000 - 2s - loss: 0.0751 - acc: 0.9783\n",
      "Epoch 25/100\n",
      "55000/55000 - 2s - loss: 0.0725 - acc: 0.9794\n",
      "Epoch 26/100\n",
      "55000/55000 - 2s - loss: 0.0701 - acc: 0.9797\n",
      "Epoch 27/100\n",
      "55000/55000 - 2s - loss: 0.0677 - acc: 0.9802\n",
      "Epoch 28/100\n",
      "55000/55000 - 2s - loss: 0.0658 - acc: 0.9812\n",
      "Epoch 29/100\n",
      "55000/55000 - 2s - loss: 0.0634 - acc: 0.9816\n",
      "Epoch 30/100\n",
      "55000/55000 - 2s - loss: 0.0622 - acc: 0.9817\n",
      "Epoch 31/100\n",
      "55000/55000 - 2s - loss: 0.0599 - acc: 0.9834\n",
      "Epoch 32/100\n",
      "55000/55000 - 2s - loss: 0.0581 - acc: 0.9838\n",
      "Epoch 33/100\n",
      "55000/55000 - 2s - loss: 0.0566 - acc: 0.9841\n",
      "Epoch 34/100\n",
      "55000/55000 - 2s - loss: 0.0550 - acc: 0.9844\n",
      "Epoch 35/100\n",
      "55000/55000 - 2s - loss: 0.0535 - acc: 0.9848\n",
      "Epoch 36/100\n",
      "55000/55000 - 2s - loss: 0.0520 - acc: 0.9856\n",
      "Epoch 37/100\n",
      "55000/55000 - 2s - loss: 0.0502 - acc: 0.9864\n",
      "Epoch 38/100\n",
      "55000/55000 - 2s - loss: 0.0492 - acc: 0.9868\n",
      "Epoch 39/100\n",
      "55000/55000 - 2s - loss: 0.0474 - acc: 0.9871\n",
      "Epoch 40/100\n",
      "55000/55000 - 2s - loss: 0.0465 - acc: 0.9877\n",
      "Epoch 41/100\n",
      "55000/55000 - 2s - loss: 0.0450 - acc: 0.9884\n",
      "Epoch 42/100\n",
      "55000/55000 - 2s - loss: 0.0436 - acc: 0.9881\n",
      "Epoch 43/100\n",
      "55000/55000 - 2s - loss: 0.0425 - acc: 0.9883\n",
      "Epoch 44/100\n",
      "55000/55000 - 2s - loss: 0.0416 - acc: 0.9894\n",
      "Epoch 45/100\n",
      "55000/55000 - 2s - loss: 0.0407 - acc: 0.9896\n",
      "Epoch 46/100\n",
      "55000/55000 - 2s - loss: 0.0393 - acc: 0.9901\n",
      "Epoch 47/100\n",
      "55000/55000 - 2s - loss: 0.0382 - acc: 0.9900\n",
      "Epoch 48/100\n",
      "55000/55000 - 2s - loss: 0.0375 - acc: 0.9902\n",
      "Epoch 49/100\n",
      "55000/55000 - 2s - loss: 0.0362 - acc: 0.9911\n",
      "Epoch 50/100\n",
      "55000/55000 - 2s - loss: 0.0352 - acc: 0.9916\n",
      "Epoch 51/100\n",
      "55000/55000 - 2s - loss: 0.0346 - acc: 0.9917\n",
      "Epoch 52/100\n",
      "55000/55000 - 2s - loss: 0.0335 - acc: 0.9919\n",
      "Epoch 53/100\n",
      "55000/55000 - 2s - loss: 0.0328 - acc: 0.9920\n",
      "Epoch 54/100\n",
      "55000/55000 - 2s - loss: 0.0321 - acc: 0.9923\n",
      "Epoch 55/100\n",
      "55000/55000 - 2s - loss: 0.0312 - acc: 0.9926\n",
      "Epoch 56/100\n",
      "55000/55000 - 2s - loss: 0.0305 - acc: 0.9930\n",
      "Epoch 57/100\n",
      "55000/55000 - 2s - loss: 0.0297 - acc: 0.9932\n",
      "Epoch 58/100\n",
      "55000/55000 - 2s - loss: 0.0289 - acc: 0.9934\n",
      "Epoch 59/100\n",
      "55000/55000 - 2s - loss: 0.0283 - acc: 0.9936\n",
      "Epoch 60/100\n",
      "55000/55000 - 2s - loss: 0.0275 - acc: 0.9941\n",
      "Epoch 61/100\n",
      "55000/55000 - 2s - loss: 0.0269 - acc: 0.9941\n",
      "Epoch 62/100\n",
      "55000/55000 - 2s - loss: 0.0260 - acc: 0.9944\n",
      "Epoch 63/100\n",
      "55000/55000 - 2s - loss: 0.0255 - acc: 0.9947\n",
      "Epoch 64/100\n",
      "55000/55000 - 2s - loss: 0.0249 - acc: 0.9945\n",
      "Epoch 65/100\n",
      "55000/55000 - 2s - loss: 0.0245 - acc: 0.9946\n",
      "Epoch 66/100\n",
      "55000/55000 - 2s - loss: 0.0236 - acc: 0.9952\n",
      "Epoch 67/100\n",
      "55000/55000 - 2s - loss: 0.0230 - acc: 0.9954\n",
      "Epoch 68/100\n",
      "55000/55000 - 2s - loss: 0.0228 - acc: 0.9953\n",
      "Epoch 69/100\n",
      "55000/55000 - 2s - loss: 0.0220 - acc: 0.9957\n",
      "Epoch 70/100\n",
      "55000/55000 - 2s - loss: 0.0217 - acc: 0.9958\n",
      "Epoch 71/100\n",
      "55000/55000 - 2s - loss: 0.0209 - acc: 0.9962\n",
      "Epoch 72/100\n",
      "55000/55000 - 2s - loss: 0.0205 - acc: 0.9961\n",
      "Epoch 73/100\n",
      "55000/55000 - 2s - loss: 0.0202 - acc: 0.9961\n",
      "Epoch 74/100\n",
      "55000/55000 - 2s - loss: 0.0194 - acc: 0.9964\n",
      "Epoch 75/100\n",
      "55000/55000 - 2s - loss: 0.0192 - acc: 0.9962\n",
      "Epoch 76/100\n",
      "55000/55000 - 2s - loss: 0.0190 - acc: 0.9965\n",
      "Epoch 77/100\n",
      "55000/55000 - 2s - loss: 0.0181 - acc: 0.9971\n",
      "Epoch 78/100\n",
      "55000/55000 - 2s - loss: 0.0178 - acc: 0.9968\n",
      "Epoch 79/100\n",
      "55000/55000 - 2s - loss: 0.0175 - acc: 0.9968\n",
      "Epoch 80/100\n",
      "55000/55000 - 2s - loss: 0.0170 - acc: 0.9972\n",
      "Epoch 81/100\n",
      "55000/55000 - 2s - loss: 0.0166 - acc: 0.9973\n",
      "Epoch 82/100\n",
      "55000/55000 - 2s - loss: 0.0162 - acc: 0.9974\n",
      "Epoch 83/100\n",
      "55000/55000 - 2s - loss: 0.0160 - acc: 0.9975\n",
      "Epoch 84/100\n",
      "55000/55000 - 2s - loss: 0.0157 - acc: 0.9973\n",
      "Epoch 85/100\n",
      "55000/55000 - 2s - loss: 0.0152 - acc: 0.9977\n",
      "Epoch 86/100\n",
      "55000/55000 - 2s - loss: 0.0148 - acc: 0.9977\n",
      "Epoch 87/100\n",
      "55000/55000 - 2s - loss: 0.0145 - acc: 0.9979\n",
      "Epoch 88/100\n",
      "55000/55000 - 2s - loss: 0.0142 - acc: 0.9978\n",
      "Epoch 89/100\n",
      "55000/55000 - 2s - loss: 0.0138 - acc: 0.9980\n",
      "Epoch 90/100\n",
      "55000/55000 - 2s - loss: 0.0135 - acc: 0.9981\n",
      "Epoch 91/100\n",
      "55000/55000 - 2s - loss: 0.0133 - acc: 0.9982\n",
      "Epoch 92/100\n",
      "55000/55000 - 2s - loss: 0.0129 - acc: 0.9982\n",
      "Epoch 93/100\n",
      "55000/55000 - 2s - loss: 0.0127 - acc: 0.9984\n",
      "Epoch 94/100\n",
      "55000/55000 - 2s - loss: 0.0125 - acc: 0.9982\n",
      "Epoch 95/100\n",
      "55000/55000 - 2s - loss: 0.0122 - acc: 0.9983\n",
      "Epoch 96/100\n",
      "55000/55000 - 2s - loss: 0.0118 - acc: 0.9984\n",
      "Epoch 97/100\n",
      "55000/55000 - 2s - loss: 0.0115 - acc: 0.9986\n",
      "Epoch 98/100\n",
      "55000/55000 - 2s - loss: 0.0113 - acc: 0.9986\n",
      "Epoch 99/100\n",
      "55000/55000 - 2s - loss: 0.0110 - acc: 0.9988\n",
      "Epoch 100/100\n",
      "55000/55000 - 2s - loss: 0.0109 - acc: 0.9988\n"
     ]
    }
   ],
   "source": [
    "info = model.fit(X_train_n.astype(np.float32), Y_train, epochs = num_iters, verbose=2)"
   ]
  },
  {
   "cell_type": "code",
   "execution_count": 28,
   "metadata": {},
   "outputs": [],
   "source": [
    "loss_arr = info.history['loss']\n",
    "acc_arr = info.history['acc']"
   ]
  },
  {
   "cell_type": "markdown",
   "metadata": {},
   "source": [
    "#### Plotting Loss"
   ]
  },
  {
   "cell_type": "code",
   "execution_count": 29,
   "metadata": {},
   "outputs": [
    {
     "data": {
      "image/png": "[encoded data removed]",
      "text/plain": [
       "<Figure size 432x288 with 1 Axes>"
      ]
     },
     "metadata": {
      "needs_background": "light"
     },
     "output_type": "display_data"
    }
   ],
   "source": [
    "plot_loss(loss_arr)"
   ]
  },
  {
   "cell_type": "markdown",
   "metadata": {},
   "source": [
    "#### Plotting Accuracy"
   ]
  },
  {
   "cell_type": "code",
   "execution_count": 30,
   "metadata": {},
   "outputs": [
    {
     "data": {
      "image/png": "[encoded data removed]",
      "text/plain": [
       "<Figure size 432x288 with 1 Axes>"
      ]
     },
     "metadata": {
      "needs_background": "light"
     },
     "output_type": "display_data"
    }
   ],
   "source": [
    "plot_acc(acc_arr)"
   ]
  },
  {
   "cell_type": "markdown",
   "metadata": {},
   "source": [
    "#### Validation Loss and Accuracy"
   ]
  },
  {
   "cell_type": "code",
   "execution_count": 31,
   "metadata": {},
   "outputs": [
    {
     "name": "stdout",
     "output_type": "stream",
     "text": [
      "5000/5000 [==============================] - 0s 29us/sample - loss: 0.1440 - acc: 0.9632\n",
      "Validation Loss: 0.14397144767045975\n",
      "Validation Accuracy: 0.9632\n"
     ]
    }
   ],
   "source": [
    "val_loss, val_acc = model.evaluate(X_val_n.astype(np.float32), Y_val)\n",
    "print('Validation Loss: ' + str(val_loss))\n",
    "print('Validation Accuracy: ' + str(val_acc))"
   ]
  },
  {
   "cell_type": "markdown",
   "metadata": {},
   "source": [
    "### Model 3: Number of hidden layers = 3"
   ]
  },
  {
   "cell_type": "markdown",
   "metadata": {},
   "source": [
    "#### Model"
   ]
  },
  {
   "cell_type": "code",
   "execution_count": 32,
   "metadata": {},
   "outputs": [],
   "source": [
    "model = tf.keras.Sequential([\n",
    "    tf.keras.layers.Dense(num_hidden_units, activation = tf.nn.sigmoid),\n",
    "    tf.keras.layers.Dense(num_hidden_units, activation = tf.nn.sigmoid),\n",
    "    tf.keras.layers.Dense(num_hidden_units, activation = tf.nn.sigmoid),\n",
    "    tf.keras.layers.Dense(output_size, activation = tf.nn.softmax)\n",
    "])"
   ]
  },
  {
   "cell_type": "code",
   "execution_count": 33,
   "metadata": {},
   "outputs": [],
   "source": [
    "optimizer = tf.keras.optimizers.SGD(learning_rate = learning_rate)\n",
    "model.compile(optimizer=optimizer, loss = 'sparse_categorical_crossentropy', metrics = ['accuracy'])"
   ]
  },
  {
   "cell_type": "markdown",
   "metadata": {},
   "source": [
    "#### Train the Model"
   ]
  },
  {
   "cell_type": "code",
   "execution_count": 34,
   "metadata": {},
   "outputs": [
    {
     "name": "stdout",
     "output_type": "stream",
     "text": [
      "Epoch 1/100\n",
      "55000/55000 - 2s - loss: 1.9751 - acc: 0.3099\n",
      "Epoch 2/100\n",
      "55000/55000 - 2s - loss: 0.7309 - acc: 0.7941\n",
      "Epoch 3/100\n",
      "55000/55000 - 2s - loss: 0.4498 - acc: 0.8765\n",
      "Epoch 4/100\n",
      "55000/55000 - 2s - loss: 0.3368 - acc: 0.9072\n",
      "Epoch 5/100\n",
      "55000/55000 - 2s - loss: 0.2650 - acc: 0.9269\n",
      "Epoch 6/100\n",
      "55000/55000 - 2s - loss: 0.2216 - acc: 0.9387\n",
      "Epoch 7/100\n",
      "55000/55000 - 2s - loss: 0.1933 - acc: 0.9456\n",
      "Epoch 8/100\n",
      "55000/55000 - 2s - loss: 0.1734 - acc: 0.9497\n",
      "Epoch 9/100\n",
      "55000/55000 - 2s - loss: 0.1587 - acc: 0.9539\n",
      "Epoch 10/100\n",
      "55000/55000 - 2s - loss: 0.1459 - acc: 0.9577\n",
      "Epoch 11/100\n",
      "55000/55000 - 2s - loss: 0.1363 - acc: 0.9604\n",
      "Epoch 12/100\n",
      "55000/55000 - 2s - loss: 0.1271 - acc: 0.9630\n",
      "Epoch 13/100\n",
      "55000/55000 - 2s - loss: 0.1203 - acc: 0.9651\n",
      "Epoch 14/100\n",
      "55000/55000 - 2s - loss: 0.1121 - acc: 0.9671\n",
      "Epoch 15/100\n",
      "55000/55000 - 2s - loss: 0.1067 - acc: 0.9681\n",
      "Epoch 16/100\n",
      "55000/55000 - 2s - loss: 0.1011 - acc: 0.9705\n",
      "Epoch 17/100\n",
      "55000/55000 - 2s - loss: 0.0967 - acc: 0.9718\n",
      "Epoch 18/100\n",
      "55000/55000 - 2s - loss: 0.0920 - acc: 0.9731\n",
      "Epoch 19/100\n",
      "55000/55000 - 2s - loss: 0.0881 - acc: 0.9741\n",
      "Epoch 20/100\n",
      "55000/55000 - 2s - loss: 0.0843 - acc: 0.9746\n",
      "Epoch 21/100\n",
      "55000/55000 - 2s - loss: 0.0810 - acc: 0.9756\n",
      "Epoch 22/100\n",
      "55000/55000 - 2s - loss: 0.0768 - acc: 0.9775\n",
      "Epoch 23/100\n",
      "55000/55000 - 2s - loss: 0.0747 - acc: 0.9782\n",
      "Epoch 24/100\n",
      "55000/55000 - 2s - loss: 0.0720 - acc: 0.9788\n",
      "Epoch 25/100\n",
      "55000/55000 - 2s - loss: 0.0685 - acc: 0.9804\n",
      "Epoch 26/100\n",
      "55000/55000 - 2s - loss: 0.0665 - acc: 0.9810\n",
      "Epoch 27/100\n",
      "55000/55000 - 2s - loss: 0.0635 - acc: 0.9814\n",
      "Epoch 28/100\n",
      "55000/55000 - 2s - loss: 0.0614 - acc: 0.9828\n",
      "Epoch 29/100\n",
      "55000/55000 - 2s - loss: 0.0592 - acc: 0.9832\n",
      "Epoch 30/100\n",
      "55000/55000 - 2s - loss: 0.0576 - acc: 0.9829\n",
      "Epoch 31/100\n",
      "55000/55000 - 2s - loss: 0.0556 - acc: 0.9835\n",
      "Epoch 32/100\n",
      "55000/55000 - 2s - loss: 0.0538 - acc: 0.9848\n",
      "Epoch 33/100\n",
      "55000/55000 - 2s - loss: 0.0518 - acc: 0.9849\n",
      "Epoch 34/100\n",
      "55000/55000 - 2s - loss: 0.0503 - acc: 0.9857\n",
      "Epoch 35/100\n",
      "55000/55000 - 2s - loss: 0.0489 - acc: 0.9860\n",
      "Epoch 36/100\n",
      "55000/55000 - 2s - loss: 0.0471 - acc: 0.9862\n",
      "Epoch 37/100\n",
      "55000/55000 - 2s - loss: 0.0458 - acc: 0.9873\n",
      "Epoch 38/100\n",
      "55000/55000 - 2s - loss: 0.0441 - acc: 0.9874\n",
      "Epoch 39/100\n",
      "55000/55000 - 2s - loss: 0.0430 - acc: 0.9873\n",
      "Epoch 40/100\n",
      "55000/55000 - 2s - loss: 0.0413 - acc: 0.9884\n",
      "Epoch 41/100\n",
      "55000/55000 - 2s - loss: 0.0404 - acc: 0.9885\n",
      "Epoch 42/100\n",
      "55000/55000 - 2s - loss: 0.0394 - acc: 0.9893\n",
      "Epoch 43/100\n",
      "55000/55000 - 2s - loss: 0.0376 - acc: 0.9894\n",
      "Epoch 44/100\n",
      "55000/55000 - 2s - loss: 0.0357 - acc: 0.9905\n",
      "Epoch 45/100\n",
      "55000/55000 - 2s - loss: 0.0355 - acc: 0.9905\n",
      "Epoch 46/100\n",
      "55000/55000 - 2s - loss: 0.0346 - acc: 0.9903\n",
      "Epoch 47/100\n",
      "55000/55000 - 2s - loss: 0.0331 - acc: 0.9909\n",
      "Epoch 48/100\n",
      "55000/55000 - 2s - loss: 0.0327 - acc: 0.9910\n",
      "Epoch 49/100\n",
      "55000/55000 - 2s - loss: 0.0308 - acc: 0.9914\n",
      "Epoch 50/100\n",
      "55000/55000 - 2s - loss: 0.0300 - acc: 0.9921\n",
      "Epoch 51/100\n",
      "55000/55000 - 2s - loss: 0.0298 - acc: 0.9921\n",
      "Epoch 52/100\n",
      "55000/55000 - 2s - loss: 0.0285 - acc: 0.9925\n",
      "Epoch 53/100\n",
      "55000/55000 - 2s - loss: 0.0275 - acc: 0.9929\n",
      "Epoch 54/100\n",
      "55000/55000 - 2s - loss: 0.0263 - acc: 0.9932\n",
      "Epoch 55/100\n",
      "55000/55000 - 2s - loss: 0.0263 - acc: 0.9931\n",
      "Epoch 56/100\n",
      "55000/55000 - 2s - loss: 0.0248 - acc: 0.9933\n",
      "Epoch 57/100\n",
      "55000/55000 - 2s - loss: 0.0245 - acc: 0.9937\n",
      "Epoch 58/100\n",
      "55000/55000 - 2s - loss: 0.0236 - acc: 0.9943\n",
      "Epoch 59/100\n",
      "55000/55000 - 2s - loss: 0.0224 - acc: 0.9947\n",
      "Epoch 60/100\n",
      "55000/55000 - 2s - loss: 0.0219 - acc: 0.9951\n",
      "Epoch 61/100\n",
      "55000/55000 - 2s - loss: 0.0216 - acc: 0.9948\n",
      "Epoch 62/100\n",
      "55000/55000 - 2s - loss: 0.0209 - acc: 0.9948\n",
      "Epoch 63/100\n",
      "55000/55000 - 2s - loss: 0.0201 - acc: 0.9951\n",
      "Epoch 64/100\n",
      "55000/55000 - 2s - loss: 0.0195 - acc: 0.9955\n",
      "Epoch 65/100\n",
      "55000/55000 - 2s - loss: 0.0185 - acc: 0.9959\n",
      "Epoch 66/100\n",
      "55000/55000 - 2s - loss: 0.0184 - acc: 0.9956\n",
      "Epoch 67/100\n",
      "55000/55000 - 2s - loss: 0.0174 - acc: 0.9957\n",
      "Epoch 68/100\n",
      "55000/55000 - 2s - loss: 0.0173 - acc: 0.9960\n",
      "Epoch 69/100\n",
      "55000/55000 - 2s - loss: 0.0168 - acc: 0.9962\n",
      "Epoch 70/100\n",
      "55000/55000 - 2s - loss: 0.0161 - acc: 0.9962\n",
      "Epoch 71/100\n",
      "55000/55000 - 2s - loss: 0.0149 - acc: 0.9969\n",
      "Epoch 72/100\n",
      "55000/55000 - 2s - loss: 0.0149 - acc: 0.9966\n",
      "Epoch 73/100\n",
      "55000/55000 - 2s - loss: 0.0148 - acc: 0.9965\n",
      "Epoch 74/100\n",
      "55000/55000 - 2s - loss: 0.0139 - acc: 0.9973\n",
      "Epoch 75/100\n",
      "55000/55000 - 2s - loss: 0.0134 - acc: 0.9972\n",
      "Epoch 76/100\n",
      "55000/55000 - 2s - loss: 0.0129 - acc: 0.9974\n",
      "Epoch 77/100\n",
      "55000/55000 - 2s - loss: 0.0119 - acc: 0.9980\n",
      "Epoch 78/100\n",
      "55000/55000 - 2s - loss: 0.0113 - acc: 0.9980\n",
      "Epoch 79/100\n",
      "55000/55000 - 2s - loss: 0.0119 - acc: 0.9976\n",
      "Epoch 80/100\n",
      "55000/55000 - 2s - loss: 0.0108 - acc: 0.9981\n",
      "Epoch 81/100\n",
      "55000/55000 - 2s - loss: 0.0109 - acc: 0.9980\n",
      "Epoch 82/100\n",
      "55000/55000 - 2s - loss: 0.0106 - acc: 0.9979\n",
      "Epoch 83/100\n",
      "55000/55000 - 2s - loss: 0.0099 - acc: 0.9982\n",
      "Epoch 84/100\n",
      "55000/55000 - 2s - loss: 0.0094 - acc: 0.9984\n",
      "Epoch 85/100\n",
      "55000/55000 - 2s - loss: 0.0089 - acc: 0.9987\n",
      "Epoch 86/100\n",
      "55000/55000 - 2s - loss: 0.0087 - acc: 0.9986\n",
      "Epoch 87/100\n",
      "55000/55000 - 2s - loss: 0.0082 - acc: 0.9989\n",
      "Epoch 88/100\n",
      "55000/55000 - 2s - loss: 0.0084 - acc: 0.9986\n",
      "Epoch 89/100\n",
      "55000/55000 - 2s - loss: 0.0078 - acc: 0.9989\n",
      "Epoch 90/100\n",
      "55000/55000 - 2s - loss: 0.0075 - acc: 0.9990\n",
      "Epoch 91/100\n",
      "55000/55000 - 2s - loss: 0.0073 - acc: 0.9989\n",
      "Epoch 92/100\n",
      "55000/55000 - 2s - loss: 0.0075 - acc: 0.9989\n",
      "Epoch 93/100\n",
      "55000/55000 - 2s - loss: 0.0069 - acc: 0.9991\n",
      "Epoch 94/100\n",
      "55000/55000 - 2s - loss: 0.0065 - acc: 0.9993\n",
      "Epoch 95/100\n",
      "55000/55000 - 2s - loss: 0.0063 - acc: 0.9994\n",
      "Epoch 96/100\n",
      "55000/55000 - 2s - loss: 0.0061 - acc: 0.9994\n",
      "Epoch 97/100\n",
      "55000/55000 - 2s - loss: 0.0061 - acc: 0.9993\n",
      "Epoch 98/100\n",
      "55000/55000 - 2s - loss: 0.0055 - acc: 0.9995\n",
      "Epoch 99/100\n",
      "55000/55000 - 2s - loss: 0.0052 - acc: 0.9996\n",
      "Epoch 100/100\n",
      "55000/55000 - 2s - loss: 0.0051 - acc: 0.9996\n"
     ]
    }
   ],
   "source": [
    "info = model.fit(X_train_n.astype(np.float32), Y_train, epochs = num_iters, verbose=2)"
   ]
  },
  {
   "cell_type": "code",
   "execution_count": 35,
   "metadata": {},
   "outputs": [],
   "source": [
    "loss_arr = info.history['loss']\n",
    "acc_arr = info.history['acc']"
   ]
  },
  {
   "cell_type": "markdown",
   "metadata": {},
   "source": [
    "#### Plotting Loss"
   ]
  },
  {
   "cell_type": "code",
   "execution_count": 36,
   "metadata": {},
   "outputs": [
    {
     "data": {
      "image/png": "[encoded data removed]",
      "text/plain": [
       "<Figure size 432x288 with 1 Axes>"
      ]
     },
     "metadata": {
      "needs_background": "light"
     },
     "output_type": "display_data"
    }
   ],
   "source": [
    "plot_loss(loss_arr)"
   ]
  },
  {
   "cell_type": "markdown",
   "metadata": {},
   "source": [
    "#### Plotting Accuracy"
   ]
  },
  {
   "cell_type": "code",
   "execution_count": 37,
   "metadata": {},
   "outputs": [
    {
     "data": {
      "image/png": "[encoded data removed]",
      "text/plain": [
       "<Figure size 432x288 with 1 Axes>"
      ]
     },
     "metadata": {
      "needs_background": "light"
     },
     "output_type": "display_data"
    }
   ],
   "source": [
    "plot_acc(acc_arr)"
   ]
  },
  {
   "cell_type": "markdown",
   "metadata": {},
   "source": [
    "#### Validation Loss and Accuracy"
   ]
  },
  {
   "cell_type": "code",
   "execution_count": 38,
   "metadata": {},
   "outputs": [
    {
     "name": "stdout",
     "output_type": "stream",
     "text": [
      "5000/5000 [==============================] - 0s 31us/sample - loss: 0.1771 - acc: 0.9644\n",
      "Validation Loss: 0.17707076184735634\n",
      "Validation Accuracy: 0.9644\n"
     ]
    }
   ],
   "source": [
    "val_loss, val_acc = model.evaluate(X_val_n.astype(np.float32), Y_val)\n",
    "print('Validation Loss: ' + str(val_loss))\n",
    "print('Validation Accuracy: ' + str(val_acc))"
   ]
  },
  {
   "cell_type": "markdown",
   "metadata": {},
   "source": [
    "## Summary of Models - II\n",
    "\n",
    "1. **Model1**: 1 Hidden Layer - Loss: 0.134, Acc: 0.960\n",
    "2. **Model2**: 2 Hidden Layers - Loss: 0.144, Acc: 0.963\n",
    "2. **Model3**: 3 Hidden Layers - Loss: 0.177, Acc: 0.964\n",
    "\n",
    "We can see that when we have increased the number of hidden layers to 2, the loss had increased from 0.134 to 0.144 and the accuracy increased from 0.960 to 0.963 and when we had increased the hidden layers to 3, the loss had increased to 0.177, while the accuracy increased to 0.964. Hence, since we observe a pattern - loss increases and accuracy increases in this case, it would be better if we chose the intermediate model - that is the one with 2 hidden layers.\n",
    "\n",
    "## Conclusion\n",
    "\n",
    "Since the model with 2 hidden layers gave us intermediate results in terms of both loss and accuracy, we will be selecting among further models which have 2 hidden layers"
   ]
  },
  {
   "cell_type": "markdown",
   "metadata": {},
   "source": [
    "## Models - III: Learning Rate"
   ]
  },
  {
   "cell_type": "markdown",
   "metadata": {},
   "source": [
    "### Model 1: Learning rate = 0.1\n",
    "#### Already evaluated - Loss: 0.144, Acc: 0.963"
   ]
  },
  {
   "cell_type": "markdown",
   "metadata": {},
   "source": [
    "### Model 2: Learning rate = 0.001"
   ]
  },
  {
   "cell_type": "markdown",
   "metadata": {},
   "source": [
    "#### Hyperparameters (that have changed)"
   ]
  },
  {
   "cell_type": "code",
   "execution_count": 39,
   "metadata": {},
   "outputs": [],
   "source": [
    "learning_rate = 0.001"
   ]
  },
  {
   "cell_type": "markdown",
   "metadata": {},
   "source": [
    "#### Model"
   ]
  },
  {
   "cell_type": "code",
   "execution_count": 40,
   "metadata": {},
   "outputs": [],
   "source": [
    "model = tf.keras.Sequential([\n",
    "    tf.keras.layers.Dense(num_hidden_units, activation = tf.nn.sigmoid),\n",
    "    tf.keras.layers.Dense(num_hidden_units, activation = tf.nn.sigmoid),\n",
    "    tf.keras.layers.Dense(output_size, activation = tf.nn.softmax)\n",
    "])"
   ]
  },
  {
   "cell_type": "code",
   "execution_count": 41,
   "metadata": {},
   "outputs": [],
   "source": [
    "optimizer = tf.keras.optimizers.SGD(learning_rate = learning_rate)\n",
    "model.compile(optimizer=optimizer, loss = 'sparse_categorical_crossentropy', metrics = ['accuracy'])"
   ]
  },
  {
   "cell_type": "markdown",
   "metadata": {},
   "source": [
    "#### Train the Model"
   ]
  },
  {
   "cell_type": "code",
   "execution_count": 42,
   "metadata": {},
   "outputs": [
    {
     "name": "stdout",
     "output_type": "stream",
     "text": [
      "Epoch 1/100\n",
      "55000/55000 - 2s - loss: 2.3190 - acc: 0.1051\n",
      "Epoch 2/100\n",
      "55000/55000 - 2s - loss: 2.2834 - acc: 0.1346\n",
      "Epoch 3/100\n",
      "55000/55000 - 2s - loss: 2.2714 - acc: 0.1930\n",
      "Epoch 4/100\n",
      "55000/55000 - 2s - loss: 2.2597 - acc: 0.2349\n",
      "Epoch 5/100\n",
      "55000/55000 - 2s - loss: 2.2471 - acc: 0.2637\n",
      "Epoch 6/100\n",
      "55000/55000 - 2s - loss: 2.2333 - acc: 0.2765\n",
      "Epoch 7/100\n",
      "55000/55000 - 2s - loss: 2.2181 - acc: 0.2977\n",
      "Epoch 8/100\n",
      "55000/55000 - 2s - loss: 2.2011 - acc: 0.3207\n",
      "Epoch 9/100\n",
      "55000/55000 - 2s - loss: 2.1822 - acc: 0.3348\n",
      "Epoch 10/100\n",
      "55000/55000 - 2s - loss: 2.1611 - acc: 0.3507\n",
      "Epoch 11/100\n",
      "55000/55000 - 2s - loss: 2.1377 - acc: 0.3694\n",
      "Epoch 12/100\n",
      "55000/55000 - 2s - loss: 2.1120 - acc: 0.3763\n",
      "Epoch 13/100\n",
      "55000/55000 - 2s - loss: 2.0838 - acc: 0.3906\n",
      "Epoch 14/100\n",
      "55000/55000 - 2s - loss: 2.0535 - acc: 0.4064\n",
      "Epoch 15/100\n",
      "55000/55000 - 4s - loss: 2.0212 - acc: 0.4182\n",
      "Epoch 16/100\n",
      "55000/55000 - 2s - loss: 1.9871 - acc: 0.4386\n",
      "Epoch 17/100\n",
      "55000/55000 - 2s - loss: 1.9517 - acc: 0.4490\n",
      "Epoch 18/100\n",
      "55000/55000 - 2s - loss: 1.9151 - acc: 0.4700\n",
      "Epoch 19/100\n",
      "55000/55000 - 2s - loss: 1.8777 - acc: 0.4861\n",
      "Epoch 20/100\n",
      "55000/55000 - 2s - loss: 1.8394 - acc: 0.5033\n",
      "Epoch 21/100\n",
      "55000/55000 - 2s - loss: 1.8005 - acc: 0.5164\n",
      "Epoch 22/100\n",
      "55000/55000 - 2s - loss: 1.7610 - acc: 0.5293\n",
      "Epoch 23/100\n",
      "55000/55000 - 2s - loss: 1.7210 - acc: 0.5513\n",
      "Epoch 24/100\n",
      "55000/55000 - 2s - loss: 1.6805 - acc: 0.5627\n",
      "Epoch 25/100\n",
      "55000/55000 - 2s - loss: 1.6397 - acc: 0.5799\n",
      "Epoch 26/100\n",
      "55000/55000 - 2s - loss: 1.5988 - acc: 0.5935\n",
      "Epoch 27/100\n",
      "55000/55000 - 2s - loss: 1.5579 - acc: 0.6058\n",
      "Epoch 28/100\n",
      "55000/55000 - 2s - loss: 1.5172 - acc: 0.6164\n",
      "Epoch 29/100\n",
      "55000/55000 - 2s - loss: 1.4770 - acc: 0.6329\n",
      "Epoch 30/100\n",
      "55000/55000 - 2s - loss: 1.4375 - acc: 0.6437\n",
      "Epoch 31/100\n",
      "55000/55000 - 2s - loss: 1.3989 - acc: 0.6557\n",
      "Epoch 32/100\n",
      "55000/55000 - 2s - loss: 1.3613 - acc: 0.6671\n",
      "Epoch 33/100\n",
      "55000/55000 - 2s - loss: 1.3249 - acc: 0.6757\n",
      "Epoch 34/100\n",
      "55000/55000 - 2s - loss: 1.2897 - acc: 0.6863\n",
      "Epoch 35/100\n",
      "55000/55000 - 2s - loss: 1.2560 - acc: 0.6937\n",
      "Epoch 36/100\n",
      "55000/55000 - 2s - loss: 1.2237 - acc: 0.7035\n",
      "Epoch 37/100\n",
      "55000/55000 - 2s - loss: 1.1929 - acc: 0.7095\n",
      "Epoch 38/100\n",
      "55000/55000 - 2s - loss: 1.1636 - acc: 0.7154\n",
      "Epoch 39/100\n",
      "55000/55000 - 2s - loss: 1.1357 - acc: 0.7215\n",
      "Epoch 40/100\n",
      "55000/55000 - 2s - loss: 1.1092 - acc: 0.7290\n",
      "Epoch 41/100\n",
      "55000/55000 - 2s - loss: 1.0841 - acc: 0.7326\n",
      "Epoch 42/100\n",
      "55000/55000 - 2s - loss: 1.0603 - acc: 0.7381\n",
      "Epoch 43/100\n",
      "55000/55000 - 2s - loss: 1.0377 - acc: 0.7418\n",
      "Epoch 44/100\n",
      "55000/55000 - 2s - loss: 1.0162 - acc: 0.7473\n",
      "Epoch 45/100\n",
      "55000/55000 - 2s - loss: 0.9957 - acc: 0.7504\n",
      "Epoch 46/100\n",
      "55000/55000 - 2s - loss: 0.9762 - acc: 0.7558\n",
      "Epoch 47/100\n",
      "55000/55000 - 2s - loss: 0.9576 - acc: 0.7589\n",
      "Epoch 48/100\n",
      "55000/55000 - 2s - loss: 0.9398 - acc: 0.7626\n",
      "Epoch 49/100\n",
      "55000/55000 - 2s - loss: 0.9228 - acc: 0.7667\n",
      "Epoch 50/100\n",
      "55000/55000 - 2s - loss: 0.9065 - acc: 0.7704\n",
      "Epoch 51/100\n",
      "55000/55000 - 2s - loss: 0.8908 - acc: 0.7745\n",
      "Epoch 52/100\n",
      "55000/55000 - 2s - loss: 0.8757 - acc: 0.7776\n",
      "Epoch 53/100\n",
      "55000/55000 - 2s - loss: 0.8611 - acc: 0.7808\n",
      "Epoch 54/100\n",
      "55000/55000 - 2s - loss: 0.8471 - acc: 0.7841\n",
      "Epoch 55/100\n",
      "55000/55000 - 2s - loss: 0.8335 - acc: 0.7880\n",
      "Epoch 56/100\n",
      "55000/55000 - 2s - loss: 0.8204 - acc: 0.7905\n",
      "Epoch 57/100\n",
      "55000/55000 - 2s - loss: 0.8077 - acc: 0.7942\n",
      "Epoch 58/100\n",
      "55000/55000 - 2s - loss: 0.7953 - acc: 0.7970\n",
      "Epoch 59/100\n",
      "55000/55000 - 2s - loss: 0.7834 - acc: 0.8010\n",
      "Epoch 60/100\n",
      "55000/55000 - 2s - loss: 0.7717 - acc: 0.8036\n",
      "Epoch 61/100\n",
      "55000/55000 - 2s - loss: 0.7604 - acc: 0.8072\n",
      "Epoch 62/100\n",
      "55000/55000 - 2s - loss: 0.7494 - acc: 0.8100\n",
      "Epoch 63/100\n",
      "55000/55000 - 2s - loss: 0.7387 - acc: 0.8131\n",
      "Epoch 64/100\n",
      "55000/55000 - 2s - loss: 0.7282 - acc: 0.8160\n",
      "Epoch 65/100\n",
      "55000/55000 - 2s - loss: 0.7180 - acc: 0.8189\n",
      "Epoch 66/100\n",
      "55000/55000 - 2s - loss: 0.7081 - acc: 0.8210\n",
      "Epoch 67/100\n",
      "55000/55000 - 2s - loss: 0.6984 - acc: 0.8245\n",
      "Epoch 68/100\n",
      "55000/55000 - 2s - loss: 0.6889 - acc: 0.8267\n",
      "Epoch 69/100\n",
      "55000/55000 - 2s - loss: 0.6797 - acc: 0.8288\n",
      "Epoch 70/100\n",
      "55000/55000 - 2s - loss: 0.6706 - acc: 0.8318\n",
      "Epoch 71/100\n",
      "55000/55000 - 2s - loss: 0.6618 - acc: 0.8337\n",
      "Epoch 72/100\n",
      "55000/55000 - 2s - loss: 0.6532 - acc: 0.8360\n",
      "Epoch 73/100\n",
      "55000/55000 - 2s - loss: 0.6448 - acc: 0.8377\n",
      "Epoch 74/100\n",
      "55000/55000 - 2s - loss: 0.6366 - acc: 0.8400\n",
      "Epoch 75/100\n",
      "55000/55000 - 2s - loss: 0.6286 - acc: 0.8421\n",
      "Epoch 76/100\n",
      "55000/55000 - 2s - loss: 0.6207 - acc: 0.8447\n",
      "Epoch 77/100\n",
      "55000/55000 - 2s - loss: 0.6131 - acc: 0.8467\n",
      "Epoch 78/100\n",
      "55000/55000 - 2s - loss: 0.6057 - acc: 0.8489\n",
      "Epoch 79/100\n",
      "55000/55000 - 2s - loss: 0.5984 - acc: 0.8509\n",
      "Epoch 80/100\n",
      "55000/55000 - 2s - loss: 0.5913 - acc: 0.8525\n",
      "Epoch 81/100\n",
      "55000/55000 - 2s - loss: 0.5844 - acc: 0.8549\n",
      "Epoch 82/100\n",
      "55000/55000 - 2s - loss: 0.5777 - acc: 0.8565\n",
      "Epoch 83/100\n",
      "55000/55000 - 2s - loss: 0.5711 - acc: 0.8583\n",
      "Epoch 84/100\n",
      "55000/55000 - 2s - loss: 0.5647 - acc: 0.8603\n",
      "Epoch 85/100\n",
      "55000/55000 - 2s - loss: 0.5585 - acc: 0.8616\n",
      "Epoch 86/100\n",
      "55000/55000 - 2s - loss: 0.5524 - acc: 0.8631\n",
      "Epoch 87/100\n",
      "55000/55000 - 2s - loss: 0.5465 - acc: 0.8644\n",
      "Epoch 88/100\n",
      "55000/55000 - 2s - loss: 0.5407 - acc: 0.8654\n",
      "Epoch 89/100\n",
      "55000/55000 - 2s - loss: 0.5351 - acc: 0.8668\n",
      "Epoch 90/100\n",
      "55000/55000 - 2s - loss: 0.5297 - acc: 0.8679\n",
      "Epoch 91/100\n",
      "55000/55000 - 2s - loss: 0.5244 - acc: 0.8689\n",
      "Epoch 92/100\n",
      "55000/55000 - 2s - loss: 0.5192 - acc: 0.8700\n",
      "Epoch 93/100\n",
      "55000/55000 - 2s - loss: 0.5142 - acc: 0.8709\n",
      "Epoch 94/100\n",
      "55000/55000 - 2s - loss: 0.5093 - acc: 0.8719\n",
      "Epoch 95/100\n",
      "55000/55000 - 2s - loss: 0.5045 - acc: 0.8727\n",
      "Epoch 96/100\n",
      "55000/55000 - 2s - loss: 0.4998 - acc: 0.8740\n",
      "Epoch 97/100\n",
      "55000/55000 - 2s - loss: 0.4953 - acc: 0.8747\n",
      "Epoch 98/100\n",
      "55000/55000 - 2s - loss: 0.4909 - acc: 0.8756\n",
      "Epoch 99/100\n",
      "55000/55000 - 2s - loss: 0.4866 - acc: 0.8765\n",
      "Epoch 100/100\n",
      "55000/55000 - 2s - loss: 0.4825 - acc: 0.8774\n"
     ]
    }
   ],
   "source": [
    "info = model.fit(X_train_n.astype(np.float32), Y_train, epochs = num_iters, verbose=2)"
   ]
  },
  {
   "cell_type": "markdown",
   "metadata": {},
   "source": [
    "#### Plotting Loss"
   ]
  },
  {
   "cell_type": "code",
   "execution_count": 43,
   "metadata": {},
   "outputs": [
    {
     "data": {
      "image/png": "[encoded data removed]",
      "text/plain": [
       "<Figure size 432x288 with 1 Axes>"
      ]
     },
     "metadata": {
      "needs_background": "light"
     },
     "output_type": "display_data"
    }
   ],
   "source": [
    "plot_loss(loss_arr)"
   ]
  },
  {
   "cell_type": "markdown",
   "metadata": {},
   "source": [
    "#### Plotting Accuracy"
   ]
  },
  {
   "cell_type": "code",
   "execution_count": 44,
   "metadata": {},
   "outputs": [
    {
     "data": {
      "image/png": "[encoded data removed]",
      "text/plain": [
       "<Figure size 432x288 with 1 Axes>"
      ]
     },
     "metadata": {
      "needs_background": "light"
     },
     "output_type": "display_data"
    }
   ],
   "source": [
    "plot_acc(acc_arr)"
   ]
  },
  {
   "cell_type": "markdown",
   "metadata": {},
   "source": [
    "#### Validation Loss and Accuracy"
   ]
  },
  {
   "cell_type": "code",
   "execution_count": 45,
   "metadata": {},
   "outputs": [
    {
     "name": "stdout",
     "output_type": "stream",
     "text": [
      "5000/5000 [==============================] - 0s 31us/sample - loss: 0.4958 - acc: 0.8758\n",
      "Validation Loss: 0.4957890716552734\n",
      "Validation Accuracy: 0.8758\n"
     ]
    }
   ],
   "source": [
    "val_loss, val_acc = model.evaluate(X_val_n.astype(np.float32), Y_val)\n",
    "print('Validation Loss: ' + str(val_loss))\n",
    "print('Validation Accuracy: ' + str(val_acc))"
   ]
  },
  {
   "cell_type": "markdown",
   "metadata": {},
   "source": [
    "### Model 3: Learning rate = 0.0001"
   ]
  },
  {
   "cell_type": "markdown",
   "metadata": {},
   "source": [
    "#### Hyperparameters (that have changed)"
   ]
  },
  {
   "cell_type": "code",
   "execution_count": 46,
   "metadata": {},
   "outputs": [],
   "source": [
    "learning_rate = 0.0001"
   ]
  },
  {
   "cell_type": "markdown",
   "metadata": {},
   "source": [
    "#### Model"
   ]
  },
  {
   "cell_type": "code",
   "execution_count": 47,
   "metadata": {},
   "outputs": [],
   "source": [
    "model = tf.keras.Sequential([\n",
    "    tf.keras.layers.Dense(num_hidden_units, activation = tf.nn.sigmoid),\n",
    "    tf.keras.layers.Dense(num_hidden_units, activation = tf.nn.sigmoid),\n",
    "    tf.keras.layers.Dense(output_size, activation = tf.nn.softmax)\n",
    "])"
   ]
  },
  {
   "cell_type": "code",
   "execution_count": 48,
   "metadata": {},
   "outputs": [],
   "source": [
    "optimizer = tf.keras.optimizers.SGD(learning_rate = learning_rate)\n",
    "model.compile(optimizer=optimizer, loss = 'sparse_categorical_crossentropy', metrics = ['accuracy'])"
   ]
  },
  {
   "cell_type": "markdown",
   "metadata": {},
   "source": [
    "#### Train the Model"
   ]
  },
  {
   "cell_type": "code",
   "execution_count": 49,
   "metadata": {},
   "outputs": [
    {
     "name": "stdout",
     "output_type": "stream",
     "text": [
      "Epoch 1/100\n",
      "55000/55000 - 2s - loss: 2.4965 - acc: 0.1254\n",
      "Epoch 2/100\n",
      "55000/55000 - 2s - loss: 2.4397 - acc: 0.1138\n",
      "Epoch 3/100\n",
      "55000/55000 - 2s - loss: 2.3999 - acc: 0.1055\n",
      "Epoch 4/100\n",
      "55000/55000 - 2s - loss: 2.3714 - acc: 0.1018\n",
      "Epoch 5/100\n",
      "55000/55000 - 2s - loss: 2.3504 - acc: 0.1005\n",
      "Epoch 6/100\n",
      "55000/55000 - 2s - loss: 2.3348 - acc: 0.0995\n",
      "Epoch 7/100\n",
      "55000/55000 - 2s - loss: 2.3231 - acc: 0.0992\n",
      "Epoch 8/100\n",
      "55000/55000 - 2s - loss: 2.3142 - acc: 0.0990\n",
      "Epoch 9/100\n",
      "55000/55000 - 2s - loss: 2.3073 - acc: 0.1020\n",
      "Epoch 10/100\n",
      "55000/55000 - 2s - loss: 2.3019 - acc: 0.1119\n",
      "Epoch 11/100\n",
      "55000/55000 - 2s - loss: 2.2978 - acc: 0.1317\n",
      "Epoch 12/100\n",
      "55000/55000 - 2s - loss: 2.2944 - acc: 0.1532\n",
      "Epoch 13/100\n",
      "55000/55000 - 2s - loss: 2.2917 - acc: 0.1685\n",
      "Epoch 14/100\n",
      "55000/55000 - 2s - loss: 2.2895 - acc: 0.1773\n",
      "Epoch 15/100\n",
      "55000/55000 - 2s - loss: 2.2876 - acc: 0.1862\n",
      "Epoch 16/100\n",
      "55000/55000 - 2s - loss: 2.2859 - acc: 0.1999\n",
      "Epoch 17/100\n",
      "55000/55000 - 2s - loss: 2.2845 - acc: 0.2219\n",
      "Epoch 18/100\n",
      "55000/55000 - 2s - loss: 2.2831 - acc: 0.2397\n",
      "Epoch 19/100\n",
      "55000/55000 - 2s - loss: 2.2819 - acc: 0.2424\n",
      "Epoch 20/100\n",
      "55000/55000 - 2s - loss: 2.2808 - acc: 0.2413\n",
      "Epoch 21/100\n",
      "55000/55000 - 2s - loss: 2.2797 - acc: 0.2349\n",
      "Epoch 22/100\n",
      "55000/55000 - 2s - loss: 2.2786 - acc: 0.2318\n",
      "Epoch 23/100\n",
      "55000/55000 - 2s - loss: 2.2775 - acc: 0.2283\n",
      "Epoch 24/100\n",
      "55000/55000 - 2s - loss: 2.2765 - acc: 0.2238\n",
      "Epoch 25/100\n",
      "55000/55000 - 2s - loss: 2.2755 - acc: 0.2208\n",
      "Epoch 26/100\n",
      "55000/55000 - 2s - loss: 2.2745 - acc: 0.2194\n",
      "Epoch 27/100\n",
      "55000/55000 - 2s - loss: 2.2734 - acc: 0.2190\n",
      "Epoch 28/100\n",
      "55000/55000 - 2s - loss: 2.2724 - acc: 0.2203\n",
      "Epoch 29/100\n",
      "55000/55000 - 2s - loss: 2.2714 - acc: 0.2215\n",
      "Epoch 30/100\n",
      "55000/55000 - 2s - loss: 2.2704 - acc: 0.2204\n",
      "Epoch 31/100\n",
      "55000/55000 - 2s - loss: 2.2694 - acc: 0.2231\n",
      "Epoch 32/100\n",
      "55000/55000 - 2s - loss: 2.2683 - acc: 0.2251\n",
      "Epoch 33/100\n",
      "55000/55000 - 2s - loss: 2.2673 - acc: 0.2298\n",
      "Epoch 34/100\n",
      "55000/55000 - 2s - loss: 2.2663 - acc: 0.2321\n",
      "Epoch 35/100\n",
      "55000/55000 - 2s - loss: 2.2652 - acc: 0.2335\n",
      "Epoch 36/100\n",
      "55000/55000 - 2s - loss: 2.2642 - acc: 0.2378\n",
      "Epoch 37/100\n",
      "55000/55000 - 2s - loss: 2.2631 - acc: 0.2398\n",
      "Epoch 38/100\n",
      "55000/55000 - 2s - loss: 2.2621 - acc: 0.2419\n",
      "Epoch 39/100\n",
      "55000/55000 - 2s - loss: 2.2610 - acc: 0.2486\n",
      "Epoch 40/100\n",
      "55000/55000 - 2s - loss: 2.2599 - acc: 0.2523\n",
      "Epoch 41/100\n",
      "55000/55000 - 2s - loss: 2.2588 - acc: 0.2556\n",
      "Epoch 42/100\n",
      "55000/55000 - 2s - loss: 2.2577 - acc: 0.2586\n",
      "Epoch 43/100\n",
      "55000/55000 - 2s - loss: 2.2566 - acc: 0.2631\n",
      "Epoch 44/100\n",
      "55000/55000 - 2s - loss: 2.2555 - acc: 0.2673\n",
      "Epoch 45/100\n",
      "55000/55000 - 2s - loss: 2.2544 - acc: 0.2723\n",
      "Epoch 46/100\n",
      "55000/55000 - 2s - loss: 2.2533 - acc: 0.2750\n",
      "Epoch 47/100\n",
      "55000/55000 - 2s - loss: 2.2521 - acc: 0.2782\n",
      "Epoch 48/100\n",
      "55000/55000 - 2s - loss: 2.2510 - acc: 0.2800\n",
      "Epoch 49/100\n",
      "55000/55000 - 2s - loss: 2.2498 - acc: 0.2829\n",
      "Epoch 50/100\n",
      "55000/55000 - 2s - loss: 2.2487 - acc: 0.2881\n",
      "Epoch 51/100\n",
      "55000/55000 - 2s - loss: 2.2475 - acc: 0.2914\n",
      "Epoch 52/100\n",
      "55000/55000 - 2s - loss: 2.2463 - acc: 0.2953\n",
      "Epoch 53/100\n",
      "55000/55000 - 2s - loss: 2.2451 - acc: 0.2975\n",
      "Epoch 54/100\n",
      "55000/55000 - 2s - loss: 2.2439 - acc: 0.3033\n",
      "Epoch 55/100\n",
      "55000/55000 - 2s - loss: 2.2427 - acc: 0.3057\n",
      "Epoch 56/100\n",
      "55000/55000 - 2s - loss: 2.2414 - acc: 0.3063\n",
      "Epoch 57/100\n",
      "55000/55000 - 2s - loss: 2.2402 - acc: 0.3116\n",
      "Epoch 58/100\n",
      "55000/55000 - 2s - loss: 2.2389 - acc: 0.3166\n",
      "Epoch 59/100\n",
      "55000/55000 - 2s - loss: 2.2377 - acc: 0.3170\n",
      "Epoch 60/100\n",
      "55000/55000 - 2s - loss: 2.2364 - acc: 0.3207\n",
      "Epoch 61/100\n",
      "55000/55000 - 2s - loss: 2.2351 - acc: 0.3260\n",
      "Epoch 62/100\n",
      "55000/55000 - 2s - loss: 2.2338 - acc: 0.3291\n",
      "Epoch 63/100\n",
      "55000/55000 - 2s - loss: 2.2325 - acc: 0.3324\n",
      "Epoch 64/100\n",
      "55000/55000 - 2s - loss: 2.2311 - acc: 0.3341\n",
      "Epoch 65/100\n",
      "55000/55000 - 2s - loss: 2.2298 - acc: 0.3386\n",
      "Epoch 66/100\n",
      "55000/55000 - 2s - loss: 2.2284 - acc: 0.3416\n",
      "Epoch 67/100\n",
      "55000/55000 - 2s - loss: 2.2270 - acc: 0.3457\n",
      "Epoch 68/100\n",
      "55000/55000 - 2s - loss: 2.2256 - acc: 0.3490\n",
      "Epoch 69/100\n",
      "55000/55000 - 2s - loss: 2.2242 - acc: 0.3503\n",
      "Epoch 70/100\n",
      "55000/55000 - 2s - loss: 2.2228 - acc: 0.3507\n",
      "Epoch 71/100\n",
      "55000/55000 - 2s - loss: 2.2214 - acc: 0.3556\n",
      "Epoch 72/100\n",
      "55000/55000 - 2s - loss: 2.2199 - acc: 0.3599\n",
      "Epoch 73/100\n",
      "55000/55000 - 2s - loss: 2.2185 - acc: 0.3617\n",
      "Epoch 74/100\n",
      "55000/55000 - 2s - loss: 2.2170 - acc: 0.3650\n",
      "Epoch 75/100\n",
      "55000/55000 - 2s - loss: 2.2155 - acc: 0.3686\n",
      "Epoch 76/100\n",
      "55000/55000 - 2s - loss: 2.2139 - acc: 0.3697\n",
      "Epoch 77/100\n",
      "55000/55000 - 2s - loss: 2.2124 - acc: 0.3762\n",
      "Epoch 78/100\n",
      "55000/55000 - 2s - loss: 2.2109 - acc: 0.3767\n",
      "Epoch 79/100\n",
      "55000/55000 - 2s - loss: 2.2093 - acc: 0.3789\n",
      "Epoch 80/100\n",
      "55000/55000 - 2s - loss: 2.2077 - acc: 0.3841\n",
      "Epoch 81/100\n",
      "55000/55000 - 2s - loss: 2.2061 - acc: 0.3865\n",
      "Epoch 82/100\n",
      "55000/55000 - 2s - loss: 2.2045 - acc: 0.3881\n",
      "Epoch 83/100\n",
      "55000/55000 - 2s - loss: 2.2028 - acc: 0.3914\n",
      "Epoch 84/100\n",
      "55000/55000 - 2s - loss: 2.2011 - acc: 0.3923\n",
      "Epoch 85/100\n",
      "55000/55000 - 2s - loss: 2.1995 - acc: 0.3984\n",
      "Epoch 86/100\n",
      "55000/55000 - 2s - loss: 2.1978 - acc: 0.3991\n",
      "Epoch 87/100\n",
      "55000/55000 - 2s - loss: 2.1960 - acc: 0.4021\n",
      "Epoch 88/100\n",
      "55000/55000 - 2s - loss: 2.1943 - acc: 0.4047\n",
      "Epoch 89/100\n",
      "55000/55000 - 2s - loss: 2.1925 - acc: 0.4065\n",
      "Epoch 90/100\n",
      "55000/55000 - 2s - loss: 2.1907 - acc: 0.4103\n",
      "Epoch 91/100\n",
      "55000/55000 - 2s - loss: 2.1889 - acc: 0.4105\n",
      "Epoch 92/100\n",
      "55000/55000 - 2s - loss: 2.1871 - acc: 0.4157\n",
      "Epoch 93/100\n",
      "55000/55000 - 2s - loss: 2.1852 - acc: 0.4166\n",
      "Epoch 94/100\n",
      "55000/55000 - 2s - loss: 2.1834 - acc: 0.4213\n",
      "Epoch 95/100\n",
      "55000/55000 - 2s - loss: 2.1815 - acc: 0.4211\n",
      "Epoch 96/100\n",
      "55000/55000 - 2s - loss: 2.1795 - acc: 0.4232\n",
      "Epoch 97/100\n",
      "55000/55000 - 2s - loss: 2.1776 - acc: 0.4259\n",
      "Epoch 98/100\n",
      "55000/55000 - 2s - loss: 2.1756 - acc: 0.4275\n",
      "Epoch 99/100\n",
      "55000/55000 - 2s - loss: 2.1736 - acc: 0.4304\n",
      "Epoch 100/100\n",
      "55000/55000 - 2s - loss: 2.1716 - acc: 0.4315\n"
     ]
    }
   ],
   "source": [
    "info = model.fit(X_train_n.astype(np.float32), Y_train, epochs = num_iters, verbose=2)"
   ]
  },
  {
   "cell_type": "markdown",
   "metadata": {},
   "source": [
    "#### Plotting Loss"
   ]
  },
  {
   "cell_type": "code",
   "execution_count": 50,
   "metadata": {},
   "outputs": [
    {
     "data": {
      "image/png": "[encoded data removed]",
      "text/plain": [
       "<Figure size 432x288 with 1 Axes>"
      ]
     },
     "metadata": {
      "needs_background": "light"
     },
     "output_type": "display_data"
    }
   ],
   "source": [
    "plot_loss(loss_arr)"
   ]
  },
  {
   "cell_type": "markdown",
   "metadata": {},
   "source": [
    "#### Plotting Accuracy"
   ]
  },
  {
   "cell_type": "code",
   "execution_count": 51,
   "metadata": {},
   "outputs": [
    {
     "data": {
      "image/png": "[encoded data removed]",
      "text/plain": [
       "<Figure size 432x288 with 1 Axes>"
      ]
     },
     "metadata": {
      "needs_background": "light"
     },
     "output_type": "display_data"
    }
   ],
   "source": [
    "plot_acc(acc_arr)"
   ]
  },
  {
   "cell_type": "markdown",
   "metadata": {},
   "source": [
    "#### Validation Loss and Accuracy"
   ]
  },
  {
   "cell_type": "code",
   "execution_count": 52,
   "metadata": {},
   "outputs": [
    {
     "name": "stdout",
     "output_type": "stream",
     "text": [
      "5000/5000 [==============================] - 0s 31us/sample - loss: 2.1723 - acc: 0.4274\n",
      "Validation Loss: 2.17229538192749\n",
      "Validation Accuracy: 0.4274\n"
     ]
    }
   ],
   "source": [
    "val_loss, val_acc = model.evaluate(X_val_n.astype(np.float32), Y_val)\n",
    "print('Validation Loss: ' + str(val_loss))\n",
    "print('Validation Accuracy: ' + str(val_acc))"
   ]
  },
  {
   "cell_type": "markdown",
   "metadata": {},
   "source": [
    "## Summary of Models - III\n",
    "\n",
    "1. **Model1**: Learning Rate = 0.1 - Loss: 0.144, Acc: 0.963\n",
    "2. **Model2**: Learning Rate = 0.001 - Loss: 0.496, Acc: 0.876\n",
    "2. **Model3**: Learning Rate = 0.0001 - Loss: 2.172, Acc: 0.427\n",
    "\n",
    "It is clear that a learning rate of 0.1 has given far better results than learning rates 0.001 and 0.0001. This may be explained as - since with learning rate of 0.1, the training went well, we are just slowing up the process of learning by reducing the learning rate from that value.\n",
    "\n",
    "## Conclusion\n",
    "\n",
    "Hence, all further models will be trained using a learning rate of 0.1"
   ]
  },
  {
   "cell_type": "markdown",
   "metadata": {},
   "source": [
    "## Models - IV: Number of Hidden units per hidden layer"
   ]
  },
  {
   "cell_type": "markdown",
   "metadata": {},
   "source": [
    "#### Hyperparameter (chosen above)"
   ]
  },
  {
   "cell_type": "code",
   "execution_count": 55,
   "metadata": {},
   "outputs": [],
   "source": [
    "learning_rate = 0.1"
   ]
  },
  {
   "cell_type": "markdown",
   "metadata": {},
   "source": [
    "### Model 1: Hidden Units = 32\n",
    "#### Already evaluated - Loss: 0.144, Acc: 0.963"
   ]
  },
  {
   "cell_type": "markdown",
   "metadata": {},
   "source": [
    "### Model 2: Hidden Units = 64"
   ]
  },
  {
   "cell_type": "markdown",
   "metadata": {},
   "source": [
    "#### Hyperparameters (that have changed)"
   ]
  },
  {
   "cell_type": "code",
   "execution_count": 56,
   "metadata": {},
   "outputs": [],
   "source": [
    "num_hidden_units = 64"
   ]
  },
  {
   "cell_type": "markdown",
   "metadata": {},
   "source": [
    "#### Model"
   ]
  },
  {
   "cell_type": "code",
   "execution_count": 57,
   "metadata": {},
   "outputs": [],
   "source": [
    "model = tf.keras.Sequential([\n",
    "    tf.keras.layers.Dense(num_hidden_units, activation = tf.nn.sigmoid),\n",
    "    tf.keras.layers.Dense(num_hidden_units, activation = tf.nn.sigmoid),\n",
    "    tf.keras.layers.Dense(output_size, activation = tf.nn.softmax)\n",
    "])"
   ]
  },
  {
   "cell_type": "code",
   "execution_count": 58,
   "metadata": {},
   "outputs": [],
   "source": [
    "optimizer = tf.keras.optimizers.SGD(learning_rate = learning_rate)\n",
    "model.compile(optimizer=optimizer, loss = 'sparse_categorical_crossentropy', metrics = ['accuracy'])"
   ]
  },
  {
   "cell_type": "markdown",
   "metadata": {},
   "source": [
    "#### Train the Model"
   ]
  },
  {
   "cell_type": "code",
   "execution_count": 59,
   "metadata": {},
   "outputs": [
    {
     "name": "stdout",
     "output_type": "stream",
     "text": [
      "Epoch 1/100\n",
      "55000/55000 - 2s - loss: 0.9751 - acc: 0.7215\n",
      "Epoch 2/100\n",
      "55000/55000 - 2s - loss: 0.3449 - acc: 0.9027\n",
      "Epoch 3/100\n",
      "55000/55000 - 2s - loss: 0.2787 - acc: 0.9190\n",
      "Epoch 4/100\n",
      "55000/55000 - 2s - loss: 0.2376 - acc: 0.9304\n",
      "Epoch 5/100\n",
      "55000/55000 - 2s - loss: 0.2067 - acc: 0.9395\n",
      "Epoch 6/100\n",
      "55000/55000 - 2s - loss: 0.1818 - acc: 0.9472\n",
      "Epoch 7/100\n",
      "55000/55000 - 2s - loss: 0.1623 - acc: 0.9530\n",
      "Epoch 8/100\n",
      "55000/55000 - 2s - loss: 0.1459 - acc: 0.9571\n",
      "Epoch 9/100\n",
      "55000/55000 - 2s - loss: 0.1328 - acc: 0.9608\n",
      "Epoch 10/100\n",
      "55000/55000 - 2s - loss: 0.1217 - acc: 0.9644\n",
      "Epoch 11/100\n",
      "55000/55000 - 2s - loss: 0.1119 - acc: 0.9680\n",
      "Epoch 12/100\n",
      "55000/55000 - 2s - loss: 0.1035 - acc: 0.9706\n",
      "Epoch 13/100\n",
      "55000/55000 - 2s - loss: 0.0966 - acc: 0.9718\n",
      "Epoch 14/100\n",
      "55000/55000 - 2s - loss: 0.0904 - acc: 0.9739\n",
      "Epoch 15/100\n",
      "55000/55000 - 2s - loss: 0.0844 - acc: 0.9758\n",
      "Epoch 16/100\n",
      "55000/55000 - 2s - loss: 0.0798 - acc: 0.9770\n",
      "Epoch 17/100\n",
      "55000/55000 - 2s - loss: 0.0746 - acc: 0.9781\n",
      "Epoch 18/100\n",
      "55000/55000 - 2s - loss: 0.0706 - acc: 0.9795\n",
      "Epoch 19/100\n",
      "55000/55000 - 2s - loss: 0.0666 - acc: 0.9811\n",
      "Epoch 20/100\n",
      "55000/55000 - 2s - loss: 0.0633 - acc: 0.9819\n",
      "Epoch 21/100\n",
      "55000/55000 - 2s - loss: 0.0598 - acc: 0.9834\n",
      "Epoch 22/100\n",
      "55000/55000 - 2s - loss: 0.0566 - acc: 0.9837\n",
      "Epoch 23/100\n",
      "55000/55000 - 2s - loss: 0.0540 - acc: 0.9852\n",
      "Epoch 24/100\n",
      "55000/55000 - 2s - loss: 0.0513 - acc: 0.9860\n",
      "Epoch 25/100\n",
      "55000/55000 - 2s - loss: 0.0487 - acc: 0.9865\n",
      "Epoch 26/100\n",
      "55000/55000 - 2s - loss: 0.0459 - acc: 0.9875\n",
      "Epoch 27/100\n",
      "55000/55000 - 2s - loss: 0.0442 - acc: 0.9884\n",
      "Epoch 28/100\n",
      "55000/55000 - 2s - loss: 0.0421 - acc: 0.9890\n",
      "Epoch 29/100\n",
      "55000/55000 - 2s - loss: 0.0398 - acc: 0.9895\n",
      "Epoch 30/100\n",
      "55000/55000 - 2s - loss: 0.0382 - acc: 0.9902\n",
      "Epoch 31/100\n",
      "55000/55000 - 2s - loss: 0.0362 - acc: 0.9909\n",
      "Epoch 32/100\n",
      "55000/55000 - 2s - loss: 0.0347 - acc: 0.9913\n",
      "Epoch 33/100\n",
      "55000/55000 - 2s - loss: 0.0328 - acc: 0.9919\n",
      "Epoch 34/100\n",
      "55000/55000 - 2s - loss: 0.0314 - acc: 0.9920\n",
      "Epoch 35/100\n",
      "55000/55000 - 2s - loss: 0.0301 - acc: 0.9927\n",
      "Epoch 36/100\n",
      "55000/55000 - 2s - loss: 0.0284 - acc: 0.9931\n",
      "Epoch 37/100\n",
      "55000/55000 - 2s - loss: 0.0271 - acc: 0.9940\n",
      "Epoch 38/100\n",
      "55000/55000 - 2s - loss: 0.0261 - acc: 0.9943\n",
      "Epoch 39/100\n",
      "55000/55000 - 2s - loss: 0.0249 - acc: 0.9944\n",
      "Epoch 40/100\n",
      "55000/55000 - 2s - loss: 0.0236 - acc: 0.9951\n",
      "Epoch 41/100\n",
      "55000/55000 - 2s - loss: 0.0227 - acc: 0.9952\n",
      "Epoch 42/100\n",
      "55000/55000 - 2s - loss: 0.0217 - acc: 0.9955\n",
      "Epoch 43/100\n",
      "55000/55000 - 2s - loss: 0.0206 - acc: 0.9961\n",
      "Epoch 44/100\n",
      "55000/55000 - 2s - loss: 0.0198 - acc: 0.9964\n",
      "Epoch 45/100\n",
      "55000/55000 - 2s - loss: 0.0188 - acc: 0.9965\n",
      "Epoch 46/100\n",
      "55000/55000 - 2s - loss: 0.0181 - acc: 0.9968\n",
      "Epoch 47/100\n",
      "55000/55000 - 2s - loss: 0.0171 - acc: 0.9972\n",
      "Epoch 48/100\n",
      "55000/55000 - 2s - loss: 0.0164 - acc: 0.9976\n",
      "Epoch 49/100\n",
      "55000/55000 - 2s - loss: 0.0158 - acc: 0.9977\n",
      "Epoch 50/100\n",
      "55000/55000 - 2s - loss: 0.0150 - acc: 0.9977\n",
      "Epoch 51/100\n",
      "55000/55000 - 2s - loss: 0.0143 - acc: 0.9980\n",
      "Epoch 52/100\n",
      "55000/55000 - 2s - loss: 0.0137 - acc: 0.9980\n",
      "Epoch 53/100\n",
      "55000/55000 - 2s - loss: 0.0130 - acc: 0.9984\n",
      "Epoch 54/100\n",
      "55000/55000 - 2s - loss: 0.0125 - acc: 0.9985\n",
      "Epoch 55/100\n",
      "55000/55000 - 2s - loss: 0.0121 - acc: 0.9985\n",
      "Epoch 56/100\n",
      "55000/55000 - 2s - loss: 0.0115 - acc: 0.9987\n",
      "Epoch 57/100\n",
      "55000/55000 - 2s - loss: 0.0110 - acc: 0.9987\n",
      "Epoch 58/100\n",
      "55000/55000 - 2s - loss: 0.0107 - acc: 0.9989\n",
      "Epoch 59/100\n",
      "55000/55000 - 2s - loss: 0.0102 - acc: 0.9989\n",
      "Epoch 60/100\n",
      "55000/55000 - 2s - loss: 0.0097 - acc: 0.9990\n",
      "Epoch 61/100\n",
      "55000/55000 - 2s - loss: 0.0094 - acc: 0.9991\n",
      "Epoch 62/100\n",
      "55000/55000 - 2s - loss: 0.0092 - acc: 0.9991\n",
      "Epoch 63/100\n",
      "55000/55000 - 2s - loss: 0.0087 - acc: 0.9994\n",
      "Epoch 64/100\n",
      "55000/55000 - 2s - loss: 0.0084 - acc: 0.9993\n",
      "Epoch 65/100\n",
      "55000/55000 - 2s - loss: 0.0080 - acc: 0.9995\n",
      "Epoch 66/100\n",
      "55000/55000 - 2s - loss: 0.0077 - acc: 0.9994\n",
      "Epoch 67/100\n",
      "55000/55000 - 2s - loss: 0.0074 - acc: 0.9994\n",
      "Epoch 68/100\n",
      "55000/55000 - 2s - loss: 0.0072 - acc: 0.9996\n",
      "Epoch 69/100\n",
      "55000/55000 - 2s - loss: 0.0070 - acc: 0.9996\n",
      "Epoch 70/100\n",
      "55000/55000 - 2s - loss: 0.0066 - acc: 0.9997\n",
      "Epoch 71/100\n",
      "55000/55000 - 2s - loss: 0.0065 - acc: 0.9997\n",
      "Epoch 72/100\n",
      "55000/55000 - 2s - loss: 0.0062 - acc: 0.9998\n",
      "Epoch 73/100\n",
      "55000/55000 - 2s - loss: 0.0061 - acc: 0.9997\n",
      "Epoch 74/100\n",
      "55000/55000 - 2s - loss: 0.0058 - acc: 0.9998\n",
      "Epoch 75/100\n",
      "55000/55000 - 2s - loss: 0.0056 - acc: 0.9998\n",
      "Epoch 76/100\n",
      "55000/55000 - 2s - loss: 0.0055 - acc: 0.9998\n",
      "Epoch 77/100\n",
      "55000/55000 - 2s - loss: 0.0053 - acc: 0.9999\n",
      "Epoch 78/100\n",
      "55000/55000 - 2s - loss: 0.0051 - acc: 0.9998\n",
      "Epoch 79/100\n",
      "55000/55000 - 2s - loss: 0.0050 - acc: 0.9999\n",
      "Epoch 80/100\n",
      "55000/55000 - 2s - loss: 0.0048 - acc: 0.9998\n",
      "Epoch 81/100\n",
      "55000/55000 - 2s - loss: 0.0047 - acc: 0.9999\n",
      "Epoch 82/100\n",
      "55000/55000 - 2s - loss: 0.0046 - acc: 0.9999\n",
      "Epoch 83/100\n",
      "55000/55000 - 2s - loss: 0.0044 - acc: 0.9999\n",
      "Epoch 84/100\n",
      "55000/55000 - 2s - loss: 0.0043 - acc: 0.9999\n",
      "Epoch 85/100\n",
      "55000/55000 - 2s - loss: 0.0041 - acc: 0.9999\n",
      "Epoch 86/100\n",
      "55000/55000 - 2s - loss: 0.0041 - acc: 0.9999\n",
      "Epoch 87/100\n",
      "55000/55000 - 2s - loss: 0.0040 - acc: 0.9999\n",
      "Epoch 88/100\n",
      "55000/55000 - 2s - loss: 0.0038 - acc: 1.0000\n",
      "Epoch 89/100\n",
      "55000/55000 - 2s - loss: 0.0038 - acc: 1.0000\n",
      "Epoch 90/100\n",
      "55000/55000 - 2s - loss: 0.0037 - acc: 0.9999\n",
      "Epoch 91/100\n",
      "55000/55000 - 2s - loss: 0.0036 - acc: 1.0000\n",
      "Epoch 92/100\n",
      "55000/55000 - 2s - loss: 0.0035 - acc: 1.0000\n",
      "Epoch 93/100\n",
      "55000/55000 - 2s - loss: 0.0034 - acc: 1.0000\n",
      "Epoch 94/100\n",
      "55000/55000 - 2s - loss: 0.0033 - acc: 1.0000\n",
      "Epoch 95/100\n",
      "55000/55000 - 2s - loss: 0.0032 - acc: 1.0000\n",
      "Epoch 96/100\n",
      "55000/55000 - 2s - loss: 0.0032 - acc: 1.0000\n",
      "Epoch 97/100\n",
      "55000/55000 - 2s - loss: 0.0031 - acc: 1.0000\n",
      "Epoch 98/100\n",
      "55000/55000 - 2s - loss: 0.0030 - acc: 0.9999\n",
      "Epoch 99/100\n",
      "55000/55000 - 2s - loss: 0.0030 - acc: 1.0000\n",
      "Epoch 100/100\n",
      "55000/55000 - 2s - loss: 0.0029 - acc: 1.0000\n"
     ]
    }
   ],
   "source": [
    "info = model.fit(X_train_n.astype(np.float32), Y_train, epochs = num_iters, verbose=2)"
   ]
  },
  {
   "cell_type": "markdown",
   "metadata": {},
   "source": [
    "#### Plotting Loss"
   ]
  },
  {
   "cell_type": "code",
   "execution_count": 60,
   "metadata": {},
   "outputs": [
    {
     "data": {
      "image/png": "[encoded data removed]",
      "text/plain": [
       "<Figure size 432x288 with 1 Axes>"
      ]
     },
     "metadata": {
      "needs_background": "light"
     },
     "output_type": "display_data"
    }
   ],
   "source": [
    "plot_loss(loss_arr)"
   ]
  },
  {
   "cell_type": "markdown",
   "metadata": {},
   "source": [
    "#### Plotting Accuracy"
   ]
  },
  {
   "cell_type": "code",
   "execution_count": 61,
   "metadata": {},
   "outputs": [
    {
     "data": {
      "image/png": "[encoded data removed]",
      "text/plain": [
       "<Figure size 432x288 with 1 Axes>"
      ]
     },
     "metadata": {
      "needs_background": "light"
     },
     "output_type": "display_data"
    }
   ],
   "source": [
    "plot_acc(acc_arr)"
   ]
  },
  {
   "cell_type": "markdown",
   "metadata": {},
   "source": [
    "#### Validation Loss and Accuracy"
   ]
  },
  {
   "cell_type": "code",
   "execution_count": 62,
   "metadata": {},
   "outputs": [
    {
     "name": "stdout",
     "output_type": "stream",
     "text": [
      "5000/5000 [==============================] - 0s 33us/sample - loss: 0.1082 - acc: 0.9740\n",
      "Validation Loss: 0.10820856486669218\n",
      "Validation Accuracy: 0.974\n"
     ]
    }
   ],
   "source": [
    "val_loss, val_acc = model.evaluate(X_val_n.astype(np.float32), Y_val)\n",
    "print('Validation Loss: ' + str(val_loss))\n",
    "print('Validation Accuracy: ' + str(val_acc))"
   ]
  },
  {
   "cell_type": "markdown",
   "metadata": {},
   "source": [
    "### Model 3: Hidden Units = 128"
   ]
  },
  {
   "cell_type": "markdown",
   "metadata": {},
   "source": [
    "#### Hyperparameter (that changed)"
   ]
  },
  {
   "cell_type": "code",
   "execution_count": 63,
   "metadata": {},
   "outputs": [],
   "source": [
    "num_hidden_units = 128"
   ]
  },
  {
   "cell_type": "markdown",
   "metadata": {},
   "source": [
    "#### Model"
   ]
  },
  {
   "cell_type": "code",
   "execution_count": 64,
   "metadata": {},
   "outputs": [],
   "source": [
    "model = tf.keras.Sequential([\n",
    "    tf.keras.layers.Dense(num_hidden_units, activation = tf.nn.sigmoid),\n",
    "    tf.keras.layers.Dense(num_hidden_units, activation = tf.nn.sigmoid),\n",
    "    tf.keras.layers.Dense(output_size, activation = tf.nn.softmax)\n",
    "])"
   ]
  },
  {
   "cell_type": "code",
   "execution_count": 65,
   "metadata": {},
   "outputs": [],
   "source": [
    "optimizer = tf.keras.optimizers.SGD(learning_rate = learning_rate)\n",
    "model.compile(optimizer=optimizer, loss = 'sparse_categorical_crossentropy', metrics = ['accuracy'])"
   ]
  },
  {
   "cell_type": "markdown",
   "metadata": {},
   "source": [
    "#### Train the Model"
   ]
  },
  {
   "cell_type": "code",
   "execution_count": 66,
   "metadata": {},
   "outputs": [
    {
     "name": "stdout",
     "output_type": "stream",
     "text": [
      "Epoch 1/100\n",
      "55000/55000 - 3s - loss: 0.8950 - acc: 0.7360\n",
      "Epoch 2/100\n",
      "55000/55000 - 3s - loss: 0.3407 - acc: 0.9035\n",
      "Epoch 3/100\n",
      "55000/55000 - 3s - loss: 0.2826 - acc: 0.9182\n",
      "Epoch 4/100\n",
      "55000/55000 - 3s - loss: 0.2454 - acc: 0.9287\n",
      "Epoch 5/100\n",
      "55000/55000 - 3s - loss: 0.2154 - acc: 0.9373\n",
      "Epoch 6/100\n",
      "55000/55000 - 3s - loss: 0.1904 - acc: 0.9440\n",
      "Epoch 7/100\n",
      "55000/55000 - 3s - loss: 0.1695 - acc: 0.9508\n",
      "Epoch 8/100\n",
      "55000/55000 - 3s - loss: 0.1527 - acc: 0.9560\n",
      "Epoch 9/100\n",
      "55000/55000 - 3s - loss: 0.1387 - acc: 0.9597\n",
      "Epoch 10/100\n",
      "55000/55000 - 3s - loss: 0.1266 - acc: 0.9634\n",
      "Epoch 11/100\n",
      "55000/55000 - 3s - loss: 0.1158 - acc: 0.9662\n",
      "Epoch 12/100\n",
      "55000/55000 - 3s - loss: 0.1066 - acc: 0.9691\n",
      "Epoch 13/100\n",
      "55000/55000 - 3s - loss: 0.0988 - acc: 0.9710\n",
      "Epoch 14/100\n",
      "55000/55000 - 3s - loss: 0.0918 - acc: 0.9733\n",
      "Epoch 15/100\n",
      "55000/55000 - 3s - loss: 0.0851 - acc: 0.9751\n",
      "Epoch 16/100\n",
      "55000/55000 - 3s - loss: 0.0800 - acc: 0.9765\n",
      "Epoch 17/100\n",
      "55000/55000 - 3s - loss: 0.0749 - acc: 0.9781\n",
      "Epoch 18/100\n",
      "55000/55000 - 3s - loss: 0.0700 - acc: 0.9792\n",
      "Epoch 19/100\n",
      "55000/55000 - 3s - loss: 0.0654 - acc: 0.9811\n",
      "Epoch 20/100\n",
      "55000/55000 - 3s - loss: 0.0615 - acc: 0.9822\n",
      "Epoch 21/100\n",
      "55000/55000 - 3s - loss: 0.0578 - acc: 0.9835\n",
      "Epoch 22/100\n",
      "55000/55000 - 3s - loss: 0.0546 - acc: 0.9846\n",
      "Epoch 23/100\n",
      "55000/55000 - 3s - loss: 0.0506 - acc: 0.9858\n",
      "Epoch 24/100\n",
      "55000/55000 - 3s - loss: 0.0484 - acc: 0.9864\n",
      "Epoch 25/100\n",
      "55000/55000 - 3s - loss: 0.0453 - acc: 0.9870\n",
      "Epoch 26/100\n",
      "55000/55000 - 3s - loss: 0.0424 - acc: 0.9887\n",
      "Epoch 27/100\n",
      "55000/55000 - 3s - loss: 0.0403 - acc: 0.9890\n",
      "Epoch 28/100\n",
      "55000/55000 - 3s - loss: 0.0378 - acc: 0.9900\n",
      "Epoch 29/100\n",
      "55000/55000 - 3s - loss: 0.0355 - acc: 0.9909\n",
      "Epoch 30/100\n",
      "55000/55000 - 3s - loss: 0.0335 - acc: 0.9910\n",
      "Epoch 31/100\n",
      "55000/55000 - 3s - loss: 0.0316 - acc: 0.9918\n",
      "Epoch 32/100\n",
      "55000/55000 - 3s - loss: 0.0295 - acc: 0.9933\n",
      "Epoch 33/100\n",
      "55000/55000 - 3s - loss: 0.0281 - acc: 0.9931\n",
      "Epoch 34/100\n",
      "55000/55000 - 3s - loss: 0.0265 - acc: 0.9935\n",
      "Epoch 35/100\n",
      "55000/55000 - 3s - loss: 0.0248 - acc: 0.9944\n",
      "Epoch 36/100\n",
      "55000/55000 - 3s - loss: 0.0235 - acc: 0.9947\n",
      "Epoch 37/100\n",
      "55000/55000 - 3s - loss: 0.0222 - acc: 0.9950\n",
      "Epoch 38/100\n",
      "55000/55000 - 3s - loss: 0.0206 - acc: 0.9959\n",
      "Epoch 39/100\n",
      "55000/55000 - 3s - loss: 0.0197 - acc: 0.9961\n",
      "Epoch 40/100\n",
      "55000/55000 - 3s - loss: 0.0185 - acc: 0.9965\n",
      "Epoch 41/100\n",
      "55000/55000 - 3s - loss: 0.0176 - acc: 0.9967\n",
      "Epoch 42/100\n",
      "55000/55000 - 3s - loss: 0.0162 - acc: 0.9972\n",
      "Epoch 43/100\n",
      "55000/55000 - 3s - loss: 0.0156 - acc: 0.9973\n",
      "Epoch 44/100\n",
      "55000/55000 - 3s - loss: 0.0146 - acc: 0.9975\n",
      "Epoch 45/100\n",
      "55000/55000 - 3s - loss: 0.0139 - acc: 0.9977\n",
      "Epoch 46/100\n",
      "55000/55000 - 3s - loss: 0.0131 - acc: 0.9980\n",
      "Epoch 47/100\n",
      "55000/55000 - 3s - loss: 0.0125 - acc: 0.9982\n",
      "Epoch 48/100\n",
      "55000/55000 - 3s - loss: 0.0118 - acc: 0.9985\n",
      "Epoch 49/100\n",
      "55000/55000 - 3s - loss: 0.0111 - acc: 0.9985\n",
      "Epoch 50/100\n",
      "55000/55000 - 3s - loss: 0.0106 - acc: 0.9987\n",
      "Epoch 51/100\n",
      "55000/55000 - 3s - loss: 0.0100 - acc: 0.9989\n",
      "Epoch 52/100\n",
      "55000/55000 - 3s - loss: 0.0095 - acc: 0.9990\n",
      "Epoch 53/100\n",
      "55000/55000 - 3s - loss: 0.0090 - acc: 0.9991\n",
      "Epoch 54/100\n",
      "55000/55000 - 3s - loss: 0.0085 - acc: 0.9992\n",
      "Epoch 55/100\n",
      "55000/55000 - 3s - loss: 0.0082 - acc: 0.9994\n",
      "Epoch 56/100\n",
      "55000/55000 - 3s - loss: 0.0077 - acc: 0.9993\n",
      "Epoch 57/100\n",
      "55000/55000 - 3s - loss: 0.0074 - acc: 0.9994\n",
      "Epoch 58/100\n",
      "55000/55000 - 3s - loss: 0.0070 - acc: 0.9995\n",
      "Epoch 59/100\n",
      "55000/55000 - 3s - loss: 0.0067 - acc: 0.9995\n",
      "Epoch 60/100\n",
      "55000/55000 - 3s - loss: 0.0064 - acc: 0.9996\n",
      "Epoch 61/100\n",
      "55000/55000 - 3s - loss: 0.0061 - acc: 0.9996\n",
      "Epoch 62/100\n",
      "55000/55000 - 3s - loss: 0.0058 - acc: 0.9996\n",
      "Epoch 63/100\n",
      "55000/55000 - 3s - loss: 0.0056 - acc: 0.9997\n",
      "Epoch 64/100\n",
      "55000/55000 - 3s - loss: 0.0053 - acc: 0.9998\n",
      "Epoch 65/100\n",
      "55000/55000 - 3s - loss: 0.0051 - acc: 0.9998\n",
      "Epoch 66/100\n",
      "55000/55000 - 3s - loss: 0.0049 - acc: 0.9998\n",
      "Epoch 67/100\n",
      "55000/55000 - 3s - loss: 0.0048 - acc: 0.9998\n",
      "Epoch 68/100\n",
      "55000/55000 - 3s - loss: 0.0046 - acc: 0.9998\n",
      "Epoch 69/100\n",
      "55000/55000 - 3s - loss: 0.0044 - acc: 0.9998\n",
      "Epoch 70/100\n",
      "55000/55000 - 3s - loss: 0.0043 - acc: 0.9998\n",
      "Epoch 71/100\n",
      "55000/55000 - 3s - loss: 0.0041 - acc: 0.9999\n",
      "Epoch 72/100\n",
      "55000/55000 - 3s - loss: 0.0040 - acc: 0.9999\n",
      "Epoch 73/100\n",
      "55000/55000 - 3s - loss: 0.0039 - acc: 0.9999\n",
      "Epoch 74/100\n",
      "55000/55000 - 3s - loss: 0.0037 - acc: 1.0000\n",
      "Epoch 75/100\n",
      "55000/55000 - 3s - loss: 0.0036 - acc: 0.9999\n",
      "Epoch 76/100\n",
      "55000/55000 - 3s - loss: 0.0035 - acc: 1.0000\n",
      "Epoch 77/100\n",
      "55000/55000 - 3s - loss: 0.0034 - acc: 1.0000\n",
      "Epoch 78/100\n",
      "55000/55000 - 3s - loss: 0.0033 - acc: 1.0000\n",
      "Epoch 79/100\n",
      "55000/55000 - 3s - loss: 0.0032 - acc: 0.9999\n",
      "Epoch 80/100\n",
      "55000/55000 - 3s - loss: 0.0031 - acc: 1.0000\n",
      "Epoch 81/100\n",
      "55000/55000 - 3s - loss: 0.0030 - acc: 1.0000\n",
      "Epoch 82/100\n",
      "55000/55000 - 3s - loss: 0.0029 - acc: 1.0000\n",
      "Epoch 83/100\n",
      "55000/55000 - 3s - loss: 0.0029 - acc: 1.0000\n",
      "Epoch 84/100\n",
      "55000/55000 - 3s - loss: 0.0028 - acc: 1.0000\n",
      "Epoch 85/100\n",
      "55000/55000 - 3s - loss: 0.0027 - acc: 1.0000\n",
      "Epoch 86/100\n",
      "55000/55000 - 3s - loss: 0.0026 - acc: 1.0000\n",
      "Epoch 87/100\n",
      "55000/55000 - 3s - loss: 0.0026 - acc: 1.0000\n",
      "Epoch 88/100\n",
      "55000/55000 - 3s - loss: 0.0025 - acc: 1.0000\n",
      "Epoch 89/100\n",
      "55000/55000 - 3s - loss: 0.0024 - acc: 1.0000\n",
      "Epoch 90/100\n",
      "55000/55000 - 3s - loss: 0.0024 - acc: 1.0000\n",
      "Epoch 91/100\n",
      "55000/55000 - 3s - loss: 0.0023 - acc: 1.0000\n",
      "Epoch 92/100\n",
      "55000/55000 - 3s - loss: 0.0023 - acc: 1.0000\n",
      "Epoch 93/100\n",
      "55000/55000 - 3s - loss: 0.0022 - acc: 1.0000\n",
      "Epoch 94/100\n",
      "55000/55000 - 3s - loss: 0.0022 - acc: 1.0000\n",
      "Epoch 95/100\n",
      "55000/55000 - 3s - loss: 0.0021 - acc: 1.0000\n",
      "Epoch 96/100\n",
      "55000/55000 - 3s - loss: 0.0021 - acc: 1.0000\n",
      "Epoch 97/100\n",
      "55000/55000 - 3s - loss: 0.0020 - acc: 1.0000\n",
      "Epoch 98/100\n",
      "55000/55000 - 3s - loss: 0.0020 - acc: 1.0000\n",
      "Epoch 99/100\n",
      "55000/55000 - 3s - loss: 0.0020 - acc: 1.0000\n",
      "Epoch 100/100\n",
      "55000/55000 - 3s - loss: 0.0019 - acc: 1.0000\n"
     ]
    }
   ],
   "source": [
    "info = model.fit(X_train_n.astype(np.float32), Y_train, epochs = num_iters, verbose=2)"
   ]
  },
  {
   "cell_type": "markdown",
   "metadata": {},
   "source": [
    "#### Plotting Loss"
   ]
  },
  {
   "cell_type": "code",
   "execution_count": 67,
   "metadata": {},
   "outputs": [
    {
     "data": {
      "image/png": "[encoded data removed]",
      "text/plain": [
       "<Figure size 432x288 with 1 Axes>"
      ]
     },
     "metadata": {
      "needs_background": "light"
     },
     "output_type": "display_data"
    }
   ],
   "source": [
    "plot_loss(loss_arr)"
   ]
  },
  {
   "cell_type": "markdown",
   "metadata": {},
   "source": [
    "#### Plotting Accuracy"
   ]
  },
  {
   "cell_type": "code",
   "execution_count": 68,
   "metadata": {},
   "outputs": [
    {
     "data": {
      "image/png": "[encoded data removed]",
      "text/plain": [
       "<Figure size 432x288 with 1 Axes>"
      ]
     },
     "metadata": {
      "needs_background": "light"
     },
     "output_type": "display_data"
    }
   ],
   "source": [
    "plot_acc(acc_arr)"
   ]
  },
  {
   "cell_type": "markdown",
   "metadata": {},
   "source": [
    "#### Validation Loss and Accuracy"
   ]
  },
  {
   "cell_type": "code",
   "execution_count": 69,
   "metadata": {},
   "outputs": [
    {
     "name": "stdout",
     "output_type": "stream",
     "text": [
      "5000/5000 [==============================] - 0s 41us/sample - loss: 0.0812 - acc: 0.9806\n",
      "Validation Loss: 0.08123220228652353\n",
      "Validation Accuracy: 0.9806\n"
     ]
    }
   ],
   "source": [
    "val_loss, val_acc = model.evaluate(X_val_n.astype(np.float32), Y_val)\n",
    "print('Validation Loss: ' + str(val_loss))\n",
    "print('Validation Accuracy: ' + str(val_acc))"
   ]
  },
  {
   "cell_type": "markdown",
   "metadata": {},
   "source": [
    "## Summary of Models - IV\n",
    "\n",
    "1. **Model1**: Number of Hidden Units = 32 - Loss: 0.144, Acc: 0.963\n",
    "2. **Model2**: Number of Hidden Units = 64 - Loss: 0.108, Acc: 0.974\n",
    "2. **Model3**: Number of Hidden Units = 128 - Loss: 0.081, Acc: 0.981\n",
    "\n",
    "Clearly, it is the model with 128 hidden units in both of the hidden layers performs better than the models with 32 and 64 hidden units in both of their hidden layers. This would have occurred because when we use more hidden units, we are able to learn even more complex functions which would predict the output better.\n",
    "\n",
    "## Conclusion\n",
    "\n",
    "Hence, in the further models we would be using 128 hidden units in each layer."
   ]
  },
  {
   "cell_type": "markdown",
   "metadata": {},
   "source": [
    "## Models - V: Activation Functions"
   ]
  },
  {
   "cell_type": "markdown",
   "metadata": {},
   "source": [
    "#### Hyperparameter (chosen above)"
   ]
  },
  {
   "cell_type": "code",
   "execution_count": 70,
   "metadata": {},
   "outputs": [],
   "source": [
    "num_hidden_units = 128"
   ]
  },
  {
   "cell_type": "markdown",
   "metadata": {},
   "source": [
    "### Model 1: Sigmoid\n",
    "#### Already evaluated - Loss: 0.081, Acc: 0.981"
   ]
  },
  {
   "cell_type": "markdown",
   "metadata": {},
   "source": [
    "### Model 2: Tanh"
   ]
  },
  {
   "cell_type": "markdown",
   "metadata": {},
   "source": [
    "#### Model"
   ]
  },
  {
   "cell_type": "code",
   "execution_count": 71,
   "metadata": {},
   "outputs": [],
   "source": [
    "model = tf.keras.Sequential([\n",
    "    tf.keras.layers.Dense(num_hidden_units, activation = tf.nn.tanh),\n",
    "    tf.keras.layers.Dense(num_hidden_units, activation = tf.nn.tanh),\n",
    "    tf.keras.layers.Dense(output_size, activation = tf.nn.softmax)\n",
    "])"
   ]
  },
  {
   "cell_type": "code",
   "execution_count": 72,
   "metadata": {},
   "outputs": [],
   "source": [
    "optimizer = tf.keras.optimizers.SGD(learning_rate = learning_rate)\n",
    "model.compile(optimizer=optimizer, loss = 'sparse_categorical_crossentropy', metrics = ['accuracy'])"
   ]
  },
  {
   "cell_type": "markdown",
   "metadata": {},
   "source": [
    "#### Train the Model"
   ]
  },
  {
   "cell_type": "code",
   "execution_count": 73,
   "metadata": {},
   "outputs": [
    {
     "name": "stdout",
     "output_type": "stream",
     "text": [
      "Epoch 1/100\n",
      "55000/55000 - 3s - loss: 0.3084 - acc: 0.9085\n",
      "Epoch 2/100\n",
      "55000/55000 - 3s - loss: 0.1554 - acc: 0.9538\n",
      "Epoch 3/100\n",
      "55000/55000 - 3s - loss: 0.1105 - acc: 0.9665\n",
      "Epoch 4/100\n",
      "55000/55000 - 3s - loss: 0.0837 - acc: 0.9745\n",
      "Epoch 5/100\n",
      "55000/55000 - 3s - loss: 0.0674 - acc: 0.9793\n",
      "Epoch 6/100\n",
      "55000/55000 - 3s - loss: 0.0541 - acc: 0.9836\n",
      "Epoch 7/100\n",
      "55000/55000 - 3s - loss: 0.0452 - acc: 0.9864\n",
      "Epoch 8/100\n",
      "55000/55000 - 3s - loss: 0.0367 - acc: 0.9890\n",
      "Epoch 9/100\n",
      "55000/55000 - 3s - loss: 0.0300 - acc: 0.9914\n",
      "Epoch 10/100\n",
      "55000/55000 - 3s - loss: 0.0249 - acc: 0.9934\n",
      "Epoch 11/100\n",
      "55000/55000 - 3s - loss: 0.0200 - acc: 0.9950\n",
      "Epoch 12/100\n",
      "55000/55000 - 3s - loss: 0.0166 - acc: 0.9962\n",
      "Epoch 13/100\n",
      "55000/55000 - 3s - loss: 0.0133 - acc: 0.9973\n",
      "Epoch 14/100\n",
      "55000/55000 - 3s - loss: 0.0107 - acc: 0.9981\n",
      "Epoch 15/100\n",
      "55000/55000 - 3s - loss: 0.0089 - acc: 0.9986\n",
      "Epoch 16/100\n",
      "55000/55000 - 3s - loss: 0.0071 - acc: 0.9990\n",
      "Epoch 17/100\n",
      "55000/55000 - 3s - loss: 0.0055 - acc: 0.9996\n",
      "Epoch 18/100\n",
      "55000/55000 - 3s - loss: 0.0046 - acc: 0.9996\n",
      "Epoch 19/100\n",
      "55000/55000 - 3s - loss: 0.0039 - acc: 0.9998\n",
      "Epoch 20/100\n",
      "55000/55000 - 3s - loss: 0.0032 - acc: 0.9999\n",
      "Epoch 21/100\n",
      "55000/55000 - 3s - loss: 0.0029 - acc: 0.9999\n",
      "Epoch 22/100\n",
      "55000/55000 - 3s - loss: 0.0025 - acc: 1.0000\n",
      "Epoch 23/100\n",
      "55000/55000 - 3s - loss: 0.0022 - acc: 1.0000\n",
      "Epoch 24/100\n",
      "55000/55000 - 3s - loss: 0.0020 - acc: 1.0000\n",
      "Epoch 25/100\n",
      "55000/55000 - 3s - loss: 0.0018 - acc: 1.0000\n",
      "Epoch 26/100\n",
      "55000/55000 - 3s - loss: 0.0016 - acc: 1.0000\n",
      "Epoch 27/100\n",
      "55000/55000 - 3s - loss: 0.0015 - acc: 1.0000\n",
      "Epoch 28/100\n",
      "55000/55000 - 3s - loss: 0.0014 - acc: 1.0000\n",
      "Epoch 29/100\n",
      "55000/55000 - 3s - loss: 0.0013 - acc: 1.0000\n",
      "Epoch 30/100\n",
      "55000/55000 - 3s - loss: 0.0012 - acc: 1.0000\n",
      "Epoch 31/100\n",
      "55000/55000 - 3s - loss: 0.0011 - acc: 1.0000\n",
      "Epoch 32/100\n",
      "55000/55000 - 3s - loss: 0.0011 - acc: 1.0000\n",
      "Epoch 33/100\n",
      "55000/55000 - 3s - loss: 0.0010 - acc: 1.0000\n",
      "Epoch 34/100\n",
      "55000/55000 - 3s - loss: 9.6681e-04 - acc: 1.0000\n",
      "Epoch 35/100\n",
      "55000/55000 - 3s - loss: 9.1171e-04 - acc: 1.0000\n",
      "Epoch 36/100\n",
      "55000/55000 - 3s - loss: 8.7350e-04 - acc: 1.0000\n",
      "Epoch 37/100\n",
      "55000/55000 - 3s - loss: 8.2850e-04 - acc: 1.0000\n",
      "Epoch 38/100\n",
      "55000/55000 - 3s - loss: 7.8817e-04 - acc: 1.0000\n",
      "Epoch 39/100\n",
      "55000/55000 - 3s - loss: 7.5958e-04 - acc: 1.0000\n",
      "Epoch 40/100\n",
      "55000/55000 - 3s - loss: 7.2832e-04 - acc: 1.0000\n",
      "Epoch 41/100\n",
      "55000/55000 - 3s - loss: 6.9995e-04 - acc: 1.0000\n",
      "Epoch 42/100\n",
      "55000/55000 - 3s - loss: 6.7260e-04 - acc: 1.0000\n",
      "Epoch 43/100\n",
      "55000/55000 - 3s - loss: 6.4525e-04 - acc: 1.0000\n",
      "Epoch 44/100\n",
      "55000/55000 - 3s - loss: 6.2472e-04 - acc: 1.0000\n",
      "Epoch 45/100\n",
      "55000/55000 - 3s - loss: 6.0028e-04 - acc: 1.0000\n",
      "Epoch 46/100\n",
      "55000/55000 - 3s - loss: 5.8030e-04 - acc: 1.0000\n",
      "Epoch 47/100\n",
      "55000/55000 - 3s - loss: 5.5990e-04 - acc: 1.0000\n",
      "Epoch 48/100\n",
      "55000/55000 - 3s - loss: 5.4143e-04 - acc: 1.0000\n",
      "Epoch 49/100\n",
      "55000/55000 - 3s - loss: 5.2591e-04 - acc: 1.0000\n",
      "Epoch 50/100\n",
      "55000/55000 - 3s - loss: 5.0815e-04 - acc: 1.0000\n",
      "Epoch 51/100\n",
      "55000/55000 - 3s - loss: 4.9362e-04 - acc: 1.0000\n",
      "Epoch 52/100\n",
      "55000/55000 - 3s - loss: 4.8015e-04 - acc: 1.0000\n",
      "Epoch 53/100\n",
      "55000/55000 - 3s - loss: 4.6684e-04 - acc: 1.0000\n",
      "Epoch 54/100\n",
      "55000/55000 - 3s - loss: 4.5121e-04 - acc: 1.0000\n",
      "Epoch 55/100\n",
      "55000/55000 - 3s - loss: 4.4172e-04 - acc: 1.0000\n",
      "Epoch 56/100\n",
      "55000/55000 - 3s - loss: 4.2818e-04 - acc: 1.0000\n",
      "Epoch 57/100\n",
      "55000/55000 - 3s - loss: 4.1793e-04 - acc: 1.0000\n",
      "Epoch 58/100\n",
      "55000/55000 - 3s - loss: 4.0654e-04 - acc: 1.0000\n",
      "Epoch 59/100\n",
      "55000/55000 - 3s - loss: 3.9642e-04 - acc: 1.0000\n",
      "Epoch 60/100\n",
      "55000/55000 - 3s - loss: 3.8651e-04 - acc: 1.0000\n",
      "Epoch 61/100\n",
      "55000/55000 - 3s - loss: 3.7684e-04 - acc: 1.0000\n",
      "Epoch 62/100\n",
      "55000/55000 - 3s - loss: 3.6798e-04 - acc: 1.0000\n",
      "Epoch 63/100\n",
      "55000/55000 - 3s - loss: 3.6043e-04 - acc: 1.0000\n",
      "Epoch 64/100\n",
      "55000/55000 - 3s - loss: 3.5239e-04 - acc: 1.0000\n",
      "Epoch 65/100\n",
      "55000/55000 - 3s - loss: 3.4363e-04 - acc: 1.0000\n",
      "Epoch 66/100\n",
      "55000/55000 - 3s - loss: 3.3716e-04 - acc: 1.0000\n",
      "Epoch 67/100\n",
      "55000/55000 - 3s - loss: 3.2932e-04 - acc: 1.0000\n",
      "Epoch 68/100\n",
      "55000/55000 - 3s - loss: 3.2246e-04 - acc: 1.0000\n",
      "Epoch 69/100\n",
      "55000/55000 - 3s - loss: 3.1588e-04 - acc: 1.0000\n",
      "Epoch 70/100\n",
      "55000/55000 - 3s - loss: 3.1018e-04 - acc: 1.0000\n",
      "Epoch 71/100\n",
      "55000/55000 - 3s - loss: 3.0341e-04 - acc: 1.0000\n",
      "Epoch 72/100\n",
      "55000/55000 - 3s - loss: 2.9804e-04 - acc: 1.0000\n",
      "Epoch 73/100\n",
      "55000/55000 - 3s - loss: 2.9195e-04 - acc: 1.0000\n",
      "Epoch 74/100\n",
      "55000/55000 - 3s - loss: 2.8629e-04 - acc: 1.0000\n",
      "Epoch 75/100\n",
      "55000/55000 - 3s - loss: 2.8127e-04 - acc: 1.0000\n",
      "Epoch 76/100\n",
      "55000/55000 - 3s - loss: 2.7527e-04 - acc: 1.0000\n",
      "Epoch 77/100\n",
      "55000/55000 - 3s - loss: 2.7101e-04 - acc: 1.0000\n",
      "Epoch 78/100\n",
      "55000/55000 - 4s - loss: 2.6523e-04 - acc: 1.0000\n",
      "Epoch 79/100\n",
      "55000/55000 - 3s - loss: 2.6128e-04 - acc: 1.0000\n",
      "Epoch 80/100\n",
      "55000/55000 - 3s - loss: 2.5727e-04 - acc: 1.0000\n",
      "Epoch 81/100\n",
      "55000/55000 - 3s - loss: 2.5192e-04 - acc: 1.0000\n",
      "Epoch 82/100\n",
      "55000/55000 - 3s - loss: 2.4781e-04 - acc: 1.0000\n",
      "Epoch 83/100\n",
      "55000/55000 - 3s - loss: 2.4397e-04 - acc: 1.0000\n",
      "Epoch 84/100\n",
      "55000/55000 - 3s - loss: 2.4011e-04 - acc: 1.0000\n",
      "Epoch 85/100\n",
      "55000/55000 - 3s - loss: 2.3621e-04 - acc: 1.0000\n",
      "Epoch 86/100\n",
      "55000/55000 - 3s - loss: 2.3252e-04 - acc: 1.0000\n",
      "Epoch 87/100\n",
      "55000/55000 - 3s - loss: 2.2877e-04 - acc: 1.0000\n",
      "Epoch 88/100\n",
      "55000/55000 - 3s - loss: 2.2503e-04 - acc: 1.0000\n",
      "Epoch 89/100\n",
      "55000/55000 - 3s - loss: 2.2156e-04 - acc: 1.0000\n",
      "Epoch 90/100\n",
      "55000/55000 - 3s - loss: 2.1811e-04 - acc: 1.0000\n",
      "Epoch 91/100\n",
      "55000/55000 - 3s - loss: 2.1481e-04 - acc: 1.0000\n",
      "Epoch 92/100\n",
      "55000/55000 - 3s - loss: 2.1200e-04 - acc: 1.0000\n",
      "Epoch 93/100\n",
      "55000/55000 - 3s - loss: 2.0891e-04 - acc: 1.0000\n",
      "Epoch 94/100\n",
      "55000/55000 - 3s - loss: 2.0584e-04 - acc: 1.0000\n",
      "Epoch 95/100\n",
      "55000/55000 - 3s - loss: 2.0312e-04 - acc: 1.0000\n",
      "Epoch 96/100\n",
      "55000/55000 - 3s - loss: 2.0000e-04 - acc: 1.0000\n",
      "Epoch 97/100\n",
      "55000/55000 - 3s - loss: 1.9707e-04 - acc: 1.0000\n",
      "Epoch 98/100\n",
      "55000/55000 - 3s - loss: 1.9435e-04 - acc: 1.0000\n",
      "Epoch 99/100\n",
      "55000/55000 - 3s - loss: 1.9199e-04 - acc: 1.0000\n",
      "Epoch 100/100\n",
      "55000/55000 - 3s - loss: 1.8927e-04 - acc: 1.0000\n"
     ]
    }
   ],
   "source": [
    "info = model.fit(X_train_n.astype(np.float32), Y_train, epochs = num_iters, verbose=2)"
   ]
  },
  {
   "cell_type": "markdown",
   "metadata": {},
   "source": [
    "#### Plotting Loss"
   ]
  },
  {
   "cell_type": "code",
   "execution_count": 74,
   "metadata": {},
   "outputs": [
    {
     "data": {
      "image/png": "[encoded data removed]",
      "text/plain": [
       "<Figure size 432x288 with 1 Axes>"
      ]
     },
     "metadata": {
      "needs_background": "light"
     },
     "output_type": "display_data"
    }
   ],
   "source": [
    "plot_loss(loss_arr)"
   ]
  },
  {
   "cell_type": "markdown",
   "metadata": {},
   "source": [
    "#### Plotting Accuracy"
   ]
  },
  {
   "cell_type": "code",
   "execution_count": 75,
   "metadata": {},
   "outputs": [
    {
     "data": {
      "image/png": "[encoded data removed]",
      "text/plain": [
       "<Figure size 432x288 with 1 Axes>"
      ]
     },
     "metadata": {
      "needs_background": "light"
     },
     "output_type": "display_data"
    }
   ],
   "source": [
    "plot_acc(acc_arr)"
   ]
  },
  {
   "cell_type": "markdown",
   "metadata": {},
   "source": [
    "#### Validation Loss and Accuracy"
   ]
  },
  {
   "cell_type": "code",
   "execution_count": 76,
   "metadata": {},
   "outputs": [
    {
     "name": "stdout",
     "output_type": "stream",
     "text": [
      "5000/5000 [==============================] - 0s 42us/sample - loss: 0.1001 - acc: 0.9794\n",
      "Validation Loss: 0.10009093998461485\n",
      "Validation Accuracy: 0.9794\n"
     ]
    }
   ],
   "source": [
    "val_loss, val_acc = model.evaluate(X_val_n.astype(np.float32), Y_val)\n",
    "print('Validation Loss: ' + str(val_loss))\n",
    "print('Validation Accuracy: ' + str(val_acc))"
   ]
  },
  {
   "cell_type": "markdown",
   "metadata": {},
   "source": [
    "### Model 3: Relu"
   ]
  },
  {
   "cell_type": "markdown",
   "metadata": {},
   "source": [
    "#### Model"
   ]
  },
  {
   "cell_type": "code",
   "execution_count": 77,
   "metadata": {},
   "outputs": [],
   "source": [
    "model = tf.keras.Sequential([\n",
    "    tf.keras.layers.Dense(num_hidden_units, activation = tf.nn.relu),\n",
    "    tf.keras.layers.Dense(num_hidden_units, activation = tf.nn.relu),\n",
    "    tf.keras.layers.Dense(output_size, activation = tf.nn.softmax)\n",
    "])"
   ]
  },
  {
   "cell_type": "code",
   "execution_count": 78,
   "metadata": {},
   "outputs": [],
   "source": [
    "optimizer = tf.keras.optimizers.SGD(learning_rate = learning_rate)\n",
    "model.compile(optimizer=optimizer, loss = 'sparse_categorical_crossentropy', metrics = ['accuracy'])"
   ]
  },
  {
   "cell_type": "markdown",
   "metadata": {},
   "source": [
    "#### Train the Model"
   ]
  },
  {
   "cell_type": "code",
   "execution_count": 79,
   "metadata": {},
   "outputs": [
    {
     "name": "stdout",
     "output_type": "stream",
     "text": [
      "Epoch 1/100\n",
      "55000/55000 - 3s - loss: 0.2870 - acc: 0.9143\n",
      "Epoch 2/100\n",
      "55000/55000 - 3s - loss: 0.1204 - acc: 0.9640\n",
      "Epoch 3/100\n",
      "55000/55000 - 3s - loss: 0.0855 - acc: 0.9736\n",
      "Epoch 4/100\n",
      "55000/55000 - 3s - loss: 0.0651 - acc: 0.9793\n",
      "Epoch 5/100\n",
      "55000/55000 - 3s - loss: 0.0494 - acc: 0.9847\n",
      "Epoch 6/100\n",
      "55000/55000 - 3s - loss: 0.0395 - acc: 0.9881\n",
      "Epoch 7/100\n",
      "55000/55000 - 3s - loss: 0.0317 - acc: 0.9898\n",
      "Epoch 8/100\n",
      "55000/55000 - 3s - loss: 0.0251 - acc: 0.9924\n",
      "Epoch 9/100\n",
      "55000/55000 - 3s - loss: 0.0201 - acc: 0.9938\n",
      "Epoch 10/100\n",
      "55000/55000 - 3s - loss: 0.0150 - acc: 0.9958\n",
      "Epoch 11/100\n",
      "55000/55000 - 3s - loss: 0.0131 - acc: 0.9963\n",
      "Epoch 12/100\n",
      "55000/55000 - 3s - loss: 0.0092 - acc: 0.9977\n",
      "Epoch 13/100\n",
      "55000/55000 - 3s - loss: 0.0056 - acc: 0.9990\n",
      "Epoch 14/100\n",
      "55000/55000 - 3s - loss: 0.0052 - acc: 0.9989\n",
      "Epoch 15/100\n",
      "55000/55000 - 3s - loss: 0.0032 - acc: 0.9996\n",
      "Epoch 16/100\n",
      "55000/55000 - 3s - loss: 0.0018 - acc: 0.9999\n",
      "Epoch 17/100\n",
      "55000/55000 - 3s - loss: 0.0014 - acc: 0.9999\n",
      "Epoch 18/100\n",
      "55000/55000 - 3s - loss: 0.0011 - acc: 1.0000\n",
      "Epoch 19/100\n",
      "55000/55000 - 3s - loss: 9.0504e-04 - acc: 1.0000\n",
      "Epoch 20/100\n",
      "55000/55000 - 3s - loss: 7.9198e-04 - acc: 1.0000\n",
      "Epoch 21/100\n",
      "55000/55000 - 3s - loss: 6.9085e-04 - acc: 1.0000\n",
      "Epoch 22/100\n",
      "55000/55000 - 3s - loss: 6.4469e-04 - acc: 1.0000\n",
      "Epoch 23/100\n",
      "55000/55000 - 3s - loss: 5.7831e-04 - acc: 1.0000\n",
      "Epoch 24/100\n",
      "55000/55000 - 3s - loss: 5.3435e-04 - acc: 1.0000\n",
      "Epoch 25/100\n",
      "55000/55000 - 3s - loss: 4.9814e-04 - acc: 1.0000\n",
      "Epoch 26/100\n",
      "55000/55000 - 3s - loss: 4.6523e-04 - acc: 1.0000\n",
      "Epoch 27/100\n",
      "55000/55000 - 3s - loss: 4.3533e-04 - acc: 1.0000\n",
      "Epoch 28/100\n",
      "55000/55000 - 3s - loss: 4.0927e-04 - acc: 1.0000\n",
      "Epoch 29/100\n",
      "55000/55000 - 3s - loss: 3.8550e-04 - acc: 1.0000\n",
      "Epoch 30/100\n",
      "55000/55000 - 3s - loss: 3.6567e-04 - acc: 1.0000\n",
      "Epoch 31/100\n",
      "55000/55000 - 3s - loss: 3.4796e-04 - acc: 1.0000\n",
      "Epoch 32/100\n",
      "55000/55000 - 3s - loss: 3.3050e-04 - acc: 1.0000\n",
      "Epoch 33/100\n",
      "55000/55000 - 3s - loss: 3.1566e-04 - acc: 1.0000\n",
      "Epoch 34/100\n",
      "55000/55000 - 3s - loss: 3.0250e-04 - acc: 1.0000\n",
      "Epoch 35/100\n",
      "55000/55000 - 3s - loss: 2.8735e-04 - acc: 1.0000\n",
      "Epoch 36/100\n",
      "55000/55000 - 3s - loss: 2.7607e-04 - acc: 1.0000\n",
      "Epoch 37/100\n",
      "55000/55000 - 3s - loss: 2.6585e-04 - acc: 1.0000\n",
      "Epoch 38/100\n",
      "55000/55000 - 3s - loss: 2.5621e-04 - acc: 1.0000\n",
      "Epoch 39/100\n",
      "55000/55000 - 3s - loss: 2.4537e-04 - acc: 1.0000\n",
      "Epoch 40/100\n",
      "55000/55000 - 3s - loss: 2.3835e-04 - acc: 1.0000\n",
      "Epoch 41/100\n",
      "55000/55000 - 3s - loss: 2.2929e-04 - acc: 1.0000\n",
      "Epoch 42/100\n",
      "55000/55000 - 3s - loss: 2.2167e-04 - acc: 1.0000\n",
      "Epoch 43/100\n",
      "55000/55000 - 3s - loss: 2.1521e-04 - acc: 1.0000\n",
      "Epoch 44/100\n",
      "55000/55000 - 3s - loss: 2.0779e-04 - acc: 1.0000\n",
      "Epoch 45/100\n",
      "55000/55000 - 3s - loss: 2.0052e-04 - acc: 1.0000\n",
      "Epoch 46/100\n",
      "55000/55000 - 3s - loss: 1.9540e-04 - acc: 1.0000\n",
      "Epoch 47/100\n",
      "55000/55000 - 3s - loss: 1.8918e-04 - acc: 1.0000\n",
      "Epoch 48/100\n",
      "55000/55000 - 3s - loss: 1.8380e-04 - acc: 1.0000\n",
      "Epoch 49/100\n",
      "55000/55000 - 3s - loss: 1.7920e-04 - acc: 1.0000\n",
      "Epoch 50/100\n",
      "55000/55000 - 3s - loss: 1.7446e-04 - acc: 1.0000\n",
      "Epoch 51/100\n",
      "55000/55000 - 3s - loss: 1.6915e-04 - acc: 1.0000\n",
      "Epoch 52/100\n",
      "55000/55000 - 3s - loss: 1.6518e-04 - acc: 1.0000\n",
      "Epoch 53/100\n",
      "55000/55000 - 3s - loss: 1.6048e-04 - acc: 1.0000\n",
      "Epoch 54/100\n",
      "55000/55000 - 3s - loss: 1.5664e-04 - acc: 1.0000\n",
      "Epoch 55/100\n",
      "55000/55000 - 3s - loss: 1.5281e-04 - acc: 1.0000\n",
      "Epoch 56/100\n",
      "55000/55000 - 3s - loss: 1.4952e-04 - acc: 1.0000\n",
      "Epoch 57/100\n",
      "55000/55000 - 3s - loss: 1.4581e-04 - acc: 1.0000\n",
      "Epoch 58/100\n",
      "55000/55000 - 3s - loss: 1.4229e-04 - acc: 1.0000\n",
      "Epoch 59/100\n",
      "55000/55000 - 3s - loss: 1.3930e-04 - acc: 1.0000\n",
      "Epoch 60/100\n",
      "55000/55000 - 3s - loss: 1.3613e-04 - acc: 1.0000\n",
      "Epoch 61/100\n",
      "55000/55000 - 3s - loss: 1.3313e-04 - acc: 1.0000\n",
      "Epoch 62/100\n",
      "55000/55000 - 3s - loss: 1.3047e-04 - acc: 1.0000\n",
      "Epoch 63/100\n",
      "55000/55000 - 3s - loss: 1.2781e-04 - acc: 1.0000\n",
      "Epoch 64/100\n",
      "55000/55000 - 3s - loss: 1.2531e-04 - acc: 1.0000\n",
      "Epoch 65/100\n",
      "55000/55000 - 3s - loss: 1.2256e-04 - acc: 1.0000\n",
      "Epoch 66/100\n",
      "55000/55000 - 3s - loss: 1.1990e-04 - acc: 1.0000\n",
      "Epoch 67/100\n",
      "55000/55000 - 3s - loss: 1.1784e-04 - acc: 1.0000\n",
      "Epoch 68/100\n",
      "55000/55000 - 3s - loss: 1.1563e-04 - acc: 1.0000\n",
      "Epoch 69/100\n",
      "55000/55000 - 3s - loss: 1.1337e-04 - acc: 1.0000\n",
      "Epoch 70/100\n",
      "55000/55000 - 3s - loss: 1.1120e-04 - acc: 1.0000\n",
      "Epoch 71/100\n",
      "55000/55000 - 3s - loss: 1.0907e-04 - acc: 1.0000\n",
      "Epoch 72/100\n",
      "55000/55000 - 3s - loss: 1.0720e-04 - acc: 1.0000\n",
      "Epoch 73/100\n",
      "55000/55000 - 3s - loss: 1.0547e-04 - acc: 1.0000\n",
      "Epoch 74/100\n",
      "55000/55000 - 3s - loss: 1.0351e-04 - acc: 1.0000\n",
      "Epoch 75/100\n",
      "55000/55000 - 3s - loss: 1.0177e-04 - acc: 1.0000\n",
      "Epoch 76/100\n",
      "55000/55000 - 3s - loss: 1.0034e-04 - acc: 1.0000\n",
      "Epoch 77/100\n",
      "55000/55000 - 3s - loss: 9.8301e-05 - acc: 1.0000\n",
      "Epoch 78/100\n",
      "55000/55000 - 3s - loss: 9.6412e-05 - acc: 1.0000\n",
      "Epoch 79/100\n",
      "55000/55000 - 3s - loss: 9.5162e-05 - acc: 1.0000\n",
      "Epoch 80/100\n",
      "55000/55000 - 3s - loss: 9.3692e-05 - acc: 1.0000\n",
      "Epoch 81/100\n",
      "55000/55000 - 3s - loss: 9.2180e-05 - acc: 1.0000\n",
      "Epoch 82/100\n",
      "55000/55000 - 3s - loss: 9.0589e-05 - acc: 1.0000\n",
      "Epoch 83/100\n",
      "55000/55000 - 3s - loss: 8.9387e-05 - acc: 1.0000\n",
      "Epoch 84/100\n",
      "55000/55000 - 3s - loss: 8.8045e-05 - acc: 1.0000\n",
      "Epoch 85/100\n",
      "55000/55000 - 3s - loss: 8.6623e-05 - acc: 1.0000\n",
      "Epoch 86/100\n",
      "55000/55000 - 3s - loss: 8.5196e-05 - acc: 1.0000\n",
      "Epoch 87/100\n",
      "55000/55000 - 3s - loss: 8.4088e-05 - acc: 1.0000\n",
      "Epoch 88/100\n",
      "55000/55000 - 3s - loss: 8.2677e-05 - acc: 1.0000\n",
      "Epoch 89/100\n",
      "55000/55000 - 3s - loss: 8.1552e-05 - acc: 1.0000\n",
      "Epoch 90/100\n",
      "55000/55000 - 3s - loss: 8.0381e-05 - acc: 1.0000\n",
      "Epoch 91/100\n",
      "55000/55000 - 3s - loss: 7.9388e-05 - acc: 1.0000\n",
      "Epoch 92/100\n",
      "55000/55000 - 3s - loss: 7.8337e-05 - acc: 1.0000\n",
      "Epoch 93/100\n",
      "55000/55000 - 3s - loss: 7.7211e-05 - acc: 1.0000\n",
      "Epoch 94/100\n",
      "55000/55000 - 3s - loss: 7.6237e-05 - acc: 1.0000\n",
      "Epoch 95/100\n",
      "55000/55000 - 3s - loss: 7.5027e-05 - acc: 1.0000\n",
      "Epoch 96/100\n",
      "55000/55000 - 3s - loss: 7.4181e-05 - acc: 1.0000\n",
      "Epoch 97/100\n",
      "55000/55000 - 3s - loss: 7.3187e-05 - acc: 1.0000\n",
      "Epoch 98/100\n",
      "55000/55000 - 3s - loss: 7.2234e-05 - acc: 1.0000\n",
      "Epoch 99/100\n",
      "55000/55000 - 3s - loss: 7.1389e-05 - acc: 1.0000\n",
      "Epoch 100/100\n",
      "55000/55000 - 3s - loss: 7.0467e-05 - acc: 1.0000\n"
     ]
    }
   ],
   "source": [
    "info = model.fit(X_train_n.astype(np.float32), Y_train, epochs = num_iters, verbose=2)"
   ]
  },
  {
   "cell_type": "markdown",
   "metadata": {},
   "source": [
    "#### Plotting Loss"
   ]
  },
  {
   "cell_type": "code",
   "execution_count": 80,
   "metadata": {},
   "outputs": [
    {
     "data": {
      "image/png": "[encoded data removed]",
      "text/plain": [
       "<Figure size 432x288 with 1 Axes>"
      ]
     },
     "metadata": {
      "needs_background": "light"
     },
     "output_type": "display_data"
    }
   ],
   "source": [
    "plot_loss(loss_arr)"
   ]
  },
  {
   "cell_type": "markdown",
   "metadata": {},
   "source": [
    "#### Plotting Accuracy"
   ]
  },
  {
   "cell_type": "code",
   "execution_count": 81,
   "metadata": {},
   "outputs": [
    {
     "data": {
      "image/png": "[encoded data removed]",
      "text/plain": [
       "<Figure size 432x288 with 1 Axes>"
      ]
     },
     "metadata": {
      "needs_background": "light"
     },
     "output_type": "display_data"
    }
   ],
   "source": [
    "plot_acc(acc_arr)"
   ]
  },
  {
   "cell_type": "markdown",
   "metadata": {},
   "source": [
    "#### Validation Loss and Accuracy"
   ]
  },
  {
   "cell_type": "code",
   "execution_count": 82,
   "metadata": {},
   "outputs": [
    {
     "name": "stdout",
     "output_type": "stream",
     "text": [
      "5000/5000 [==============================] - 0s 41us/sample - loss: 0.0943 - acc: 0.9826\n",
      "Validation Loss: 0.09433380090976676\n",
      "Validation Accuracy: 0.9826\n"
     ]
    }
   ],
   "source": [
    "val_loss, val_acc = model.evaluate(X_val_n.astype(np.float32), Y_val)\n",
    "print('Validation Loss: ' + str(val_loss))\n",
    "print('Validation Accuracy: ' + str(val_acc))"
   ]
  },
  {
   "cell_type": "markdown",
   "metadata": {},
   "source": [
    "### Model 4: Leaky Relu"
   ]
  },
  {
   "cell_type": "markdown",
   "metadata": {},
   "source": [
    "#### Model"
   ]
  },
  {
   "cell_type": "code",
   "execution_count": 83,
   "metadata": {},
   "outputs": [],
   "source": [
    "model = tf.keras.Sequential([\n",
    "    tf.keras.layers.Dense(num_hidden_units, activation = tf.nn.leaky_relu),\n",
    "    tf.keras.layers.Dense(num_hidden_units, activation = tf.nn.leaky_relu),\n",
    "    tf.keras.layers.Dense(output_size, activation = tf.nn.softmax)\n",
    "])"
   ]
  },
  {
   "cell_type": "code",
   "execution_count": 84,
   "metadata": {},
   "outputs": [],
   "source": [
    "optimizer = tf.keras.optimizers.SGD(learning_rate = learning_rate)\n",
    "model.compile(optimizer=optimizer, loss = 'sparse_categorical_crossentropy', metrics = ['accuracy'])"
   ]
  },
  {
   "cell_type": "markdown",
   "metadata": {},
   "source": [
    "#### Train the Model"
   ]
  },
  {
   "cell_type": "code",
   "execution_count": 85,
   "metadata": {},
   "outputs": [
    {
     "name": "stdout",
     "output_type": "stream",
     "text": [
      "Epoch 1/100\n",
      "55000/55000 - 3s - loss: 0.3006 - acc: 0.9104\n",
      "Epoch 2/100\n",
      "55000/55000 - 3s - loss: 0.1370 - acc: 0.9584\n",
      "Epoch 3/100\n",
      "55000/55000 - 3s - loss: 0.0985 - acc: 0.9696\n",
      "Epoch 4/100\n",
      "55000/55000 - 3s - loss: 0.0795 - acc: 0.9751\n",
      "Epoch 5/100\n",
      "55000/55000 - 3s - loss: 0.0636 - acc: 0.9799\n",
      "Epoch 6/100\n",
      "55000/55000 - 3s - loss: 0.0533 - acc: 0.9830\n",
      "Epoch 7/100\n",
      "55000/55000 - 3s - loss: 0.0443 - acc: 0.9864\n",
      "Epoch 8/100\n",
      "55000/55000 - 3s - loss: 0.0388 - acc: 0.9877\n",
      "Epoch 9/100\n",
      "55000/55000 - 3s - loss: 0.0332 - acc: 0.9892\n",
      "Epoch 10/100\n",
      "55000/55000 - 3s - loss: 0.0274 - acc: 0.9915\n",
      "Epoch 11/100\n",
      "55000/55000 - 3s - loss: 0.0225 - acc: 0.9934\n",
      "Epoch 12/100\n",
      "55000/55000 - 3s - loss: 0.0192 - acc: 0.9942\n",
      "Epoch 13/100\n",
      "55000/55000 - 3s - loss: 0.0163 - acc: 0.9952\n",
      "Epoch 14/100\n",
      "55000/55000 - 3s - loss: 0.0140 - acc: 0.9959\n",
      "Epoch 15/100\n",
      "55000/55000 - 3s - loss: 0.0091 - acc: 0.9980\n",
      "Epoch 16/100\n",
      "55000/55000 - 3s - loss: 0.0090 - acc: 0.9975\n",
      "Epoch 17/100\n",
      "55000/55000 - 3s - loss: 0.0081 - acc: 0.9977\n",
      "Epoch 18/100\n",
      "55000/55000 - 3s - loss: 0.0051 - acc: 0.9991\n",
      "Epoch 19/100\n",
      "55000/55000 - 3s - loss: 0.0037 - acc: 0.9994\n",
      "Epoch 20/100\n",
      "55000/55000 - 3s - loss: 0.0032 - acc: 0.9995\n",
      "Epoch 21/100\n",
      "55000/55000 - 3s - loss: 0.0021 - acc: 0.9998\n",
      "Epoch 22/100\n",
      "55000/55000 - 3s - loss: 0.0014 - acc: 0.9999\n",
      "Epoch 23/100\n",
      "55000/55000 - 3s - loss: 0.0012 - acc: 0.9999\n",
      "Epoch 24/100\n",
      "55000/55000 - 3s - loss: 0.0010 - acc: 1.0000\n",
      "Epoch 25/100\n",
      "55000/55000 - 3s - loss: 7.8259e-04 - acc: 1.0000\n",
      "Epoch 26/100\n",
      "55000/55000 - 3s - loss: 7.1733e-04 - acc: 1.0000\n",
      "Epoch 27/100\n",
      "55000/55000 - 3s - loss: 6.5660e-04 - acc: 1.0000\n",
      "Epoch 28/100\n",
      "55000/55000 - 3s - loss: 5.9598e-04 - acc: 1.0000\n",
      "Epoch 29/100\n",
      "55000/55000 - 3s - loss: 5.5340e-04 - acc: 1.0000\n",
      "Epoch 30/100\n",
      "55000/55000 - 3s - loss: 5.2058e-04 - acc: 1.0000\n",
      "Epoch 31/100\n",
      "55000/55000 - 3s - loss: 4.8535e-04 - acc: 1.0000\n",
      "Epoch 32/100\n",
      "55000/55000 - 3s - loss: 4.5690e-04 - acc: 1.0000\n",
      "Epoch 33/100\n",
      "55000/55000 - 3s - loss: 4.3455e-04 - acc: 1.0000\n",
      "Epoch 34/100\n",
      "55000/55000 - 3s - loss: 4.0790e-04 - acc: 1.0000\n",
      "Epoch 35/100\n",
      "55000/55000 - 3s - loss: 3.9212e-04 - acc: 1.0000\n",
      "Epoch 36/100\n",
      "55000/55000 - 3s - loss: 3.7374e-04 - acc: 1.0000\n",
      "Epoch 37/100\n",
      "55000/55000 - 3s - loss: 3.5873e-04 - acc: 1.0000\n",
      "Epoch 38/100\n",
      "55000/55000 - 3s - loss: 3.4010e-04 - acc: 1.0000\n",
      "Epoch 39/100\n",
      "55000/55000 - 3s - loss: 3.2723e-04 - acc: 1.0000\n",
      "Epoch 40/100\n",
      "55000/55000 - 3s - loss: 3.1365e-04 - acc: 1.0000\n",
      "Epoch 41/100\n",
      "55000/55000 - 3s - loss: 3.0266e-04 - acc: 1.0000\n",
      "Epoch 42/100\n",
      "55000/55000 - 3s - loss: 2.9162e-04 - acc: 1.0000\n",
      "Epoch 43/100\n",
      "55000/55000 - 3s - loss: 2.8085e-04 - acc: 1.0000\n",
      "Epoch 44/100\n",
      "55000/55000 - 3s - loss: 2.7249e-04 - acc: 1.0000\n",
      "Epoch 45/100\n",
      "55000/55000 - 3s - loss: 2.6172e-04 - acc: 1.0000\n",
      "Epoch 46/100\n",
      "55000/55000 - 3s - loss: 2.5381e-04 - acc: 1.0000\n",
      "Epoch 47/100\n",
      "55000/55000 - 3s - loss: 2.4550e-04 - acc: 1.0000\n",
      "Epoch 48/100\n",
      "55000/55000 - 3s - loss: 2.3849e-04 - acc: 1.0000\n",
      "Epoch 49/100\n",
      "55000/55000 - 3s - loss: 2.3133e-04 - acc: 1.0000\n",
      "Epoch 50/100\n",
      "55000/55000 - 3s - loss: 2.2407e-04 - acc: 1.0000\n",
      "Epoch 51/100\n",
      "55000/55000 - 3s - loss: 2.1872e-04 - acc: 1.0000\n",
      "Epoch 52/100\n",
      "55000/55000 - 3s - loss: 2.1181e-04 - acc: 1.0000\n",
      "Epoch 53/100\n",
      "55000/55000 - 3s - loss: 2.0675e-04 - acc: 1.0000\n",
      "Epoch 54/100\n",
      "55000/55000 - 3s - loss: 2.0053e-04 - acc: 1.0000\n",
      "Epoch 55/100\n",
      "55000/55000 - 3s - loss: 1.9595e-04 - acc: 1.0000\n",
      "Epoch 56/100\n",
      "55000/55000 - 3s - loss: 1.9124e-04 - acc: 1.0000\n",
      "Epoch 57/100\n",
      "55000/55000 - 3s - loss: 1.8616e-04 - acc: 1.0000\n",
      "Epoch 58/100\n",
      "55000/55000 - 3s - loss: 1.8155e-04 - acc: 1.0000\n",
      "Epoch 59/100\n",
      "55000/55000 - 3s - loss: 1.7720e-04 - acc: 1.0000\n",
      "Epoch 60/100\n",
      "55000/55000 - 3s - loss: 1.7361e-04 - acc: 1.0000\n",
      "Epoch 61/100\n",
      "55000/55000 - 3s - loss: 1.6930e-04 - acc: 1.0000\n",
      "Epoch 62/100\n",
      "55000/55000 - 3s - loss: 1.6517e-04 - acc: 1.0000\n",
      "Epoch 63/100\n",
      "55000/55000 - 3s - loss: 1.6218e-04 - acc: 1.0000\n",
      "Epoch 64/100\n",
      "55000/55000 - 3s - loss: 1.5856e-04 - acc: 1.0000\n",
      "Epoch 65/100\n",
      "55000/55000 - 3s - loss: 1.5541e-04 - acc: 1.0000\n",
      "Epoch 66/100\n",
      "55000/55000 - 3s - loss: 1.5150e-04 - acc: 1.0000\n",
      "Epoch 67/100\n",
      "55000/55000 - 3s - loss: 1.4940e-04 - acc: 1.0000\n",
      "Epoch 68/100\n",
      "55000/55000 - 3s - loss: 1.4562e-04 - acc: 1.0000\n",
      "Epoch 69/100\n",
      "55000/55000 - 3s - loss: 1.4337e-04 - acc: 1.0000\n",
      "Epoch 70/100\n",
      "55000/55000 - 3s - loss: 1.4047e-04 - acc: 1.0000\n",
      "Epoch 71/100\n",
      "55000/55000 - 3s - loss: 1.3751e-04 - acc: 1.0000\n",
      "Epoch 72/100\n",
      "55000/55000 - 3s - loss: 1.3506e-04 - acc: 1.0000\n",
      "Epoch 73/100\n",
      "55000/55000 - 3s - loss: 1.3198e-04 - acc: 1.0000\n",
      "Epoch 74/100\n",
      "55000/55000 - 3s - loss: 1.3063e-04 - acc: 1.0000\n",
      "Epoch 75/100\n",
      "55000/55000 - 3s - loss: 1.2809e-04 - acc: 1.0000\n",
      "Epoch 76/100\n",
      "55000/55000 - 3s - loss: 1.2548e-04 - acc: 1.0000\n",
      "Epoch 77/100\n",
      "55000/55000 - 3s - loss: 1.2336e-04 - acc: 1.0000\n",
      "Epoch 78/100\n",
      "55000/55000 - 3s - loss: 1.2155e-04 - acc: 1.0000\n",
      "Epoch 79/100\n",
      "55000/55000 - 3s - loss: 1.1928e-04 - acc: 1.0000\n",
      "Epoch 80/100\n",
      "55000/55000 - 3s - loss: 1.1760e-04 - acc: 1.0000\n",
      "Epoch 81/100\n",
      "55000/55000 - 3s - loss: 1.1503e-04 - acc: 1.0000\n",
      "Epoch 82/100\n",
      "55000/55000 - 3s - loss: 1.1364e-04 - acc: 1.0000\n",
      "Epoch 83/100\n",
      "55000/55000 - 3s - loss: 1.1197e-04 - acc: 1.0000\n",
      "Epoch 84/100\n",
      "55000/55000 - 3s - loss: 1.1010e-04 - acc: 1.0000\n",
      "Epoch 85/100\n",
      "55000/55000 - 3s - loss: 1.0830e-04 - acc: 1.0000\n",
      "Epoch 86/100\n",
      "55000/55000 - 3s - loss: 1.0700e-04 - acc: 1.0000\n",
      "Epoch 87/100\n",
      "55000/55000 - 3s - loss: 1.0519e-04 - acc: 1.0000\n",
      "Epoch 88/100\n",
      "55000/55000 - 3s - loss: 1.0334e-04 - acc: 1.0000\n",
      "Epoch 89/100\n",
      "55000/55000 - 3s - loss: 1.0206e-04 - acc: 1.0000\n",
      "Epoch 90/100\n",
      "55000/55000 - 3s - loss: 1.0051e-04 - acc: 1.0000\n",
      "Epoch 91/100\n",
      "55000/55000 - 3s - loss: 9.8931e-05 - acc: 1.0000\n",
      "Epoch 92/100\n",
      "55000/55000 - 3s - loss: 9.7834e-05 - acc: 1.0000\n",
      "Epoch 93/100\n",
      "55000/55000 - 3s - loss: 9.6343e-05 - acc: 1.0000\n",
      "Epoch 94/100\n",
      "55000/55000 - 3s - loss: 9.5131e-05 - acc: 1.0000\n",
      "Epoch 95/100\n",
      "55000/55000 - 3s - loss: 9.3643e-05 - acc: 1.0000\n",
      "Epoch 96/100\n",
      "55000/55000 - 3s - loss: 9.2423e-05 - acc: 1.0000\n",
      "Epoch 97/100\n",
      "55000/55000 - 3s - loss: 9.1326e-05 - acc: 1.0000\n",
      "Epoch 98/100\n",
      "55000/55000 - 3s - loss: 9.0163e-05 - acc: 1.0000\n",
      "Epoch 99/100\n",
      "55000/55000 - 3s - loss: 8.8972e-05 - acc: 1.0000\n",
      "Epoch 100/100\n",
      "55000/55000 - 3s - loss: 8.7730e-05 - acc: 1.0000\n"
     ]
    }
   ],
   "source": [
    "info = model.fit(X_train_n.astype(np.float32), Y_train, epochs = num_iters, verbose=2)"
   ]
  },
  {
   "cell_type": "markdown",
   "metadata": {},
   "source": [
    "#### Plotting Loss"
   ]
  },
  {
   "cell_type": "code",
   "execution_count": 86,
   "metadata": {},
   "outputs": [
    {
     "data": {
      "image/png": "[encoded data removed]",
      "text/plain": [
       "<Figure size 432x288 with 1 Axes>"
      ]
     },
     "metadata": {
      "needs_background": "light"
     },
     "output_type": "display_data"
    }
   ],
   "source": [
    "plot_loss(loss_arr)"
   ]
  },
  {
   "cell_type": "markdown",
   "metadata": {},
   "source": [
    "#### Plotting Accuracy"
   ]
  },
  {
   "cell_type": "code",
   "execution_count": 87,
   "metadata": {},
   "outputs": [
    {
     "data": {
      "image/png": "[encoded data removed]",
      "text/plain": [
       "<Figure size 432x288 with 1 Axes>"
      ]
     },
     "metadata": {
      "needs_background": "light"
     },
     "output_type": "display_data"
    }
   ],
   "source": [
    "plot_acc(acc_arr)"
   ]
  },
  {
   "cell_type": "markdown",
   "metadata": {},
   "source": [
    "#### Validation Loss and Accuracy"
   ]
  },
  {
   "cell_type": "code",
   "execution_count": 88,
   "metadata": {},
   "outputs": [
    {
     "name": "stdout",
     "output_type": "stream",
     "text": [
      "5000/5000 [==============================] - 0s 42us/sample - loss: 0.1151 - acc: 0.9806\n",
      "Validation Loss: 0.115072031714482\n",
      "Validation Accuracy: 0.9806\n"
     ]
    }
   ],
   "source": [
    "val_loss, val_acc = model.evaluate(X_val_n.astype(np.float32), Y_val)\n",
    "print('Validation Loss: ' + str(val_loss))\n",
    "print('Validation Accuracy: ' + str(val_acc))"
   ]
  },
  {
   "cell_type": "markdown",
   "metadata": {},
   "source": [
    "## Summary of Models - V\n",
    "\n",
    "1. **Model1**: Activation function = sigmoid - Loss: 0.081, Acc: 0.981\n",
    "2. **Model2**: Activation function = tanh - Loss: 0.100, Acc: 0.979\n",
    "3. **Model3**: Activation function = relu - Loss: 0.094, Acc: 0.983\n",
    "4. **Model4**: Activation function = leaky relu - Loss: 0.115, Acc: 0.981\n",
    "\n",
    "Although we may observe that the sigmoid function has a lower loss value than the relu, we have chosen relu not just because it has a slighly better accuracy than sigmoid, but because it was able to achieve a training loss of 7e-5 while sigmoid was able to achieve 0.19, hence the training loss achieved by relu is much smaller than that of sigmoid.\n",
    "\n",
    "## Conclusion\n",
    "\n",
    "Hence, we have chosen the relu activation function to among the hyperparameters of the best model"
   ]
  },
  {
   "cell_type": "markdown",
   "metadata": {},
   "source": [
    "# Best Model\n",
    "\n",
    "## 2 Hidden Layers, 0.1 Learning rate, relu activation, 128 hidden units per hidden layer"
   ]
  },
  {
   "cell_type": "markdown",
   "metadata": {},
   "source": [
    "#### Hyperparameters of the best model found"
   ]
  },
  {
   "cell_type": "code",
   "execution_count": 89,
   "metadata": {},
   "outputs": [],
   "source": [
    "num_hidden_units = 128\n",
    "learning_rate = 0.1"
   ]
  },
  {
   "cell_type": "markdown",
   "metadata": {},
   "source": [
    "#### Best Model"
   ]
  },
  {
   "cell_type": "code",
   "execution_count": 90,
   "metadata": {},
   "outputs": [],
   "source": [
    "model = tf.keras.Sequential([\n",
    "    tf.keras.layers.Dense(num_hidden_units, activation = tf.nn.relu),\n",
    "    tf.keras.layers.Dense(num_hidden_units, activation = tf.nn.relu),\n",
    "    tf.keras.layers.Dense(output_size, activation = tf.nn.softmax)\n",
    "])"
   ]
  },
  {
   "cell_type": "code",
   "execution_count": 91,
   "metadata": {},
   "outputs": [],
   "source": [
    "optimizer = tf.keras.optimizers.SGD(learning_rate = learning_rate)\n",
    "model.compile(optimizer=optimizer, loss = 'sparse_categorical_crossentropy', metrics = ['accuracy'])"
   ]
  },
  {
   "cell_type": "markdown",
   "metadata": {},
   "source": [
    "#### Training the Best Model"
   ]
  },
  {
   "cell_type": "code",
   "execution_count": 92,
   "metadata": {},
   "outputs": [
    {
     "name": "stdout",
     "output_type": "stream",
     "text": [
      "Epoch 1/100\n",
      "55000/55000 - 3s - loss: 0.2906 - acc: 0.9129\n",
      "Epoch 2/100\n",
      "55000/55000 - 3s - loss: 0.1259 - acc: 0.9620\n",
      "Epoch 3/100\n",
      "55000/55000 - 3s - loss: 0.0885 - acc: 0.9720\n",
      "Epoch 4/100\n",
      "55000/55000 - 3s - loss: 0.0668 - acc: 0.9789\n",
      "Epoch 5/100\n",
      "55000/55000 - 3s - loss: 0.0522 - acc: 0.9835\n",
      "Epoch 6/100\n",
      "55000/55000 - 3s - loss: 0.0423 - acc: 0.9867\n",
      "Epoch 7/100\n",
      "55000/55000 - 3s - loss: 0.0332 - acc: 0.9897\n",
      "Epoch 8/100\n",
      "55000/55000 - 3s - loss: 0.0269 - acc: 0.9916\n",
      "Epoch 9/100\n",
      "55000/55000 - 3s - loss: 0.0215 - acc: 0.9937\n",
      "Epoch 10/100\n",
      "55000/55000 - 3s - loss: 0.0165 - acc: 0.9955\n",
      "Epoch 11/100\n",
      "55000/55000 - 3s - loss: 0.0138 - acc: 0.9961\n",
      "Epoch 12/100\n",
      "55000/55000 - 3s - loss: 0.0114 - acc: 0.9968\n",
      "Epoch 13/100\n",
      "55000/55000 - 3s - loss: 0.0093 - acc: 0.9975\n",
      "Epoch 14/100\n",
      "55000/55000 - 3s - loss: 0.0052 - acc: 0.9989\n",
      "Epoch 15/100\n",
      "55000/55000 - 3s - loss: 0.0038 - acc: 0.9994\n",
      "Epoch 16/100\n",
      "55000/55000 - 3s - loss: 0.0020 - acc: 0.9999\n",
      "Epoch 17/100\n",
      "55000/55000 - 3s - loss: 0.0013 - acc: 0.9999\n",
      "Epoch 18/100\n",
      "55000/55000 - 3s - loss: 0.0012 - acc: 1.0000\n",
      "Epoch 19/100\n",
      "55000/55000 - 3s - loss: 8.9626e-04 - acc: 1.0000\n",
      "Epoch 20/100\n",
      "55000/55000 - 3s - loss: 7.7396e-04 - acc: 1.0000\n",
      "Epoch 21/100\n",
      "55000/55000 - 3s - loss: 6.9434e-04 - acc: 1.0000\n",
      "Epoch 22/100\n",
      "55000/55000 - 3s - loss: 6.2042e-04 - acc: 1.0000\n",
      "Epoch 23/100\n",
      "55000/55000 - 3s - loss: 5.6244e-04 - acc: 1.0000\n",
      "Epoch 24/100\n",
      "55000/55000 - 3s - loss: 5.2558e-04 - acc: 1.0000\n",
      "Epoch 25/100\n",
      "55000/55000 - 3s - loss: 4.7933e-04 - acc: 1.0000\n",
      "Epoch 26/100\n",
      "55000/55000 - 3s - loss: 4.5159e-04 - acc: 1.0000\n",
      "Epoch 27/100\n",
      "55000/55000 - 3s - loss: 4.2411e-04 - acc: 1.0000\n",
      "Epoch 28/100\n",
      "55000/55000 - 3s - loss: 3.9768e-04 - acc: 1.0000\n",
      "Epoch 29/100\n",
      "55000/55000 - 3s - loss: 3.7392e-04 - acc: 1.0000\n",
      "Epoch 30/100\n",
      "55000/55000 - 3s - loss: 3.6074e-04 - acc: 1.0000\n",
      "Epoch 31/100\n",
      "55000/55000 - 3s - loss: 3.3967e-04 - acc: 1.0000\n",
      "Epoch 32/100\n",
      "55000/55000 - 3s - loss: 3.2209e-04 - acc: 1.0000\n",
      "Epoch 33/100\n",
      "55000/55000 - 3s - loss: 3.0743e-04 - acc: 1.0000\n",
      "Epoch 34/100\n",
      "55000/55000 - 3s - loss: 2.9471e-04 - acc: 1.0000\n",
      "Epoch 35/100\n",
      "55000/55000 - 3s - loss: 2.8113e-04 - acc: 1.0000\n",
      "Epoch 36/100\n",
      "55000/55000 - 3s - loss: 2.6831e-04 - acc: 1.0000\n",
      "Epoch 37/100\n",
      "55000/55000 - 3s - loss: 2.5943e-04 - acc: 1.0000\n",
      "Epoch 38/100\n",
      "55000/55000 - 3s - loss: 2.4920e-04 - acc: 1.0000\n",
      "Epoch 39/100\n",
      "55000/55000 - 3s - loss: 2.4080e-04 - acc: 1.0000\n",
      "Epoch 40/100\n",
      "55000/55000 - 3s - loss: 2.3229e-04 - acc: 1.0000\n",
      "Epoch 41/100\n",
      "55000/55000 - 3s - loss: 2.2290e-04 - acc: 1.0000\n",
      "Epoch 42/100\n",
      "55000/55000 - 3s - loss: 2.1564e-04 - acc: 1.0000\n",
      "Epoch 43/100\n",
      "55000/55000 - 3s - loss: 2.0867e-04 - acc: 1.0000\n",
      "Epoch 44/100\n",
      "55000/55000 - 3s - loss: 2.0232e-04 - acc: 1.0000\n",
      "Epoch 45/100\n",
      "55000/55000 - 3s - loss: 1.9681e-04 - acc: 1.0000\n",
      "Epoch 46/100\n",
      "55000/55000 - 3s - loss: 1.9026e-04 - acc: 1.0000\n",
      "Epoch 47/100\n",
      "55000/55000 - 3s - loss: 1.8460e-04 - acc: 1.0000\n",
      "Epoch 48/100\n",
      "55000/55000 - 3s - loss: 1.7964e-04 - acc: 1.0000\n",
      "Epoch 49/100\n",
      "55000/55000 - 3s - loss: 1.7487e-04 - acc: 1.0000\n",
      "Epoch 50/100\n",
      "55000/55000 - 3s - loss: 1.6962e-04 - acc: 1.0000\n",
      "Epoch 51/100\n",
      "55000/55000 - 3s - loss: 1.6542e-04 - acc: 1.0000\n",
      "Epoch 52/100\n",
      "55000/55000 - 3s - loss: 1.6109e-04 - acc: 1.0000\n",
      "Epoch 53/100\n",
      "55000/55000 - 3s - loss: 1.5707e-04 - acc: 1.0000\n",
      "Epoch 54/100\n",
      "55000/55000 - 3s - loss: 1.5306e-04 - acc: 1.0000\n",
      "Epoch 55/100\n",
      "55000/55000 - 3s - loss: 1.4959e-04 - acc: 1.0000\n",
      "Epoch 56/100\n",
      "55000/55000 - 3s - loss: 1.4612e-04 - acc: 1.0000\n",
      "Epoch 57/100\n",
      "55000/55000 - 3s - loss: 1.4293e-04 - acc: 1.0000\n",
      "Epoch 58/100\n",
      "55000/55000 - 3s - loss: 1.3961e-04 - acc: 1.0000\n",
      "Epoch 59/100\n",
      "55000/55000 - 3s - loss: 1.3633e-04 - acc: 1.0000\n",
      "Epoch 60/100\n",
      "55000/55000 - 3s - loss: 1.3359e-04 - acc: 1.0000\n",
      "Epoch 61/100\n",
      "55000/55000 - 3s - loss: 1.3035e-04 - acc: 1.0000\n",
      "Epoch 62/100\n",
      "55000/55000 - 3s - loss: 1.2771e-04 - acc: 1.0000\n",
      "Epoch 63/100\n",
      "55000/55000 - 3s - loss: 1.2502e-04 - acc: 1.0000\n",
      "Epoch 64/100\n",
      "55000/55000 - 3s - loss: 1.2221e-04 - acc: 1.0000\n",
      "Epoch 65/100\n",
      "55000/55000 - 3s - loss: 1.2037e-04 - acc: 1.0000\n",
      "Epoch 66/100\n",
      "55000/55000 - 3s - loss: 1.1785e-04 - acc: 1.0000\n",
      "Epoch 67/100\n",
      "55000/55000 - 3s - loss: 1.1522e-04 - acc: 1.0000\n",
      "Epoch 68/100\n",
      "55000/55000 - 3s - loss: 1.1367e-04 - acc: 1.0000\n",
      "Epoch 69/100\n",
      "55000/55000 - 3s - loss: 1.1111e-04 - acc: 1.0000\n",
      "Epoch 70/100\n",
      "55000/55000 - 3s - loss: 1.0925e-04 - acc: 1.0000\n",
      "Epoch 71/100\n",
      "55000/55000 - 3s - loss: 1.0705e-04 - acc: 1.0000\n",
      "Epoch 72/100\n",
      "55000/55000 - 3s - loss: 1.0512e-04 - acc: 1.0000\n",
      "Epoch 73/100\n",
      "55000/55000 - 3s - loss: 1.0346e-04 - acc: 1.0000\n",
      "Epoch 74/100\n",
      "55000/55000 - 3s - loss: 1.0163e-04 - acc: 1.0000\n",
      "Epoch 75/100\n",
      "55000/55000 - 3s - loss: 9.9937e-05 - acc: 1.0000\n",
      "Epoch 76/100\n",
      "55000/55000 - 3s - loss: 9.8226e-05 - acc: 1.0000\n",
      "Epoch 77/100\n",
      "55000/55000 - 3s - loss: 9.6746e-05 - acc: 1.0000\n",
      "Epoch 78/100\n",
      "55000/55000 - 3s - loss: 9.5052e-05 - acc: 1.0000\n",
      "Epoch 79/100\n",
      "55000/55000 - 3s - loss: 9.3586e-05 - acc: 1.0000\n",
      "Epoch 80/100\n",
      "55000/55000 - 3s - loss: 9.2111e-05 - acc: 1.0000\n",
      "Epoch 81/100\n",
      "55000/55000 - 3s - loss: 9.0670e-05 - acc: 1.0000\n",
      "Epoch 82/100\n",
      "55000/55000 - 3s - loss: 8.9161e-05 - acc: 1.0000\n",
      "Epoch 83/100\n",
      "55000/55000 - 3s - loss: 8.7883e-05 - acc: 1.0000\n",
      "Epoch 84/100\n",
      "55000/55000 - 3s - loss: 8.6542e-05 - acc: 1.0000\n",
      "Epoch 85/100\n",
      "55000/55000 - 3s - loss: 8.5002e-05 - acc: 1.0000\n",
      "Epoch 86/100\n",
      "55000/55000 - 3s - loss: 8.3945e-05 - acc: 1.0000\n",
      "Epoch 87/100\n",
      "55000/55000 - 3s - loss: 8.2745e-05 - acc: 1.0000\n",
      "Epoch 88/100\n",
      "55000/55000 - 3s - loss: 8.1635e-05 - acc: 1.0000\n",
      "Epoch 89/100\n",
      "55000/55000 - 3s - loss: 8.0193e-05 - acc: 1.0000\n",
      "Epoch 90/100\n",
      "55000/55000 - 3s - loss: 7.9214e-05 - acc: 1.0000\n",
      "Epoch 91/100\n",
      "55000/55000 - 3s - loss: 7.8110e-05 - acc: 1.0000\n",
      "Epoch 92/100\n",
      "55000/55000 - 3s - loss: 7.7088e-05 - acc: 1.0000\n",
      "Epoch 93/100\n",
      "55000/55000 - 3s - loss: 7.6109e-05 - acc: 1.0000\n",
      "Epoch 94/100\n",
      "55000/55000 - 3s - loss: 7.5018e-05 - acc: 1.0000\n",
      "Epoch 95/100\n",
      "55000/55000 - 3s - loss: 7.4008e-05 - acc: 1.0000\n",
      "Epoch 96/100\n",
      "55000/55000 - 3s - loss: 7.3065e-05 - acc: 1.0000\n",
      "Epoch 97/100\n",
      "55000/55000 - 3s - loss: 7.2236e-05 - acc: 1.0000\n",
      "Epoch 98/100\n",
      "55000/55000 - 3s - loss: 7.1245e-05 - acc: 1.0000\n",
      "Epoch 99/100\n",
      "55000/55000 - 3s - loss: 7.0389e-05 - acc: 1.0000\n",
      "Epoch 100/100\n",
      "55000/55000 - 3s - loss: 6.9475e-05 - acc: 1.0000\n"
     ]
    }
   ],
   "source": [
    "info = model.fit(X_train_n.astype(np.float32), Y_train, epochs = num_iters, verbose=2)"
   ]
  },
  {
   "cell_type": "markdown",
   "metadata": {},
   "source": [
    "#### Obtaining the Test Loss for the Best Model"
   ]
  },
  {
   "cell_type": "code",
   "execution_count": 94,
   "metadata": {},
   "outputs": [
    {
     "name": "stdout",
     "output_type": "stream",
     "text": [
      "10000/10000 [==============================] - 0s 41us/sample - loss: 0.0970 - acc: 0.9806\n",
      "Test Loss: 0.09696869913490401\n",
      "Test Accuracy: 0.9806\n"
     ]
    }
   ],
   "source": [
    "test_loss, test_acc = model.evaluate(X_test_n.astype(np.float32), Y_test)\n",
    "print('Test Loss: ' + str(test_loss))\n",
    "print('Test Accuracy: ' + str(test_acc))"
   ]
  },
  {
   "cell_type": "markdown",
   "metadata": {},
   "source": [
    "## Summary of the Best Model\n",
    "\n",
    "#### The best model has the following hyperparameters: -\n",
    "\n",
    "1. It has 2 Hidden Layers\n",
    "2. Each Hidden Layer has 128 Hidden Units.\n",
    "3. The Activation Function used in each layer (except the output layer, which uses softmax) is relu\n",
    "4. The Learning rate used for training was 0.1\n",
    "5. It was trained on a normalized dataset\n",
    "6. It was trained for 100 iteration just like all other models in this notebook\n",
    "7. All parameter initialization was xavier initialization\n",
    "8. Optimizer used was the SGD optimizer\n",
    "\n",
    "#### The best model has the following properties: -\n",
    "\n",
    "1. It is among the smallest training losses and highest training accuracies\n",
    "2. It is among the smallest validation losses and highest validation accuracies\n",
    "3. It took 3 seconds per iteration of training time just like all other models\n",
    "\n",
    "## Conclusion\n",
    "\n",
    "\n",
    "The Best Model was chosen on the basis of multiple facts which are described above in the properties section of this mardown."
   ]
  }
 ],
 "metadata": {
  "colab": {
   "collapsed_sections": [],
   "name": "assignment2_2.ipynb",
   "provenance": []
  },
  "kernelspec": {
   "display_name": "Python 3",
   "language": "python",
   "name": "python3"
  },
  "language_info": {
   "codemirror_mode": {
    "name": "ipython",
    "version": 3
   },
   "file_extension": ".py",
   "mimetype": "text/x-python",
   "name": "python",
   "nbconvert_exporter": "python",
   "pygments_lexer": "ipython3",
   "version": "3.6.8"
  }
 },
 "nbformat": 4,
 "nbformat_minor": 1
}
