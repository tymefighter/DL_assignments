{
 "cells": [
  {
   "cell_type": "code",
   "execution_count": 58,
   "metadata": {},
   "outputs": [],
   "source": [
    "import numpy as np\n",
    "import matplotlib.pyplot as plt\n",
    "import tensorflow as tf\n",
    "import string\n",
    "import tensorflow as tf\n",
    "from tensorflow import keras\n",
    "from tensorflow.keras.layers import Embedding, SimpleRNN, Dense, LSTM, GRU\n",
    "from tensorflow.keras.preprocessing.sequence import pad_sequences\n",
    "from gensim.models import Word2Vec"
   ]
  },
  {
   "cell_type": "code",
   "execution_count": 2,
   "metadata": {},
   "outputs": [],
   "source": [
    "# Get the Training Data\n",
    "\n",
    "data = []\n",
    "\n",
    "with open('../input/train.txt', 'r') as fl:\n",
    "    for line in fl.readlines():\n",
    "        line = line.lower()\n",
    "        line = line.replace('<br />', '')\n",
    "        line = line.translate(str.maketrans('', '', string.punctuation))\n",
    "        line_arr = line.split()\n",
    "        data.append(line_arr)\n",
    "        \n",
    "assert(len(data) == 25000)\n",
    "\n",
    "Y = np.zeros(25000)\n",
    "Y[:12500] = 1"
   ]
  },
  {
   "cell_type": "code",
   "execution_count": 3,
   "metadata": {},
   "outputs": [],
   "source": [
    "# Shuffle the Dataset\n",
    "\n",
    "indices = np.arange(0, 25000)\n",
    "np.random.shuffle(indices)\n",
    "\n",
    "data = [data[idx] for idx in indices]\n",
    "Y = [Y[idx] for idx in indices]"
   ]
  },
  {
   "cell_type": "code",
   "execution_count": 4,
   "metadata": {},
   "outputs": [],
   "source": [
    "# Split the dataset into train and validation\n",
    "\n",
    "data_train = data[:20000]\n",
    "Y_train = np.array(Y[:20000])\n",
    "\n",
    "data_val = data[20000:]\n",
    "Y_val = np.array(Y[20000:])"
   ]
  },
  {
   "cell_type": "code",
   "execution_count": 5,
   "metadata": {},
   "outputs": [],
   "source": [
    "# Helper Functions\n",
    "\n",
    "def plot_loss(arr):\n",
    "\n",
    "    plt.plot(arr)\n",
    "    plt.xlabel(\"num iters\")\n",
    "    plt.ylabel(\"loss\")\n",
    "    plt.title(\"loss vs iters\")\n",
    "    plt.show()\n",
    "\n",
    "def plot_acc(arr):\n",
    "\n",
    "    plt.plot(arr)\n",
    "    plt.xlabel(\"num iters\")\n",
    "    plt.ylabel(\"accuracy\")\n",
    "    plt.title(\"accuracy vs iters\")\n",
    "    plt.show()"
   ]
  },
  {
   "cell_type": "markdown",
   "metadata": {},
   "source": [
    "# Models"
   ]
  },
  {
   "cell_type": "markdown",
   "metadata": {},
   "source": [
    "## Model 1"
   ]
  },
  {
   "cell_type": "code",
   "execution_count": 6,
   "metadata": {},
   "outputs": [],
   "source": [
    "# Getting the integer encoding of words\n",
    "\n",
    "word2ind = {'<pd>' : 0}\n",
    "ind2word = ['<pd>']\n",
    "\n",
    "for line_arr in data:\n",
    "    for word in line_arr:\n",
    "        if word not in word2ind:\n",
    "            word2ind[word] = len(ind2word)\n",
    "            ind2word.append(word)\n",
    "            \n",
    "num_words = len(ind2word)"
   ]
  },
  {
   "cell_type": "code",
   "execution_count": 7,
   "metadata": {},
   "outputs": [],
   "source": [
    "# Converting the training and validation data into integer-coding form\n",
    "\n",
    "X_train = []\n",
    "\n",
    "for line_arr in data_train:\n",
    "    arr = []\n",
    "    for word in line_arr:\n",
    "        arr.append(word2ind[word])\n",
    "    \n",
    "    X_train.append(arr)\n",
    "\n",
    "    \n",
    "X_val = []\n",
    "\n",
    "for line_arr in data_val:\n",
    "    arr = []\n",
    "    for word in line_arr:\n",
    "        arr.append(word2ind[word])\n",
    "    \n",
    "    X_val.append(arr)"
   ]
  },
  {
   "cell_type": "code",
   "execution_count": 8,
   "metadata": {},
   "outputs": [],
   "source": [
    "# Pad all sequences with 0's\n",
    "\n",
    "X_train = pad_sequences(X_train, maxlen = 200)\n",
    "X_val = pad_sequences(X_val, maxlen = 200)"
   ]
  },
  {
   "cell_type": "code",
   "execution_count": 25,
   "metadata": {
    "scrolled": false
   },
   "outputs": [],
   "source": [
    "model = tf.keras.Sequential([\n",
    "    Embedding(input_dim=num_words, output_dim=128, input_length=200),\n",
    "    SimpleRNN(200, activation='tanh'),\n",
    "    Dense(1, activation='sigmoid')\n",
    "])"
   ]
  },
  {
   "cell_type": "code",
   "execution_count": 26,
   "metadata": {
    "scrolled": true
   },
   "outputs": [],
   "source": [
    "model.compile(optimizer='adam', loss='binary_crossentropy', metrics=['acc'])"
   ]
  },
  {
   "cell_type": "code",
   "execution_count": 27,
   "metadata": {},
   "outputs": [
    {
     "name": "stdout",
     "output_type": "stream",
     "text": [
      "Train on 20000 samples\n",
      "Epoch 1/20\n",
      "20000/20000 - 21s - loss: 0.6892 - acc: 0.5339\n",
      "Epoch 2/20\n",
      "20000/20000 - 19s - loss: 0.6148 - acc: 0.7157\n",
      "Epoch 3/20\n",
      "20000/20000 - 19s - loss: 0.4104 - acc: 0.8242\n",
      "Epoch 4/20\n",
      "20000/20000 - 19s - loss: 0.1444 - acc: 0.9556\n",
      "Epoch 5/20\n",
      "20000/20000 - 18s - loss: 0.6199 - acc: 0.7297\n",
      "Epoch 6/20\n",
      "20000/20000 - 18s - loss: 0.5471 - acc: 0.7146\n",
      "Epoch 7/20\n",
      "20000/20000 - 18s - loss: 0.4556 - acc: 0.7966\n",
      "Epoch 8/20\n",
      "20000/20000 - 18s - loss: 0.4003 - acc: 0.8274\n",
      "Epoch 9/20\n",
      "20000/20000 - 18s - loss: 0.3265 - acc: 0.8643\n",
      "Epoch 10/20\n",
      "20000/20000 - 18s - loss: 0.2365 - acc: 0.9039\n",
      "Epoch 11/20\n",
      "20000/20000 - 18s - loss: 0.1472 - acc: 0.9491\n",
      "Epoch 12/20\n",
      "20000/20000 - 18s - loss: 0.0878 - acc: 0.9732\n",
      "Epoch 13/20\n",
      "20000/20000 - 18s - loss: 0.0523 - acc: 0.9853\n",
      "Epoch 14/20\n",
      "20000/20000 - 19s - loss: 0.0357 - acc: 0.9908\n",
      "Epoch 15/20\n",
      "20000/20000 - 18s - loss: 0.0276 - acc: 0.9934\n",
      "Epoch 16/20\n",
      "20000/20000 - 18s - loss: 0.0284 - acc: 0.9923\n",
      "Epoch 17/20\n",
      "20000/20000 - 18s - loss: 0.0297 - acc: 0.9913\n",
      "Epoch 18/20\n",
      "20000/20000 - 18s - loss: 0.0150 - acc: 0.9966\n",
      "Epoch 19/20\n",
      "20000/20000 - 18s - loss: 0.0098 - acc: 0.9984\n",
      "Epoch 20/20\n",
      "20000/20000 - 18s - loss: 0.0069 - acc: 0.9989\n"
     ]
    }
   ],
   "source": [
    "hist = model.fit(X_train, Y_train, batch_size = 512, epochs = 20, verbose=2)"
   ]
  },
  {
   "cell_type": "code",
   "execution_count": 28,
   "metadata": {},
   "outputs": [
    {
     "data": {
      "image/png": "[encoded data removed]",
      "text/plain": [
       "<Figure size 432x288 with 1 Axes>"
      ]
     },
     "metadata": {
      "needs_background": "light"
     },
     "output_type": "display_data"
    },
    {
     "data": {
      "image/png": "[encoded data removed]",
      "text/plain": [
       "<Figure size 432x288 with 1 Axes>"
      ]
     },
     "metadata": {
      "needs_background": "light"
     },
     "output_type": "display_data"
    }
   ],
   "source": [
    "plot_loss(hist.history['loss'])\n",
    "plot_acc(hist.history['acc'])"
   ]
  },
  {
   "cell_type": "code",
   "execution_count": 29,
   "metadata": {},
   "outputs": [
    {
     "name": "stdout",
     "output_type": "stream",
     "text": [
      "5000/1 - 10s - loss: 0.3984 - acc: 0.8124\n",
      "Validation Loss:  0.7905839220769704\n",
      "Validation Acc :  0.8124\n"
     ]
    }
   ],
   "source": [
    "val_loss, val_acc = model.evaluate(X_val, Y_val, verbose=2)\n",
    "print(\"Validation Loss: \", val_loss)\n",
    "print(\"Validation Acc : \", val_acc)"
   ]
  },
  {
   "cell_type": "markdown",
   "metadata": {},
   "source": [
    "## Model 2"
   ]
  },
  {
   "cell_type": "code",
   "execution_count": 30,
   "metadata": {},
   "outputs": [],
   "source": [
    "model = keras.Sequential([\n",
    "    Embedding(input_dim=num_words, output_dim=128, input_length=200),\n",
    "    LSTM(200, activation='tanh'),\n",
    "    Dense(1, activation='sigmoid')\n",
    "])"
   ]
  },
  {
   "cell_type": "code",
   "execution_count": 31,
   "metadata": {},
   "outputs": [],
   "source": [
    "model.compile(optimizer='adam', loss='binary_crossentropy', metrics=['acc'])"
   ]
  },
  {
   "cell_type": "code",
   "execution_count": 32,
   "metadata": {},
   "outputs": [
    {
     "name": "stdout",
     "output_type": "stream",
     "text": [
      "Train on 20000 samples\n",
      "Epoch 1/20\n",
      "20000/20000 - 18s - loss: 0.6106 - acc: 0.6769\n",
      "Epoch 2/20\n",
      "20000/20000 - 16s - loss: 0.3152 - acc: 0.8733\n",
      "Epoch 3/20\n",
      "20000/20000 - 15s - loss: 0.1368 - acc: 0.9535\n",
      "Epoch 4/20\n",
      "20000/20000 - 15s - loss: 0.0736 - acc: 0.9787\n",
      "Epoch 5/20\n",
      "20000/20000 - 15s - loss: 0.0324 - acc: 0.9924\n",
      "Epoch 6/20\n",
      "20000/20000 - 15s - loss: 0.0137 - acc: 0.9969\n",
      "Epoch 7/20\n",
      "20000/20000 - 15s - loss: 0.1127 - acc: 0.9635\n",
      "Epoch 8/20\n",
      "20000/20000 - 15s - loss: 0.0181 - acc: 0.9945\n",
      "Epoch 9/20\n",
      "20000/20000 - 15s - loss: 0.0233 - acc: 0.9931\n",
      "Epoch 10/20\n",
      "20000/20000 - 15s - loss: 0.0051 - acc: 0.9990\n",
      "Epoch 11/20\n",
      "20000/20000 - 15s - loss: 0.0013 - acc: 0.9998\n",
      "Epoch 12/20\n",
      "20000/20000 - 15s - loss: 4.9833e-04 - acc: 0.9999\n",
      "Epoch 13/20\n",
      "20000/20000 - 15s - loss: 3.2142e-04 - acc: 1.0000\n",
      "Epoch 14/20\n",
      "20000/20000 - 15s - loss: 2.4036e-04 - acc: 1.0000\n",
      "Epoch 15/20\n",
      "20000/20000 - 15s - loss: 1.9010e-04 - acc: 1.0000\n",
      "Epoch 16/20\n",
      "20000/20000 - 15s - loss: 1.5591e-04 - acc: 1.0000\n",
      "Epoch 17/20\n",
      "20000/20000 - 15s - loss: 1.3257e-04 - acc: 1.0000\n",
      "Epoch 18/20\n",
      "20000/20000 - 15s - loss: 1.1213e-04 - acc: 1.0000\n",
      "Epoch 19/20\n",
      "20000/20000 - 15s - loss: 9.7113e-05 - acc: 1.0000\n",
      "Epoch 20/20\n",
      "20000/20000 - 15s - loss: 8.5496e-05 - acc: 1.0000\n"
     ]
    }
   ],
   "source": [
    "hist = model.fit(X_train, Y_train, batch_size = 512, epochs = 20, verbose=2)"
   ]
  },
  {
   "cell_type": "code",
   "execution_count": 33,
   "metadata": {},
   "outputs": [
    {
     "data": {
      "image/png": "[encoded data removed]",
      "text/plain": [
       "<Figure size 432x288 with 1 Axes>"
      ]
     },
     "metadata": {
      "needs_background": "light"
     },
     "output_type": "display_data"
    },
    {
     "data": {
      "image/png": "[encoded data removed]",
      "text/plain": [
       "<Figure size 432x288 with 1 Axes>"
      ]
     },
     "metadata": {
      "needs_background": "light"
     },
     "output_type": "display_data"
    }
   ],
   "source": [
    "plot_loss(hist.history['loss'])\n",
    "plot_acc(hist.history['acc'])"
   ]
  },
  {
   "cell_type": "code",
   "execution_count": 34,
   "metadata": {},
   "outputs": [
    {
     "name": "stdout",
     "output_type": "stream",
     "text": [
      "5000/1 - 9s - loss: 0.8290 - acc: 0.8582\n",
      "Validation Loss:  0.8647316823519766\n",
      "Validation Acc :  0.8582\n"
     ]
    }
   ],
   "source": [
    "val_loss, val_acc = model.evaluate(X_val, Y_val, verbose=2)\n",
    "print(\"Validation Loss: \", val_loss)\n",
    "print(\"Validation Acc : \", val_acc)"
   ]
  },
  {
   "cell_type": "markdown",
   "metadata": {},
   "source": [
    "## Model 3"
   ]
  },
  {
   "cell_type": "code",
   "execution_count": 35,
   "metadata": {},
   "outputs": [],
   "source": [
    "model = keras.Sequential([\n",
    "    Embedding(input_dim=num_words, output_dim=128, input_length=200),\n",
    "    GRU(200, activation='relu'),\n",
    "    Dense(1, activation='sigmoid')\n",
    "])"
   ]
  },
  {
   "cell_type": "code",
   "execution_count": 36,
   "metadata": {},
   "outputs": [],
   "source": [
    "model.compile(optimizer='adam', loss='binary_crossentropy', metrics=['acc'])"
   ]
  },
  {
   "cell_type": "code",
   "execution_count": 37,
   "metadata": {},
   "outputs": [
    {
     "name": "stdout",
     "output_type": "stream",
     "text": [
      "Train on 20000 samples\n",
      "Epoch 1/20\n",
      "20000/20000 - 25s - loss: 22.8039 - acc: 0.5939\n",
      "Epoch 2/20\n",
      "20000/20000 - 23s - loss: 237.6783 - acc: 0.6187\n",
      "Epoch 3/20\n",
      "20000/20000 - 23s - loss: 0.6244 - acc: 0.7131\n",
      "Epoch 4/20\n",
      "20000/20000 - 23s - loss: 0.6128 - acc: 0.7398\n",
      "Epoch 5/20\n",
      "20000/20000 - 23s - loss: 0.6017 - acc: 0.7588\n",
      "Epoch 6/20\n",
      "20000/20000 - 23s - loss: 0.5908 - acc: 0.7755\n",
      "Epoch 7/20\n",
      "20000/20000 - 23s - loss: 0.5801 - acc: 0.7859\n",
      "Epoch 8/20\n",
      "20000/20000 - 24s - loss: 0.5696 - acc: 0.7934\n",
      "Epoch 9/20\n",
      "20000/20000 - 23s - loss: 0.5589 - acc: 0.8000\n",
      "Epoch 10/20\n",
      "20000/20000 - 23s - loss: 0.5484 - acc: 0.8061\n",
      "Epoch 11/20\n",
      "20000/20000 - 23s - loss: 0.5380 - acc: 0.8109\n",
      "Epoch 12/20\n",
      "20000/20000 - 23s - loss: 0.5277 - acc: 0.8142\n",
      "Epoch 13/20\n",
      "20000/20000 - 23s - loss: 0.5177 - acc: 0.8188\n",
      "Epoch 14/20\n",
      "20000/20000 - 23s - loss: 0.5080 - acc: 0.8221\n",
      "Epoch 15/20\n",
      "20000/20000 - 23s - loss: 0.4986 - acc: 0.8252\n",
      "Epoch 16/20\n",
      "20000/20000 - 23s - loss: 0.4895 - acc: 0.8284\n",
      "Epoch 17/20\n",
      "20000/20000 - 23s - loss: 0.4808 - acc: 0.8302\n",
      "Epoch 18/20\n",
      "20000/20000 - 23s - loss: 0.4724 - acc: 0.8324\n",
      "Epoch 19/20\n",
      "20000/20000 - 23s - loss: 0.4644 - acc: 0.8347\n",
      "Epoch 20/20\n",
      "20000/20000 - 23s - loss: 0.4567 - acc: 0.8360\n"
     ]
    }
   ],
   "source": [
    "hist = model.fit(X_train, Y_train, batch_size = 512, epochs = 20, verbose=2)"
   ]
  },
  {
   "cell_type": "code",
   "execution_count": 38,
   "metadata": {},
   "outputs": [
    {
     "data": {
      "image/png": "[encoded data removed]",
      "text/plain": [
       "<Figure size 432x288 with 1 Axes>"
      ]
     },
     "metadata": {
      "needs_background": "light"
     },
     "output_type": "display_data"
    },
    {
     "data": {
      "image/png": "[encoded data removed]",
      "text/plain": [
       "<Figure size 432x288 with 1 Axes>"
      ]
     },
     "metadata": {
      "needs_background": "light"
     },
     "output_type": "display_data"
    }
   ],
   "source": [
    "plot_loss(hist.history['loss'])\n",
    "plot_acc(hist.history['acc'])"
   ]
  },
  {
   "cell_type": "code",
   "execution_count": 39,
   "metadata": {},
   "outputs": [
    {
     "name": "stdout",
     "output_type": "stream",
     "text": [
      "5000/1 - 23s - loss: 0.6330 - acc: 0.6640\n",
      "Validation Loss:  0.620153230381012\n",
      "Validation Acc :  0.664\n"
     ]
    }
   ],
   "source": [
    "val_loss, val_acc = model.evaluate(X_val, Y_val, verbose=2)\n",
    "print(\"Validation Loss: \", val_loss)\n",
    "print(\"Validation Acc : \", val_acc)"
   ]
  },
  {
   "cell_type": "markdown",
   "metadata": {},
   "source": [
    "## Model4"
   ]
  },
  {
   "cell_type": "code",
   "execution_count": 48,
   "metadata": {},
   "outputs": [],
   "source": [
    "model = keras.Sequential([\n",
    "    Embedding(input_dim=num_words, output_dim=128, input_length=200),\n",
    "    LSTM(200, activation='tanh', return_sequences=True),\n",
    "    LSTM(200, activation='tanh'),\n",
    "    Dense(1, activation='sigmoid')\n",
    "])"
   ]
  },
  {
   "cell_type": "code",
   "execution_count": 49,
   "metadata": {},
   "outputs": [],
   "source": [
    "model.compile(optimizer='adam', loss='binary_crossentropy', metrics=['acc'])"
   ]
  },
  {
   "cell_type": "code",
   "execution_count": 50,
   "metadata": {},
   "outputs": [
    {
     "name": "stdout",
     "output_type": "stream",
     "text": [
      "Train on 20000 samples\n",
      "Epoch 1/20\n",
      "20000/20000 - 21s - loss: 0.5677 - acc: 0.7013\n",
      "Epoch 2/20\n",
      "20000/20000 - 17s - loss: 0.2597 - acc: 0.9003\n",
      "Epoch 3/20\n",
      "20000/20000 - 17s - loss: 0.1401 - acc: 0.9526\n",
      "Epoch 4/20\n",
      "20000/20000 - 17s - loss: 0.0613 - acc: 0.9825\n",
      "Epoch 5/20\n",
      "20000/20000 - 17s - loss: 0.0189 - acc: 0.9954\n",
      "Epoch 6/20\n",
      "20000/20000 - 17s - loss: 0.0075 - acc: 0.9985\n",
      "Epoch 7/20\n",
      "20000/20000 - 17s - loss: 0.0039 - acc: 0.9990\n",
      "Epoch 8/20\n",
      "20000/20000 - 17s - loss: 0.0033 - acc: 0.9990\n",
      "Epoch 9/20\n",
      "20000/20000 - 17s - loss: 0.0028 - acc: 0.9990\n",
      "Epoch 10/20\n",
      "20000/20000 - 17s - loss: 0.0486 - acc: 0.9828\n",
      "Epoch 11/20\n",
      "20000/20000 - 17s - loss: 0.0439 - acc: 0.9858\n",
      "Epoch 12/20\n",
      "20000/20000 - 17s - loss: 0.0346 - acc: 0.9886\n",
      "Epoch 13/20\n",
      "20000/20000 - 17s - loss: 0.0077 - acc: 0.9976\n",
      "Epoch 14/20\n",
      "20000/20000 - 17s - loss: 0.0013 - acc: 0.9998\n",
      "Epoch 15/20\n",
      "20000/20000 - 17s - loss: 0.0018 - acc: 0.9995\n",
      "Epoch 16/20\n",
      "20000/20000 - 17s - loss: 7.8590e-04 - acc: 0.9998\n",
      "Epoch 17/20\n",
      "20000/20000 - 17s - loss: 1.6081e-04 - acc: 1.0000\n",
      "Epoch 18/20\n",
      "20000/20000 - 17s - loss: 8.3363e-05 - acc: 1.0000\n",
      "Epoch 19/20\n",
      "20000/20000 - 17s - loss: 5.2059e-05 - acc: 1.0000\n",
      "Epoch 20/20\n",
      "20000/20000 - 17s - loss: 3.9587e-05 - acc: 1.0000\n"
     ]
    }
   ],
   "source": [
    "hist = model.fit(X_train, Y_train, batch_size = 512, epochs = 20, verbose=2)"
   ]
  },
  {
   "cell_type": "code",
   "execution_count": 51,
   "metadata": {},
   "outputs": [
    {
     "data": {
      "image/png": "[encoded data removed]",
      "text/plain": [
       "<Figure size 432x288 with 1 Axes>"
      ]
     },
     "metadata": {
      "needs_background": "light"
     },
     "output_type": "display_data"
    },
    {
     "data": {
      "image/png": "[encoded data removed]",
      "text/plain": [
       "<Figure size 432x288 with 1 Axes>"
      ]
     },
     "metadata": {
      "needs_background": "light"
     },
     "output_type": "display_data"
    }
   ],
   "source": [
    "plot_loss(hist.history['loss'])\n",
    "plot_acc(hist.history['acc'])"
   ]
  },
  {
   "cell_type": "code",
   "execution_count": 52,
   "metadata": {},
   "outputs": [
    {
     "name": "stdout",
     "output_type": "stream",
     "text": [
      "5000/1 - 11s - loss: 0.6852 - acc: 0.8420\n",
      "Validation Loss:  1.124303325688839\n",
      "Validation Acc :  0.842\n"
     ]
    }
   ],
   "source": [
    "val_loss, val_acc = model.evaluate(X_val, Y_val, verbose=2)\n",
    "print(\"Validation Loss: \", val_loss)\n",
    "print(\"Validation Acc : \", val_acc)"
   ]
  },
  {
   "cell_type": "markdown",
   "metadata": {},
   "source": [
    "## Model 5"
   ]
  },
  {
   "cell_type": "code",
   "execution_count": 53,
   "metadata": {},
   "outputs": [],
   "source": [
    "model = keras.Sequential([\n",
    "    Embedding(input_dim=num_words, output_dim=128, input_length=200),\n",
    "    LSTM(200, activation='tanh', return_sequences=True),\n",
    "    LSTM(200, activation='tanh', return_sequences=True),\n",
    "    LSTM(200, activation='tanh'),\n",
    "    Dense(1, activation='sigmoid')\n",
    "])"
   ]
  },
  {
   "cell_type": "code",
   "execution_count": 54,
   "metadata": {},
   "outputs": [],
   "source": [
    "model.compile(optimizer='adam', loss='binary_crossentropy', metrics=['acc'])"
   ]
  },
  {
   "cell_type": "code",
   "execution_count": 55,
   "metadata": {},
   "outputs": [
    {
     "name": "stdout",
     "output_type": "stream",
     "text": [
      "Train on 20000 samples\n",
      "Epoch 1/20\n",
      "20000/20000 - 24s - loss: 0.6747 - acc: 0.6184\n",
      "Epoch 2/20\n",
      "20000/20000 - 19s - loss: 0.3447 - acc: 0.8546\n",
      "Epoch 3/20\n",
      "20000/20000 - 20s - loss: 0.1208 - acc: 0.9577\n",
      "Epoch 4/20\n",
      "20000/20000 - 19s - loss: 0.0512 - acc: 0.9844\n",
      "Epoch 5/20\n",
      "20000/20000 - 19s - loss: 0.0201 - acc: 0.9943\n",
      "Epoch 6/20\n",
      "20000/20000 - 19s - loss: 0.0202 - acc: 0.9940\n",
      "Epoch 7/20\n",
      "20000/20000 - 19s - loss: 0.0087 - acc: 0.9970\n",
      "Epoch 8/20\n",
      "20000/20000 - 19s - loss: 0.0075 - acc: 0.9975\n",
      "Epoch 9/20\n",
      "20000/20000 - 19s - loss: 0.0085 - acc: 0.9963\n",
      "Epoch 10/20\n",
      "20000/20000 - 19s - loss: 0.0059 - acc: 0.9984\n",
      "Epoch 11/20\n",
      "20000/20000 - 19s - loss: 0.0051 - acc: 0.9983\n",
      "Epoch 12/20\n",
      "20000/20000 - 19s - loss: 0.0022 - acc: 0.9995\n",
      "Epoch 13/20\n",
      "20000/20000 - 19s - loss: 0.0027 - acc: 0.9990\n",
      "Epoch 14/20\n",
      "20000/20000 - 19s - loss: 0.0068 - acc: 0.9975\n",
      "Epoch 15/20\n",
      "20000/20000 - 19s - loss: 0.0129 - acc: 0.9959\n",
      "Epoch 16/20\n",
      "20000/20000 - 19s - loss: 0.0078 - acc: 0.9974\n",
      "Epoch 17/20\n",
      "20000/20000 - 19s - loss: 0.0075 - acc: 0.9976\n",
      "Epoch 18/20\n",
      "20000/20000 - 19s - loss: 0.0274 - acc: 0.9905\n",
      "Epoch 19/20\n",
      "20000/20000 - 19s - loss: 0.0095 - acc: 0.9968\n",
      "Epoch 20/20\n",
      "20000/20000 - 19s - loss: 0.0022 - acc: 0.9994\n"
     ]
    }
   ],
   "source": [
    "hist = model.fit(X_train, Y_train, batch_size = 512, epochs = 20, verbose=2)"
   ]
  },
  {
   "cell_type": "code",
   "execution_count": 56,
   "metadata": {},
   "outputs": [
    {
     "data": {
      "image/png": "[encoded data removed]",
      "text/plain": [
       "<Figure size 432x288 with 1 Axes>"
      ]
     },
     "metadata": {
      "needs_background": "light"
     },
     "output_type": "display_data"
    },
    {
     "data": {
      "image/png": "[encoded data removed]",
      "text/plain": [
       "<Figure size 432x288 with 1 Axes>"
      ]
     },
     "metadata": {
      "needs_background": "light"
     },
     "output_type": "display_data"
    }
   ],
   "source": [
    "plot_loss(hist.history['loss'])\n",
    "plot_acc(hist.history['acc'])"
   ]
  },
  {
   "cell_type": "code",
   "execution_count": 57,
   "metadata": {},
   "outputs": [
    {
     "name": "stdout",
     "output_type": "stream",
     "text": [
      "5000/1 - 11s - loss: 1.1544 - acc: 0.8400\n",
      "Validation Loss:  0.9993465023517608\n",
      "Validation Acc :  0.84\n"
     ]
    }
   ],
   "source": [
    "val_loss, val_acc = model.evaluate(X_val, Y_val, verbose=2)\n",
    "print(\"Validation Loss: \", val_loss)\n",
    "print(\"Validation Acc : \", val_acc)"
   ]
  },
  {
   "cell_type": "markdown",
   "metadata": {},
   "source": [
    "## Model 6"
   ]
  },
  {
   "cell_type": "code",
   "execution_count": 63,
   "metadata": {},
   "outputs": [],
   "source": [
    "sentence_data = []\n",
    "\n",
    "for line_arr in data:\n",
    "    sentence_data.append(\" \".join(line_arr))"
   ]
  },
  {
   "cell_type": "code",
   "execution_count": 66,
   "metadata": {},
   "outputs": [],
   "source": [
    "w2v_model = Word2Vec(data, size = 128, window = 5, min_count=0)\n",
    "word2vec = w2v_model.wv"
   ]
  },
  {
   "cell_type": "code",
   "execution_count": 75,
   "metadata": {},
   "outputs": [],
   "source": [
    "# Converting the training and validation data into vector-coding form using word2vec\n",
    "\n",
    "X_train_vec = []\n",
    "\n",
    "for line_arr in data_train:\n",
    "    arr = []\n",
    "    for word in line_arr:\n",
    "        arr.append(word2vec[word])\n",
    "    \n",
    "    X_train_vec.append(arr)\n",
    "\n",
    "    \n",
    "X_val_vec = []\n",
    "\n",
    "for line_arr in data_val:\n",
    "    arr = []\n",
    "    for word in line_arr:\n",
    "        arr.append(word2vec[word])\n",
    "    \n",
    "    X_val_vec.append(arr)\n",
    "\n"
   ]
  },
  {
   "cell_type": "code",
   "execution_count": 76,
   "metadata": {},
   "outputs": [],
   "source": [
    "# Pad all sequences with 0's\n",
    "\n",
    "X_train_vec = pad_sequences(X_train_vec, maxlen = 200, value = np.zeros(128))\n",
    "X_val_vec = pad_sequences(X_val_vec, maxlen = 200, value = np.zeros(128))"
   ]
  },
  {
   "cell_type": "code",
   "execution_count": 85,
   "metadata": {},
   "outputs": [],
   "source": [
    "model = keras.Sequential([\n",
    "    LSTM(200, activation='tanh', input_shape = (200, 128)),\n",
    "    Dense(1, activation='sigmoid')\n",
    "])"
   ]
  },
  {
   "cell_type": "code",
   "execution_count": 86,
   "metadata": {},
   "outputs": [],
   "source": [
    "model.compile(optimizer='adam', loss='binary_crossentropy', metrics=['acc'])"
   ]
  },
  {
   "cell_type": "code",
   "execution_count": 87,
   "metadata": {},
   "outputs": [
    {
     "name": "stdout",
     "output_type": "stream",
     "text": [
      "Train on 20000 samples\n",
      "Epoch 1/20\n",
      "20000/20000 - 5s - loss: 0.5567 - acc: 0.7049\n",
      "Epoch 2/20\n",
      "20000/20000 - 3s - loss: 0.4581 - acc: 0.7870\n",
      "Epoch 3/20\n",
      "20000/20000 - 3s - loss: 0.4218 - acc: 0.8118\n",
      "Epoch 4/20\n",
      "20000/20000 - 3s - loss: 0.3940 - acc: 0.8255\n",
      "Epoch 5/20\n",
      "20000/20000 - 3s - loss: 0.3916 - acc: 0.8295\n",
      "Epoch 6/20\n",
      "20000/20000 - 3s - loss: 0.3870 - acc: 0.8298\n",
      "Epoch 7/20\n",
      "20000/20000 - 3s - loss: 0.3510 - acc: 0.8505\n",
      "Epoch 8/20\n",
      "20000/20000 - 3s - loss: 0.3248 - acc: 0.8626\n",
      "Epoch 9/20\n",
      "20000/20000 - 3s - loss: 0.3115 - acc: 0.8685\n",
      "Epoch 10/20\n",
      "20000/20000 - 3s - loss: 0.2896 - acc: 0.8812\n",
      "Epoch 11/20\n",
      "20000/20000 - 3s - loss: 0.2777 - acc: 0.8840\n",
      "Epoch 12/20\n",
      "20000/20000 - 3s - loss: 0.2741 - acc: 0.8864\n",
      "Epoch 13/20\n",
      "20000/20000 - 3s - loss: 0.2487 - acc: 0.8999\n",
      "Epoch 14/20\n",
      "20000/20000 - 3s - loss: 0.2256 - acc: 0.9122\n",
      "Epoch 15/20\n",
      "20000/20000 - 3s - loss: 0.2164 - acc: 0.9133\n",
      "Epoch 16/20\n",
      "20000/20000 - 3s - loss: 0.2073 - acc: 0.9188\n",
      "Epoch 17/20\n",
      "20000/20000 - 3s - loss: 0.1783 - acc: 0.9298\n",
      "Epoch 18/20\n",
      "20000/20000 - 3s - loss: 0.1466 - acc: 0.9454\n",
      "Epoch 19/20\n",
      "20000/20000 - 3s - loss: 0.1305 - acc: 0.9521\n",
      "Epoch 20/20\n",
      "20000/20000 - 3s - loss: 0.1230 - acc: 0.9549\n"
     ]
    }
   ],
   "source": [
    "hist = model.fit(X_train_vec, Y_train, batch_size = 512, epochs = 20, verbose=2)"
   ]
  },
  {
   "cell_type": "code",
   "execution_count": 88,
   "metadata": {},
   "outputs": [
    {
     "data": {
      "image/png": "[encoded data removed]",
      "text/plain": [
       "<Figure size 432x288 with 1 Axes>"
      ]
     },
     "metadata": {
      "needs_background": "light"
     },
     "output_type": "display_data"
    },
    {
     "data": {
      "image/png": "[encoded data removed]",
      "text/plain": [
       "<Figure size 432x288 with 1 Axes>"
      ]
     },
     "metadata": {
      "needs_background": "light"
     },
     "output_type": "display_data"
    }
   ],
   "source": [
    "plot_loss(hist.history['loss'])\n",
    "plot_acc(hist.history['acc'])"
   ]
  },
  {
   "cell_type": "code",
   "execution_count": 89,
   "metadata": {},
   "outputs": [
    {
     "name": "stdout",
     "output_type": "stream",
     "text": [
      "5000/1 - 2s - loss: 0.2814 - acc: 0.8290\n",
      "Validation Loss:  0.497761126434803\n",
      "Validation Acc :  0.829\n"
     ]
    }
   ],
   "source": [
    "val_loss, val_acc = model.evaluate(X_val_vec, Y_val, verbose=2)\n",
    "print(\"Validation Loss: \", val_loss)\n",
    "print(\"Validation Acc : \", val_acc)"
   ]
  },
  {
   "cell_type": "markdown",
   "metadata": {},
   "source": [
    "# Best model"
   ]
  },
  {
   "cell_type": "code",
   "execution_count": 93,
   "metadata": {},
   "outputs": [],
   "source": [
    "model = keras.Sequential([\n",
    "    Embedding(input_dim=num_words, output_dim=128, input_length=200),\n",
    "    LSTM(200, activation='tanh'),\n",
    "    Dense(1, activation='sigmoid')\n",
    "])"
   ]
  },
  {
   "cell_type": "code",
   "execution_count": 94,
   "metadata": {},
   "outputs": [],
   "source": [
    "model.compile(optimizer='adam', loss='binary_crossentropy', metrics=['acc'])"
   ]
  },
  {
   "cell_type": "code",
   "execution_count": 95,
   "metadata": {},
   "outputs": [],
   "source": [
    "_ = model.fit(X_train, Y_train, batch_size = 512, epochs = 20, verbose=0)"
   ]
  },
  {
   "cell_type": "code",
   "execution_count": 116,
   "metadata": {},
   "outputs": [],
   "source": [
    "# Get the Test Data\n",
    "\n",
    "data_test = []\n",
    "\n",
    "with open('../input/test.txt', 'r') as fl:\n",
    "    for line in fl.readlines():\n",
    "        line = line.lower()\n",
    "        line = line.replace('<br />', '')\n",
    "        line = line.translate(str.maketrans('', '', string.punctuation))\n",
    "        line_arr = line.split()\n",
    "        data_test.append(line_arr)\n",
    "        \n",
    "assert(len(data_test) == 25000)\n",
    "\n",
    "Y_test = np.zeros(25000)\n",
    "Y_test[:12500] = 1"
   ]
  },
  {
   "cell_type": "code",
   "execution_count": 117,
   "metadata": {},
   "outputs": [],
   "source": [
    "# Shuffle the Dataset\n",
    "\n",
    "indices = np.arange(0, 25000)\n",
    "np.random.shuffle(indices)\n",
    "\n",
    "data_test = [data_test[idx] for idx in indices]\n",
    "Y_test = np.array([Y_test[idx] for idx in indices])"
   ]
  },
  {
   "cell_type": "code",
   "execution_count": 118,
   "metadata": {},
   "outputs": [],
   "source": [
    "# Getting the integer encoding of words\n",
    "\n",
    "word2ind_test = {'<pd>' : 0}\n",
    "ind2word_test = ['<pd>']\n",
    "\n",
    "for line_arr in data_test:\n",
    "    for word in line_arr:\n",
    "        if word not in word2ind_test:\n",
    "            word2ind_test[word] = len(ind2word_test)\n",
    "            ind2word_test.append(word)\n",
    "            \n",
    "num_words_test = len(ind2word_test)"
   ]
  },
  {
   "cell_type": "code",
   "execution_count": 119,
   "metadata": {},
   "outputs": [],
   "source": [
    "# Converting the training and validation data into vector-coding form using word2vec\n",
    "\n",
    "X_test = []\n",
    "\n",
    "for line_arr in data_test:\n",
    "    arr = []\n",
    "    for word in line_arr:\n",
    "        arr.append(word2ind_test[word])\n",
    "    \n",
    "    X_test.append(arr)"
   ]
  },
  {
   "cell_type": "code",
   "execution_count": 120,
   "metadata": {},
   "outputs": [],
   "source": [
    "# Pad all sequences with 0's\n",
    "\n",
    "X_test = pad_sequences(X_test, maxlen = 200, value = 0)"
   ]
  },
  {
   "cell_type": "code",
   "execution_count": 121,
   "metadata": {},
   "outputs": [
    {
     "name": "stdout",
     "output_type": "stream",
     "text": [
      "25000/1 - 44s - loss: 4.9366 - acc: 0.5382\n",
      "Test Loss:  3.6233483587646482\n",
      "Test Acc :  0.5382\n"
     ]
    }
   ],
   "source": [
    "test_loss, test_acc = model.evaluate(X_test, Y_test, verbose=2)\n",
    "print(\"Test Loss: \", test_loss)\n",
    "print(\"Test Acc : \", test_acc)"
   ]
  },
  {
   "cell_type": "markdown",
   "metadata": {},
   "source": []
  }
 ],
 "metadata": {
  "kernelspec": {
   "display_name": "Python 3",
   "language": "python",
   "name": "python3"
  },
  "language_info": {
   "codemirror_mode": {
    "name": "ipython",
    "version": 3
   },
   "file_extension": ".py",
   "mimetype": "text/x-python",
   "name": "python",
   "nbconvert_exporter": "python",
   "pygments_lexer": "ipython3",
   "version": "3.6.8"
  }
 },
 "nbformat": 4,
 "nbformat_minor": 1
}
