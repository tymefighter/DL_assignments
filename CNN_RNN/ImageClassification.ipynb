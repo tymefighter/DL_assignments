{
 "cells": [
  {
   "cell_type": "code",
   "execution_count": 1,
   "metadata": {
    "colab": {
     "base_uri": "https://localhost:8080/",
     "height": 63
    },
    "colab_type": "code",
    "id": "09b7BZNKkaOL",
    "outputId": "39240eaa-7d17-4faa-c918-c1b468303f8c"
   },
   "outputs": [
    {
     "data": {
      "text/html": [
       "<p style=\"color: red;\">\n",
       "The default version of TensorFlow in Colab will soon switch to TensorFlow 2.x.<br>\n",
       "We recommend you <a href=\"https://www.tensorflow.org/guide/migrate\" target=\"_blank\">upgrade</a> now \n",
       "or ensure your notebook will continue to use TensorFlow 1.x via the <code>%tensorflow_version 1.x</code> magic:\n",
       "<a href=\"https://colab.research.google.com/notebooks/tensorflow_version.ipynb\" target=\"_blank\">more info</a>.</p>\n"
      ],
      "text/plain": [
       "<IPython.core.display.HTML object>"
      ]
     },
     "metadata": {
      "tags": []
     },
     "output_type": "display_data"
    }
   ],
   "source": [
    "import numpy as np\n",
    "import matplotlib.pyplot as plt\n",
    "import tensorflow as tf\n",
    "from tensorflow import keras\n",
    "from tensorflow.keras.datasets import cifar10\n",
    "from tensorflow.keras.layers import Conv2D, MaxPool2D, Flatten, Dense\n",
    "from tensorflow.keras.optimizers import Adam"
   ]
  },
  {
   "cell_type": "markdown",
   "metadata": {
    "colab_type": "text",
    "id": "CWW9NJFSltnI"
   },
   "source": [
    "### Loading and Preprocessing Data"
   ]
  },
  {
   "cell_type": "code",
   "execution_count": 0,
   "metadata": {
    "colab": {},
    "colab_type": "code",
    "id": "u1fbRnkrkzaj"
   },
   "outputs": [],
   "source": [
    "(X_data, Y_data), (X_test, Y_test) = cifar10.load_data()"
   ]
  },
  {
   "cell_type": "code",
   "execution_count": 0,
   "metadata": {
    "colab": {},
    "colab_type": "code",
    "id": "PbHUUM8hpbVd"
   },
   "outputs": [],
   "source": [
    "# Normalize the data\n",
    "X_data = np.divide(X_data, 255.)\n",
    "X_test = np.divide(X_test, 255.)"
   ]
  },
  {
   "cell_type": "code",
   "execution_count": 0,
   "metadata": {
    "colab": {},
    "colab_type": "code",
    "id": "_9v8JslnsNKl"
   },
   "outputs": [],
   "source": [
    "n_classes = 10"
   ]
  },
  {
   "cell_type": "markdown",
   "metadata": {
    "colab_type": "text",
    "id": "eSadqhl1mhW8"
   },
   "source": [
    "## Create Validation Set"
   ]
  },
  {
   "cell_type": "code",
   "execution_count": 0,
   "metadata": {
    "colab": {},
    "colab_type": "code",
    "id": "waXNSiXolXU6"
   },
   "outputs": [],
   "source": [
    "# Shuffle the training data\n",
    "indices = np.arange(0, X_data.shape[0])\n",
    "np.random.shuffle(indices)\n",
    "\n",
    "# Build a validation set of 10000 images\n",
    "X_train = X_data[indices[:40000]]\n",
    "Y_train = Y_data[indices[:40000]]\n",
    "X_val = X_data[indices[40000:]]\n",
    "Y_val = Y_data[indices[40000:]]"
   ]
  },
  {
   "cell_type": "markdown",
   "metadata": {
    "colab_type": "text",
    "id": "ha7fo-7Ivbk1"
   },
   "source": [
    "## Helper Functions"
   ]
  },
  {
   "cell_type": "code",
   "execution_count": 0,
   "metadata": {
    "colab": {},
    "colab_type": "code",
    "id": "mpMEsZrrvedl"
   },
   "outputs": [],
   "source": [
    "def plot_loss(arr):\n",
    "\n",
    "    plt.plot(arr)\n",
    "    plt.xlabel(\"num iters\")\n",
    "    plt.ylabel(\"loss\")\n",
    "    plt.title(\"loss vs iters\")\n",
    "    plt.show()\n",
    "\n",
    "def plot_acc(arr):\n",
    "\n",
    "    plt.plot(arr)\n",
    "    plt.xlabel(\"num iters\")\n",
    "    plt.ylabel(\"accuracy\")\n",
    "    plt.title(\"accuracy vs iters\")\n",
    "    plt.show()"
   ]
  },
  {
   "cell_type": "markdown",
   "metadata": {
    "colab_type": "text",
    "id": "fRtodAhwodaK"
   },
   "source": [
    "# Models"
   ]
  },
  {
   "cell_type": "markdown",
   "metadata": {
    "colab_type": "text",
    "id": "F1z4tV9wog52"
   },
   "source": [
    "## Model 1"
   ]
  },
  {
   "cell_type": "code",
   "execution_count": 0,
   "metadata": {
    "colab": {},
    "colab_type": "code",
    "id": "OifuMi43qJFv"
   },
   "outputs": [],
   "source": [
    "model = keras.Sequential([\n",
    "                          Conv2D(32, (5, 5), activation='relu'),\n",
    "                          MaxPool2D((2, 2)),\n",
    "                          Conv2D(64, (5, 5), activation='relu'),\n",
    "                          MaxPool2D((2, 2)),\n",
    "                          Flatten(),\n",
    "                          Dense(64, activation='relu'),\n",
    "                          Dense(n_classes, activation='softmax')\n",
    "])"
   ]
  },
  {
   "cell_type": "code",
   "execution_count": 0,
   "metadata": {
    "colab": {},
    "colab_type": "code",
    "id": "nIXPIdiZsjV1"
   },
   "outputs": [],
   "source": [
    "model.compile(optimizer='sgd', loss='sparse_categorical_crossentropy', metrics = ['acc'])"
   ]
  },
  {
   "cell_type": "code",
   "execution_count": 12,
   "metadata": {
    "colab": {
     "base_uri": "https://localhost:8080/",
     "height": 714
    },
    "colab_type": "code",
    "id": "QfhbpZUBvnS-",
    "outputId": "ac708905-fc64-4c20-e794-cdb6d712267f"
   },
   "outputs": [
    {
     "name": "stdout",
     "output_type": "stream",
     "text": [
      "Train on 40000 samples\n",
      "Epoch 1/20\n",
      "40000/40000 - 8s - loss: 2.0062 - acc: 0.2684\n",
      "Epoch 2/20\n",
      "40000/40000 - 8s - loss: 1.6675 - acc: 0.4016\n",
      "Epoch 3/20\n",
      "40000/40000 - 7s - loss: 1.4995 - acc: 0.4613\n",
      "Epoch 4/20\n",
      "40000/40000 - 7s - loss: 1.3909 - acc: 0.5061\n",
      "Epoch 5/20\n",
      "40000/40000 - 7s - loss: 1.3031 - acc: 0.5370\n",
      "Epoch 6/20\n",
      "40000/40000 - 7s - loss: 1.2297 - acc: 0.5639\n",
      "Epoch 7/20\n",
      "40000/40000 - 8s - loss: 1.1658 - acc: 0.5908\n",
      "Epoch 8/20\n",
      "40000/40000 - 7s - loss: 1.1139 - acc: 0.6083\n",
      "Epoch 9/20\n",
      "40000/40000 - 7s - loss: 1.0660 - acc: 0.6273\n",
      "Epoch 10/20\n",
      "40000/40000 - 7s - loss: 1.0222 - acc: 0.6434\n",
      "Epoch 11/20\n",
      "40000/40000 - 7s - loss: 0.9818 - acc: 0.6585\n",
      "Epoch 12/20\n",
      "40000/40000 - 7s - loss: 0.9454 - acc: 0.6706\n",
      "Epoch 13/20\n",
      "40000/40000 - 8s - loss: 0.9108 - acc: 0.6839\n",
      "Epoch 14/20\n",
      "40000/40000 - 8s - loss: 0.8772 - acc: 0.6951\n",
      "Epoch 15/20\n",
      "40000/40000 - 7s - loss: 0.8460 - acc: 0.7062\n",
      "Epoch 16/20\n",
      "40000/40000 - 7s - loss: 0.8139 - acc: 0.7182\n",
      "Epoch 17/20\n",
      "40000/40000 - 7s - loss: 0.7853 - acc: 0.7307\n",
      "Epoch 18/20\n",
      "40000/40000 - 7s - loss: 0.7579 - acc: 0.7359\n",
      "Epoch 19/20\n",
      "40000/40000 - 7s - loss: 0.7277 - acc: 0.7478\n",
      "Epoch 20/20\n",
      "40000/40000 - 7s - loss: 0.7012 - acc: 0.7576\n"
     ]
    }
   ],
   "source": [
    "hist = model.fit(X_train, Y_train, epochs = 20, verbose = 2)"
   ]
  },
  {
   "cell_type": "code",
   "execution_count": 13,
   "metadata": {
    "colab": {
     "base_uri": "https://localhost:8080/",
     "height": 573
    },
    "colab_type": "code",
    "id": "Ka_3dKUyukF1",
    "outputId": "4b121c7b-aaf4-465f-c3c7-8e5aeb13211f"
   },
   "outputs": [
    {
     "data": {
      "image/png": "[encoded data removed]",
      "text/plain": [
       "<Figure size 432x288 with 1 Axes>"
      ]
     },
     "metadata": {
      "tags": []
     },
     "output_type": "display_data"
    },
    {
     "data": {
      "image/png": "[encoded data removed]",
      "text/plain": [
       "<Figure size 432x288 with 1 Axes>"
      ]
     },
     "metadata": {
      "tags": []
     },
     "output_type": "display_data"
    }
   ],
   "source": [
    "plot_loss(hist.history['loss'])\n",
    "plot_acc(hist.history['acc'])"
   ]
  },
  {
   "cell_type": "code",
   "execution_count": 14,
   "metadata": {
    "colab": {
     "base_uri": "https://localhost:8080/",
     "height": 68
    },
    "colab_type": "code",
    "id": "5BjQjn8F-dTY",
    "outputId": "31d08005-2bd8-4402-be3d-d9e398a4159b"
   },
   "outputs": [
    {
     "name": "stdout",
     "output_type": "stream",
     "text": [
      "10000/10000 - 1s - loss: 1.0058 - acc: 0.6606\n",
      "Validation Loss:  1.0058238549232483\n",
      "Validation Acc :  0.6606\n"
     ]
    }
   ],
   "source": [
    "val_loss, val_acc = model.evaluate(X_val, Y_val, verbose=2)\n",
    "print(\"Validation Loss: \", val_loss)\n",
    "print(\"Validation Acc : \", val_acc)"
   ]
  },
  {
   "cell_type": "markdown",
   "metadata": {
    "colab_type": "text",
    "id": "rozKu_Ny7vQn"
   },
   "source": [
    "## Model 2"
   ]
  },
  {
   "cell_type": "code",
   "execution_count": 0,
   "metadata": {
    "colab": {},
    "colab_type": "code",
    "id": "kbzCWSpB7ecw"
   },
   "outputs": [],
   "source": [
    "model = keras.Sequential([\n",
    "                          Conv2D(32, (5, 5), activation='relu'),\n",
    "                          MaxPool2D((3, 3)),\n",
    "                          Conv2D(64, (5, 5), activation='relu'),\n",
    "                          MaxPool2D((3, 3)),\n",
    "                          Flatten(),\n",
    "                          Dense(64, activation='relu'),\n",
    "                          Dense(n_classes, activation='softmax')\n",
    "])"
   ]
  },
  {
   "cell_type": "code",
   "execution_count": 0,
   "metadata": {
    "colab": {},
    "colab_type": "code",
    "id": "zNtxsn7y7zUM"
   },
   "outputs": [],
   "source": [
    "model.compile(optimizer='sgd', loss='sparse_categorical_crossentropy', metrics = ['acc'])"
   ]
  },
  {
   "cell_type": "code",
   "execution_count": 17,
   "metadata": {
    "colab": {
     "base_uri": "https://localhost:8080/",
     "height": 714
    },
    "colab_type": "code",
    "id": "2WXLgHxM71PS",
    "outputId": "cc534ff0-afa1-40bc-a908-2b862b77b382"
   },
   "outputs": [
    {
     "name": "stdout",
     "output_type": "stream",
     "text": [
      "Train on 40000 samples\n",
      "Epoch 1/20\n",
      "40000/40000 - 7s - loss: 2.1229 - acc: 0.2123\n",
      "Epoch 2/20\n",
      "40000/40000 - 7s - loss: 1.8725 - acc: 0.3113\n",
      "Epoch 3/20\n",
      "40000/40000 - 7s - loss: 1.6973 - acc: 0.3868\n",
      "Epoch 4/20\n",
      "40000/40000 - 7s - loss: 1.5810 - acc: 0.4327\n",
      "Epoch 5/20\n",
      "40000/40000 - 7s - loss: 1.4964 - acc: 0.4657\n",
      "Epoch 6/20\n",
      "40000/40000 - 7s - loss: 1.4343 - acc: 0.4883\n",
      "Epoch 7/20\n",
      "40000/40000 - 7s - loss: 1.3831 - acc: 0.5082\n",
      "Epoch 8/20\n",
      "40000/40000 - 7s - loss: 1.3358 - acc: 0.5293\n",
      "Epoch 9/20\n",
      "40000/40000 - 7s - loss: 1.2921 - acc: 0.5449\n",
      "Epoch 10/20\n",
      "40000/40000 - 7s - loss: 1.2548 - acc: 0.5628\n",
      "Epoch 11/20\n",
      "40000/40000 - 7s - loss: 1.2145 - acc: 0.5745\n",
      "Epoch 12/20\n",
      "40000/40000 - 7s - loss: 1.1805 - acc: 0.5904\n",
      "Epoch 13/20\n",
      "40000/40000 - 7s - loss: 1.1524 - acc: 0.6000\n",
      "Epoch 14/20\n",
      "40000/40000 - 7s - loss: 1.1253 - acc: 0.6095\n",
      "Epoch 15/20\n",
      "40000/40000 - 7s - loss: 1.0974 - acc: 0.6184\n",
      "Epoch 16/20\n",
      "40000/40000 - 7s - loss: 1.0721 - acc: 0.6306\n",
      "Epoch 17/20\n",
      "40000/40000 - 7s - loss: 1.0505 - acc: 0.6333\n",
      "Epoch 18/20\n",
      "40000/40000 - 7s - loss: 1.0239 - acc: 0.6452\n",
      "Epoch 19/20\n",
      "40000/40000 - 7s - loss: 1.0044 - acc: 0.6503\n",
      "Epoch 20/20\n",
      "40000/40000 - 7s - loss: 0.9828 - acc: 0.6569\n"
     ]
    }
   ],
   "source": [
    "hist = model.fit(X_train, Y_train, epochs = 20, verbose = 2)"
   ]
  },
  {
   "cell_type": "code",
   "execution_count": 18,
   "metadata": {
    "colab": {
     "base_uri": "https://localhost:8080/",
     "height": 573
    },
    "colab_type": "code",
    "id": "l0G4ZZmM71qW",
    "outputId": "d53780aa-3b2f-4086-f6fe-d714fb4cc90f"
   },
   "outputs": [
    {
     "data": {
      "image/png": "[encoded data removed]",
      "text/plain": [
       "<Figure size 432x288 with 1 Axes>"
      ]
     },
     "metadata": {
      "tags": []
     },
     "output_type": "display_data"
    },
    {
     "data": {
      "image/png": "[encoded data removed]",
      "text/plain": [
       "<Figure size 432x288 with 1 Axes>"
      ]
     },
     "metadata": {
      "tags": []
     },
     "output_type": "display_data"
    }
   ],
   "source": [
    "plot_loss(hist.history['loss'])\n",
    "plot_acc(hist.history['acc'])"
   ]
  },
  {
   "cell_type": "code",
   "execution_count": 19,
   "metadata": {
    "colab": {
     "base_uri": "https://localhost:8080/",
     "height": 68
    },
    "colab_type": "code",
    "id": "RVBdwPMK-4MM",
    "outputId": "dd30111d-193d-49ff-99a0-93e46e4806cd"
   },
   "outputs": [
    {
     "name": "stdout",
     "output_type": "stream",
     "text": [
      "10000/10000 - 1s - loss: 1.1486 - acc: 0.6068\n",
      "Validation Loss:  1.148619015789032\n",
      "Validation Acc :  0.6068\n"
     ]
    }
   ],
   "source": [
    "val_loss, val_acc = model.evaluate(X_val, Y_val, verbose=2)\n",
    "print(\"Validation Loss: \", val_loss)\n",
    "print(\"Validation Acc : \", val_acc)"
   ]
  },
  {
   "cell_type": "markdown",
   "metadata": {
    "colab_type": "text",
    "id": "FdqE6XET9UMz"
   },
   "source": [
    "## Model 3"
   ]
  },
  {
   "cell_type": "code",
   "execution_count": 0,
   "metadata": {
    "colab": {},
    "colab_type": "code",
    "id": "-8zRYPOL9VR_"
   },
   "outputs": [],
   "source": [
    "model = keras.Sequential([\n",
    "                          Conv2D(32, (3, 3), activation='relu'),\n",
    "                          MaxPool2D((2, 2)),\n",
    "                          Conv2D(64, (3, 3), activation='relu'),\n",
    "                          MaxPool2D((2, 2)),\n",
    "                          Flatten(),\n",
    "                          Dense(64, activation='relu'),\n",
    "                          Dense(n_classes, activation='softmax')\n",
    "])"
   ]
  },
  {
   "cell_type": "code",
   "execution_count": 0,
   "metadata": {
    "colab": {},
    "colab_type": "code",
    "id": "TYeinutX9yUR"
   },
   "outputs": [],
   "source": [
    "model.compile(optimizer='sgd', loss='sparse_categorical_crossentropy', metrics = ['acc'])"
   ]
  },
  {
   "cell_type": "code",
   "execution_count": 22,
   "metadata": {
    "colab": {
     "base_uri": "https://localhost:8080/",
     "height": 714
    },
    "colab_type": "code",
    "id": "ig0ygS7A9zvK",
    "outputId": "61035d50-ca43-4a79-e44b-401bdc4f5ef1"
   },
   "outputs": [
    {
     "name": "stdout",
     "output_type": "stream",
     "text": [
      "Train on 40000 samples\n",
      "Epoch 1/20\n",
      "40000/40000 - 7s - loss: 2.0647 - acc: 0.2396\n",
      "Epoch 2/20\n",
      "40000/40000 - 7s - loss: 1.7192 - acc: 0.3862\n",
      "Epoch 3/20\n",
      "40000/40000 - 7s - loss: 1.5029 - acc: 0.4624\n",
      "Epoch 4/20\n",
      "40000/40000 - 7s - loss: 1.3974 - acc: 0.5048\n",
      "Epoch 5/20\n",
      "40000/40000 - 7s - loss: 1.3185 - acc: 0.5336\n",
      "Epoch 6/20\n",
      "40000/40000 - 7s - loss: 1.2493 - acc: 0.5600\n",
      "Epoch 7/20\n",
      "40000/40000 - 7s - loss: 1.1878 - acc: 0.5831\n",
      "Epoch 8/20\n",
      "40000/40000 - 7s - loss: 1.1331 - acc: 0.6024\n",
      "Epoch 9/20\n",
      "40000/40000 - 7s - loss: 1.0887 - acc: 0.6204\n",
      "Epoch 10/20\n",
      "40000/40000 - 7s - loss: 1.0465 - acc: 0.6357\n",
      "Epoch 11/20\n",
      "40000/40000 - 7s - loss: 1.0050 - acc: 0.6498\n",
      "Epoch 12/20\n",
      "40000/40000 - 7s - loss: 0.9715 - acc: 0.6645\n",
      "Epoch 13/20\n",
      "40000/40000 - 7s - loss: 0.9379 - acc: 0.6744\n",
      "Epoch 14/20\n",
      "40000/40000 - 7s - loss: 0.9062 - acc: 0.6862\n",
      "Epoch 15/20\n",
      "40000/40000 - 7s - loss: 0.8789 - acc: 0.6959\n",
      "Epoch 16/20\n",
      "40000/40000 - 7s - loss: 0.8481 - acc: 0.7081\n",
      "Epoch 17/20\n",
      "40000/40000 - 7s - loss: 0.8223 - acc: 0.7148\n",
      "Epoch 18/20\n",
      "40000/40000 - 7s - loss: 0.7956 - acc: 0.7239\n",
      "Epoch 19/20\n",
      "40000/40000 - 7s - loss: 0.7695 - acc: 0.7337\n",
      "Epoch 20/20\n",
      "40000/40000 - 7s - loss: 0.7430 - acc: 0.7439\n"
     ]
    }
   ],
   "source": [
    "hist = model.fit(X_train, Y_train, epochs = 20, verbose = 2)"
   ]
  },
  {
   "cell_type": "code",
   "execution_count": 23,
   "metadata": {
    "colab": {
     "base_uri": "https://localhost:8080/",
     "height": 573
    },
    "colab_type": "code",
    "id": "EOYdBHBM91-L",
    "outputId": "fdfd92de-6d4c-4027-c02f-39770cd86472"
   },
   "outputs": [
    {
     "data": {
      "image/png": "[encoded data removed]",
      "text/plain": [
       "<Figure size 432x288 with 1 Axes>"
      ]
     },
     "metadata": {
      "tags": []
     },
     "output_type": "display_data"
    },
    {
     "data": {
      "image/png": "[encoded data removed]",
      "text/plain": [
       "<Figure size 432x288 with 1 Axes>"
      ]
     },
     "metadata": {
      "tags": []
     },
     "output_type": "display_data"
    }
   ],
   "source": [
    "plot_loss(hist.history['loss'])\n",
    "plot_acc(hist.history['acc'])"
   ]
  },
  {
   "cell_type": "code",
   "execution_count": 24,
   "metadata": {
    "colab": {
     "base_uri": "https://localhost:8080/",
     "height": 68
    },
    "colab_type": "code",
    "id": "2ipLoSJH-55X",
    "outputId": "2e0eb4b7-284c-4003-8cff-4edf50287574"
   },
   "outputs": [
    {
     "name": "stdout",
     "output_type": "stream",
     "text": [
      "10000/10000 - 1s - loss: 1.0000 - acc: 0.6549\n",
      "Validation Loss:  0.9999627938270569\n",
      "Validation Acc :  0.6549\n"
     ]
    }
   ],
   "source": [
    "val_loss, val_acc = model.evaluate(X_val, Y_val, verbose=2)\n",
    "print(\"Validation Loss: \", val_loss)\n",
    "print(\"Validation Acc : \", val_acc)"
   ]
  },
  {
   "cell_type": "markdown",
   "metadata": {
    "colab_type": "text",
    "id": "BOZsVfWb-Ek-"
   },
   "source": [
    "## Model 4"
   ]
  },
  {
   "cell_type": "code",
   "execution_count": 0,
   "metadata": {
    "colab": {},
    "colab_type": "code",
    "id": "dbtb5aCQ-D5l"
   },
   "outputs": [],
   "source": [
    "model = keras.Sequential([\n",
    "                          Conv2D(32, (3, 3), activation='relu'),\n",
    "                          MaxPool2D((2, 2)),\n",
    "                          Conv2D(64, (3, 3), activation='relu'),\n",
    "                          MaxPool2D((2, 2)),\n",
    "                          Conv2D(128, (3, 3), activation='relu'),\n",
    "                          MaxPool2D((2, 2)),\n",
    "                          Flatten(),\n",
    "                          Dense(64, activation='relu'),\n",
    "                          Dense(n_classes, activation='softmax')\n",
    "])"
   ]
  },
  {
   "cell_type": "code",
   "execution_count": 0,
   "metadata": {
    "colab": {},
    "colab_type": "code",
    "id": "IrTMFtup-Hdb"
   },
   "outputs": [],
   "source": [
    "model.compile(optimizer='sgd', loss='sparse_categorical_crossentropy', metrics = ['acc'])"
   ]
  },
  {
   "cell_type": "code",
   "execution_count": 27,
   "metadata": {
    "colab": {
     "base_uri": "https://localhost:8080/",
     "height": 714
    },
    "colab_type": "code",
    "id": "zLlDoGqL-JoZ",
    "outputId": "7569af09-8e36-4173-c49d-dd4d28ec8ff4"
   },
   "outputs": [
    {
     "name": "stdout",
     "output_type": "stream",
     "text": [
      "Train on 40000 samples\n",
      "Epoch 1/20\n",
      "40000/40000 - 8s - loss: 2.1350 - acc: 0.2086\n",
      "Epoch 2/20\n",
      "40000/40000 - 8s - loss: 1.8656 - acc: 0.3194\n",
      "Epoch 3/20\n",
      "40000/40000 - 8s - loss: 1.6498 - acc: 0.4044\n",
      "Epoch 4/20\n",
      "40000/40000 - 8s - loss: 1.5134 - acc: 0.4538\n",
      "Epoch 5/20\n",
      "40000/40000 - 8s - loss: 1.4213 - acc: 0.4918\n",
      "Epoch 6/20\n",
      "40000/40000 - 8s - loss: 1.3401 - acc: 0.5231\n",
      "Epoch 7/20\n",
      "40000/40000 - 8s - loss: 1.2697 - acc: 0.5499\n",
      "Epoch 8/20\n",
      "40000/40000 - 8s - loss: 1.2090 - acc: 0.5731\n",
      "Epoch 9/20\n",
      "40000/40000 - 8s - loss: 1.1572 - acc: 0.5941\n",
      "Epoch 10/20\n",
      "40000/40000 - 8s - loss: 1.1044 - acc: 0.6126\n",
      "Epoch 11/20\n",
      "40000/40000 - 8s - loss: 1.0595 - acc: 0.6314\n",
      "Epoch 12/20\n",
      "40000/40000 - 8s - loss: 1.0181 - acc: 0.6467\n",
      "Epoch 13/20\n",
      "40000/40000 - 8s - loss: 0.9760 - acc: 0.6602\n",
      "Epoch 14/20\n",
      "40000/40000 - 8s - loss: 0.9411 - acc: 0.6745\n",
      "Epoch 15/20\n",
      "40000/40000 - 8s - loss: 0.9071 - acc: 0.6836\n",
      "Epoch 16/20\n",
      "40000/40000 - 8s - loss: 0.8735 - acc: 0.6960\n",
      "Epoch 17/20\n",
      "40000/40000 - 8s - loss: 0.8393 - acc: 0.7094\n",
      "Epoch 18/20\n",
      "40000/40000 - 8s - loss: 0.8133 - acc: 0.7177\n",
      "Epoch 19/20\n",
      "40000/40000 - 8s - loss: 0.7823 - acc: 0.7290\n",
      "Epoch 20/20\n",
      "40000/40000 - 8s - loss: 0.7553 - acc: 0.7369\n"
     ]
    }
   ],
   "source": [
    "hist = model.fit(X_train, Y_train, epochs = 20, verbose = 2)"
   ]
  },
  {
   "cell_type": "code",
   "execution_count": 28,
   "metadata": {
    "colab": {
     "base_uri": "https://localhost:8080/",
     "height": 573
    },
    "colab_type": "code",
    "id": "SEsrerlh-Lk1",
    "outputId": "5be5bb7e-5c4e-4334-a381-051823028cdb"
   },
   "outputs": [
    {
     "data": {
      "image/png": "[encoded data removed]",
      "text/plain": [
       "<Figure size 432x288 with 1 Axes>"
      ]
     },
     "metadata": {
      "tags": []
     },
     "output_type": "display_data"
    },
    {
     "data": {
      "image/png": "[encoded data removed]",
      "text/plain": [
       "<Figure size 432x288 with 1 Axes>"
      ]
     },
     "metadata": {
      "tags": []
     },
     "output_type": "display_data"
    }
   ],
   "source": [
    "plot_loss(hist.history['loss'])\n",
    "plot_acc(hist.history['acc'])"
   ]
  },
  {
   "cell_type": "code",
   "execution_count": 29,
   "metadata": {
    "colab": {
     "base_uri": "https://localhost:8080/",
     "height": 68
    },
    "colab_type": "code",
    "id": "1NpXtwVy-8oH",
    "outputId": "02003a9f-d0e5-4238-9261-5fdd6d9603df"
   },
   "outputs": [
    {
     "name": "stdout",
     "output_type": "stream",
     "text": [
      "10000/10000 - 1s - loss: 0.9548 - acc: 0.6744\n",
      "Validation Loss:  0.9547530891418458\n",
      "Validation Acc :  0.6744\n"
     ]
    }
   ],
   "source": [
    "val_loss, val_acc = model.evaluate(X_val, Y_val, verbose=2)\n",
    "print(\"Validation Loss: \", val_loss)\n",
    "print(\"Validation Acc : \", val_acc)"
   ]
  },
  {
   "cell_type": "markdown",
   "metadata": {},
   "source": [
    "## Best model among models 1, 2, 3 and 4: Model 4\n",
    "\n",
    "- Model 4 gave the best validation accuracy as well as validation loss from among the four models\n",
    "- We may have obtained this result because model 4 has one more convolutional and max pooling layer, which would have helped it to learn a more complex function than those functions learnt by models 1, 2 and 3."
   ]
  },
  {
   "cell_type": "markdown",
   "metadata": {
    "colab_type": "text",
    "id": "Nyqz3QFFBn4L"
   },
   "source": [
    "\n",
    "## Model 5"
   ]
  },
  {
   "cell_type": "markdown",
   "metadata": {
    "colab_type": "text",
    "id": "5WBznf3PFAIX"
   },
   "source": [
    "### Chosen model: -\n",
    "- Actual best model: model 4\n",
    "- Chosen model: model 1 (because of the negative dimension problem in model 4)"
   ]
  },
  {
   "cell_type": "code",
   "execution_count": 0,
   "metadata": {
    "colab": {},
    "colab_type": "code",
    "id": "3wusQxzj_n4Q"
   },
   "outputs": [],
   "source": [
    "model = keras.Sequential([\n",
    "                          Conv2D(32, (5, 5), (2, 2), activation='relu'),\n",
    "                          MaxPool2D((2, 2)),\n",
    "                          Conv2D(64, (5, 5), (2, 2), activation='relu'),\n",
    "                          MaxPool2D((2, 2)),\n",
    "                          Flatten(),\n",
    "                          Dense(64, activation='relu'),\n",
    "                          Dense(n_classes, activation='softmax')\n",
    "])"
   ]
  },
  {
   "cell_type": "code",
   "execution_count": 0,
   "metadata": {
    "colab": {},
    "colab_type": "code",
    "id": "-3iYVnGRCpDV"
   },
   "outputs": [],
   "source": [
    "model.compile(optimizer='sgd', loss='sparse_categorical_crossentropy', metrics = ['acc'])"
   ]
  },
  {
   "cell_type": "code",
   "execution_count": 42,
   "metadata": {
    "colab": {
     "base_uri": "https://localhost:8080/",
     "height": 714
    },
    "colab_type": "code",
    "id": "u48Rg0LRCuVU",
    "outputId": "a7f60570-84e2-4f6e-d80c-bf912d0fdd1e"
   },
   "outputs": [
    {
     "name": "stdout",
     "output_type": "stream",
     "text": [
      "Train on 40000 samples\n",
      "Epoch 1/20\n",
      "40000/40000 - 6s - loss: 2.0881 - acc: 0.2280\n",
      "Epoch 2/20\n",
      "40000/40000 - 6s - loss: 1.8366 - acc: 0.3286\n",
      "Epoch 3/20\n",
      "40000/40000 - 6s - loss: 1.6604 - acc: 0.3959\n",
      "Epoch 4/20\n",
      "40000/40000 - 6s - loss: 1.5371 - acc: 0.4413\n",
      "Epoch 5/20\n",
      "40000/40000 - 6s - loss: 1.4597 - acc: 0.4742\n",
      "Epoch 6/20\n",
      "40000/40000 - 6s - loss: 1.3969 - acc: 0.4998\n",
      "Epoch 7/20\n",
      "40000/40000 - 6s - loss: 1.3455 - acc: 0.5195\n",
      "Epoch 8/20\n",
      "40000/40000 - 6s - loss: 1.3004 - acc: 0.5350\n",
      "Epoch 9/20\n",
      "40000/40000 - 6s - loss: 1.2571 - acc: 0.5534\n",
      "Epoch 10/20\n",
      "40000/40000 - 6s - loss: 1.2245 - acc: 0.5656\n",
      "Epoch 11/20\n",
      "40000/40000 - 6s - loss: 1.1840 - acc: 0.5793\n",
      "Epoch 12/20\n",
      "40000/40000 - 6s - loss: 1.1544 - acc: 0.5907\n",
      "Epoch 13/20\n",
      "40000/40000 - 6s - loss: 1.1232 - acc: 0.6023\n",
      "Epoch 14/20\n",
      "40000/40000 - 6s - loss: 1.0961 - acc: 0.6107\n",
      "Epoch 15/20\n",
      "40000/40000 - 6s - loss: 1.0663 - acc: 0.6229\n",
      "Epoch 16/20\n",
      "40000/40000 - 6s - loss: 1.0400 - acc: 0.6334\n",
      "Epoch 17/20\n",
      "40000/40000 - 6s - loss: 1.0164 - acc: 0.6408\n",
      "Epoch 18/20\n",
      "40000/40000 - 6s - loss: 0.9913 - acc: 0.6473\n",
      "Epoch 19/20\n",
      "40000/40000 - 6s - loss: 0.9690 - acc: 0.6573\n",
      "Epoch 20/20\n",
      "40000/40000 - 6s - loss: 0.9464 - acc: 0.6655\n"
     ]
    }
   ],
   "source": [
    "hist = model.fit(X_train, Y_train, epochs = 20, verbose = 2)"
   ]
  },
  {
   "cell_type": "code",
   "execution_count": 43,
   "metadata": {
    "colab": {
     "base_uri": "https://localhost:8080/",
     "height": 573
    },
    "colab_type": "code",
    "id": "ICptyEpzCql1",
    "outputId": "e475cb74-af8c-4deb-c08e-b41f55adbb16"
   },
   "outputs": [
    {
     "data": {
      "image/png": "[encoded data removed]",
      "text/plain": [
       "<Figure size 432x288 with 1 Axes>"
      ]
     },
     "metadata": {
      "tags": []
     },
     "output_type": "display_data"
    },
    {
     "data": {
      "image/png": "[encoded data removed]",
      "text/plain": [
       "<Figure size 432x288 with 1 Axes>"
      ]
     },
     "metadata": {
      "tags": []
     },
     "output_type": "display_data"
    }
   ],
   "source": [
    "plot_loss(hist.history['loss'])\n",
    "plot_acc(hist.history['acc'])"
   ]
  },
  {
   "cell_type": "code",
   "execution_count": 44,
   "metadata": {
    "colab": {
     "base_uri": "https://localhost:8080/",
     "height": 68
    },
    "colab_type": "code",
    "id": "aKcrrb3LCsCY",
    "outputId": "af008e4f-e799-4217-e7c6-3b188b1908ff"
   },
   "outputs": [
    {
     "name": "stdout",
     "output_type": "stream",
     "text": [
      "10000/10000 - 1s - loss: 1.1285 - acc: 0.6069\n",
      "Validation Loss:  1.1285111995697021\n",
      "Validation Acc :  0.6069\n"
     ]
    }
   ],
   "source": [
    "val_loss, val_acc = model.evaluate(X_val, Y_val, verbose=2)\n",
    "print(\"Validation Loss: \", val_loss)\n",
    "print(\"Validation Acc : \", val_acc)"
   ]
  },
  {
   "cell_type": "markdown",
   "metadata": {
    "colab_type": "text",
    "id": "ND8Up3U5Cvg9"
   },
   "source": [
    "## Model 6"
   ]
  },
  {
   "cell_type": "markdown",
   "metadata": {
    "colab_type": "text",
    "id": "Cbn5Y5tTHn7l"
   },
   "source": [
    "### Chosen model: -\n",
    "- Model 4 is the chosen model.\n",
    "- We have chosen this because it was the best among models 1 to 4 in terms of validation accuracy and validation loss"
   ]
  },
  {
   "cell_type": "code",
   "execution_count": 0,
   "metadata": {
    "colab": {},
    "colab_type": "code",
    "id": "lsQEIi6lCwv7"
   },
   "outputs": [],
   "source": [
    "model = keras.Sequential([\n",
    "                          Conv2D(32, (3, 3), padding='same', activation='relu'),\n",
    "                          MaxPool2D((2, 2)),\n",
    "                          Conv2D(64, (3, 3), padding='same', activation='relu'),\n",
    "                          MaxPool2D((2, 2)),\n",
    "                          Conv2D(128, (3, 3), padding='same', activation='relu'),\n",
    "                          MaxPool2D((2, 2)),\n",
    "                          Flatten(),\n",
    "                          Dense(64, activation='relu'),\n",
    "                          Dense(n_classes, activation='softmax')\n",
    "])"
   ]
  },
  {
   "cell_type": "code",
   "execution_count": 0,
   "metadata": {
    "colab": {},
    "colab_type": "code",
    "id": "KMzFHP6JCzCn"
   },
   "outputs": [],
   "source": [
    "model.compile(optimizer='sgd', loss='sparse_categorical_crossentropy', metrics = ['acc'])"
   ]
  },
  {
   "cell_type": "code",
   "execution_count": 47,
   "metadata": {
    "colab": {
     "base_uri": "https://localhost:8080/",
     "height": 714
    },
    "colab_type": "code",
    "id": "7LO3RfqRCzWs",
    "outputId": "2a64f33e-4348-4fc1-e3fe-fdac8324d185"
   },
   "outputs": [
    {
     "name": "stdout",
     "output_type": "stream",
     "text": [
      "Train on 40000 samples\n",
      "Epoch 1/20\n",
      "40000/40000 - 9s - loss: 2.0658 - acc: 0.2449\n",
      "Epoch 2/20\n",
      "40000/40000 - 8s - loss: 1.6921 - acc: 0.3952\n",
      "Epoch 3/20\n",
      "40000/40000 - 8s - loss: 1.5088 - acc: 0.4581\n",
      "Epoch 4/20\n",
      "40000/40000 - 8s - loss: 1.3974 - acc: 0.5009\n",
      "Epoch 5/20\n",
      "40000/40000 - 9s - loss: 1.3020 - acc: 0.5384\n",
      "Epoch 6/20\n",
      "40000/40000 - 8s - loss: 1.2202 - acc: 0.5685\n",
      "Epoch 7/20\n",
      "40000/40000 - 8s - loss: 1.1460 - acc: 0.5958\n",
      "Epoch 8/20\n",
      "40000/40000 - 8s - loss: 1.0781 - acc: 0.6205\n",
      "Epoch 9/20\n",
      "40000/40000 - 8s - loss: 1.0181 - acc: 0.6438\n",
      "Epoch 10/20\n",
      "40000/40000 - 8s - loss: 0.9619 - acc: 0.6635\n",
      "Epoch 11/20\n",
      "40000/40000 - 8s - loss: 0.9134 - acc: 0.6849\n",
      "Epoch 12/20\n",
      "40000/40000 - 8s - loss: 0.8684 - acc: 0.7006\n",
      "Epoch 13/20\n",
      "40000/40000 - 8s - loss: 0.8264 - acc: 0.7120\n",
      "Epoch 14/20\n",
      "40000/40000 - 8s - loss: 0.7886 - acc: 0.7258\n",
      "Epoch 15/20\n",
      "40000/40000 - 8s - loss: 0.7496 - acc: 0.7408\n",
      "Epoch 16/20\n",
      "40000/40000 - 8s - loss: 0.7163 - acc: 0.7522\n",
      "Epoch 17/20\n",
      "40000/40000 - 8s - loss: 0.6792 - acc: 0.7652\n",
      "Epoch 18/20\n",
      "40000/40000 - 8s - loss: 0.6438 - acc: 0.7769\n",
      "Epoch 19/20\n",
      "40000/40000 - 8s - loss: 0.6102 - acc: 0.7875\n",
      "Epoch 20/20\n",
      "40000/40000 - 9s - loss: 0.5774 - acc: 0.7987\n"
     ]
    }
   ],
   "source": [
    "hist = model.fit(X_train, Y_train, epochs = 20, verbose = 2)"
   ]
  },
  {
   "cell_type": "code",
   "execution_count": 48,
   "metadata": {
    "colab": {
     "base_uri": "https://localhost:8080/",
     "height": 573
    },
    "colab_type": "code",
    "id": "dp8iHUm5Czl2",
    "outputId": "adde97ba-0bf5-43cb-cf0d-1c1cf8a0b402"
   },
   "outputs": [
    {
     "data": {
      "image/png": "[encoded data removed]",
      "text/plain": [
       "<Figure size 432x288 with 1 Axes>"
      ]
     },
     "metadata": {
      "tags": []
     },
     "output_type": "display_data"
    },
    {
     "data": {
      "image/png": "[encoded data removed]",
      "text/plain": [
       "<Figure size 432x288 with 1 Axes>"
      ]
     },
     "metadata": {
      "tags": []
     },
     "output_type": "display_data"
    }
   ],
   "source": [
    "plot_loss(hist.history['loss'])\n",
    "plot_acc(hist.history['acc'])"
   ]
  },
  {
   "cell_type": "code",
   "execution_count": 49,
   "metadata": {
    "colab": {
     "base_uri": "https://localhost:8080/",
     "height": 68
    },
    "colab_type": "code",
    "id": "f3H2NlIcC3e2",
    "outputId": "89c358f7-c300-4716-853e-5eb357009181"
   },
   "outputs": [
    {
     "name": "stdout",
     "output_type": "stream",
     "text": [
      "10000/10000 - 1s - loss: 0.9223 - acc: 0.6940\n",
      "Validation Loss:  0.9222947300434112\n",
      "Validation Acc :  0.694\n"
     ]
    }
   ],
   "source": [
    "val_loss, val_acc = model.evaluate(X_val, Y_val, verbose=2)\n",
    "print(\"Validation Loss: \", val_loss)\n",
    "print(\"Validation Acc : \", val_acc)"
   ]
  },
  {
   "cell_type": "markdown",
   "metadata": {
    "colab_type": "text",
    "id": "MRSQci2bC-ud"
   },
   "source": [
    "## Model 7"
   ]
  },
  {
   "cell_type": "markdown",
   "metadata": {
    "colab_type": "text",
    "id": "TRrO7n4SJCJo"
   },
   "source": [
    "### Chosen model: -\n",
    "- Actual best model: model 4\n",
    "- Chosen model: model 1 (because of the negative dimension problem in model 4)"
   ]
  },
  {
   "cell_type": "code",
   "execution_count": 0,
   "metadata": {
    "colab": {},
    "colab_type": "code",
    "id": "pxnX2IS0C_lO"
   },
   "outputs": [],
   "source": [
    "model = keras.Sequential([\n",
    "                          Conv2D(32, (5, 5), (2, 2), padding = 'same', activation='relu'),\n",
    "                          MaxPool2D((2, 2)),\n",
    "                          Conv2D(64, (5, 5), (2, 2), padding = 'same', activation='relu'),\n",
    "                          MaxPool2D((2, 2)),\n",
    "                          Flatten(),\n",
    "                          Dense(64, activation='relu'),\n",
    "                          Dense(n_classes, activation='softmax')\n",
    "])"
   ]
  },
  {
   "cell_type": "code",
   "execution_count": 0,
   "metadata": {
    "colab": {},
    "colab_type": "code",
    "id": "FXTxUFIeDAWq"
   },
   "outputs": [],
   "source": [
    "model.compile(optimizer='sgd', loss='sparse_categorical_crossentropy', metrics = ['acc'])"
   ]
  },
  {
   "cell_type": "code",
   "execution_count": 55,
   "metadata": {
    "colab": {
     "base_uri": "https://localhost:8080/",
     "height": 714
    },
    "colab_type": "code",
    "id": "UcmibmpXDAqP",
    "outputId": "ab84aaf1-689e-473e-b3f9-43223b7126ca"
   },
   "outputs": [
    {
     "name": "stdout",
     "output_type": "stream",
     "text": [
      "Train on 40000 samples\n",
      "Epoch 1/20\n",
      "40000/40000 - 6s - loss: 2.0684 - acc: 0.2493\n",
      "Epoch 2/20\n",
      "40000/40000 - 6s - loss: 1.7416 - acc: 0.3747\n",
      "Epoch 3/20\n",
      "40000/40000 - 6s - loss: 1.5688 - acc: 0.4327\n",
      "Epoch 4/20\n",
      "40000/40000 - 6s - loss: 1.4590 - acc: 0.4748\n",
      "Epoch 5/20\n",
      "40000/40000 - 6s - loss: 1.3763 - acc: 0.5072\n",
      "Epoch 6/20\n",
      "40000/40000 - 6s - loss: 1.3090 - acc: 0.5348\n",
      "Epoch 7/20\n",
      "40000/40000 - 6s - loss: 1.2549 - acc: 0.5531\n",
      "Epoch 8/20\n",
      "40000/40000 - 6s - loss: 1.2091 - acc: 0.5703\n",
      "Epoch 9/20\n",
      "40000/40000 - 6s - loss: 1.1653 - acc: 0.5867\n",
      "Epoch 10/20\n",
      "40000/40000 - 6s - loss: 1.1271 - acc: 0.5998\n",
      "Epoch 11/20\n",
      "40000/40000 - 6s - loss: 1.0877 - acc: 0.6154\n",
      "Epoch 12/20\n",
      "40000/40000 - 6s - loss: 1.0525 - acc: 0.6316\n",
      "Epoch 13/20\n",
      "40000/40000 - 6s - loss: 1.0209 - acc: 0.6415\n",
      "Epoch 14/20\n",
      "40000/40000 - 6s - loss: 0.9925 - acc: 0.6493\n",
      "Epoch 15/20\n",
      "40000/40000 - 6s - loss: 0.9676 - acc: 0.6618\n",
      "Epoch 16/20\n",
      "40000/40000 - 6s - loss: 0.9393 - acc: 0.6710\n",
      "Epoch 17/20\n",
      "40000/40000 - 6s - loss: 0.9137 - acc: 0.6790\n",
      "Epoch 18/20\n",
      "40000/40000 - 6s - loss: 0.8929 - acc: 0.6873\n",
      "Epoch 19/20\n",
      "40000/40000 - 6s - loss: 0.8667 - acc: 0.6949\n",
      "Epoch 20/20\n",
      "40000/40000 - 6s - loss: 0.8449 - acc: 0.7042\n"
     ]
    }
   ],
   "source": [
    "hist = model.fit(X_train, Y_train, epochs = 20, verbose = 2)"
   ]
  },
  {
   "cell_type": "code",
   "execution_count": 56,
   "metadata": {
    "colab": {
     "base_uri": "https://localhost:8080/",
     "height": 573
    },
    "colab_type": "code",
    "id": "E4T1TAXgDA4t",
    "outputId": "685ed7d3-bd33-4109-89f1-4d81ae058c8b"
   },
   "outputs": [
    {
     "data": {
      "image/png": "[encoded data removed]",
      "text/plain": [
       "<Figure size 432x288 with 1 Axes>"
      ]
     },
     "metadata": {
      "tags": []
     },
     "output_type": "display_data"
    },
    {
     "data": {
      "image/png": "[encoded data removed]",
      "text/plain": [
       "<Figure size 432x288 with 1 Axes>"
      ]
     },
     "metadata": {
      "tags": []
     },
     "output_type": "display_data"
    }
   ],
   "source": [
    "plot_loss(hist.history['loss'])\n",
    "plot_acc(hist.history['acc'])"
   ]
  },
  {
   "cell_type": "code",
   "execution_count": 57,
   "metadata": {
    "colab": {
     "base_uri": "https://localhost:8080/",
     "height": 68
    },
    "colab_type": "code",
    "id": "NmAaD3l-DBLC",
    "outputId": "d8667436-560a-4e0e-8c99-4ce0b9b6b2a0"
   },
   "outputs": [
    {
     "name": "stdout",
     "output_type": "stream",
     "text": [
      "10000/10000 - 1s - loss: 1.0358 - acc: 0.6438\n",
      "Validation Loss:  1.0358184490203857\n",
      "Validation Acc :  0.6438\n"
     ]
    }
   ],
   "source": [
    "val_loss, val_acc = model.evaluate(X_val, Y_val, verbose=2)\n",
    "print(\"Validation Loss: \", val_loss)\n",
    "print(\"Validation Acc : \", val_acc)"
   ]
  },
  {
   "cell_type": "markdown",
   "metadata": {
    "colab_type": "text",
    "id": "4-V37uliDF8T"
   },
   "source": [
    "## Model 8"
   ]
  },
  {
   "cell_type": "markdown",
   "metadata": {
    "colab_type": "text",
    "id": "kbxuNq3ZJz2k"
   },
   "source": [
    "### Chosen model: -\n",
    "- Model 6 is chosen because it has the best validation accuracy and validation loss among models 1 to 7"
   ]
  },
  {
   "cell_type": "code",
   "execution_count": 0,
   "metadata": {
    "colab": {},
    "colab_type": "code",
    "id": "DTo2Cw04DHSG"
   },
   "outputs": [],
   "source": [
    "model = keras.Sequential([\n",
    "                          Conv2D(32, (3, 3), padding='same', activation='tanh'),\n",
    "                          MaxPool2D((2, 2)),\n",
    "                          Conv2D(64, (3, 3), padding='same', activation='tanh'),\n",
    "                          MaxPool2D((2, 2)),\n",
    "                          Conv2D(128, (3, 3), padding='same', activation='tanh'),\n",
    "                          MaxPool2D((2, 2)),\n",
    "                          Flatten(),\n",
    "                          Dense(64, activation='tanh'),\n",
    "                          Dense(n_classes, activation='softmax')\n",
    "])"
   ]
  },
  {
   "cell_type": "code",
   "execution_count": 0,
   "metadata": {
    "colab": {},
    "colab_type": "code",
    "id": "MuXB7NFQDIh2"
   },
   "outputs": [],
   "source": [
    "model.compile(optimizer='sgd', loss='sparse_categorical_crossentropy', metrics = ['acc'])"
   ]
  },
  {
   "cell_type": "code",
   "execution_count": 60,
   "metadata": {
    "colab": {
     "base_uri": "https://localhost:8080/",
     "height": 714
    },
    "colab_type": "code",
    "id": "Irl4o7B2DKw4",
    "outputId": "a7c4dfe7-aa3d-4b0e-f401-2d5cf5dd93c9"
   },
   "outputs": [
    {
     "name": "stdout",
     "output_type": "stream",
     "text": [
      "Train on 40000 samples\n",
      "Epoch 1/20\n",
      "40000/40000 - 9s - loss: 1.8437 - acc: 0.3428\n",
      "Epoch 2/20\n",
      "40000/40000 - 9s - loss: 1.5120 - acc: 0.4643\n",
      "Epoch 3/20\n",
      "40000/40000 - 9s - loss: 1.3613 - acc: 0.5181\n",
      "Epoch 4/20\n",
      "40000/40000 - 9s - loss: 1.2486 - acc: 0.5598\n",
      "Epoch 5/20\n",
      "40000/40000 - 9s - loss: 1.1572 - acc: 0.5924\n",
      "Epoch 6/20\n",
      "40000/40000 - 9s - loss: 1.0737 - acc: 0.6219\n",
      "Epoch 7/20\n",
      "40000/40000 - 8s - loss: 1.0027 - acc: 0.6494\n",
      "Epoch 8/20\n",
      "40000/40000 - 8s - loss: 0.9441 - acc: 0.6710\n",
      "Epoch 9/20\n",
      "40000/40000 - 8s - loss: 0.8918 - acc: 0.6907\n",
      "Epoch 10/20\n",
      "40000/40000 - 8s - loss: 0.8455 - acc: 0.7056\n",
      "Epoch 11/20\n",
      "40000/40000 - 8s - loss: 0.8052 - acc: 0.7217\n",
      "Epoch 12/20\n",
      "40000/40000 - 9s - loss: 0.7660 - acc: 0.7372\n",
      "Epoch 13/20\n",
      "40000/40000 - 8s - loss: 0.7315 - acc: 0.7485\n",
      "Epoch 14/20\n",
      "40000/40000 - 8s - loss: 0.6958 - acc: 0.7612\n",
      "Epoch 15/20\n",
      "40000/40000 - 8s - loss: 0.6628 - acc: 0.7743\n",
      "Epoch 16/20\n",
      "40000/40000 - 8s - loss: 0.6296 - acc: 0.7849\n",
      "Epoch 17/20\n",
      "40000/40000 - 8s - loss: 0.5992 - acc: 0.7962\n",
      "Epoch 18/20\n",
      "40000/40000 - 8s - loss: 0.5684 - acc: 0.8077\n",
      "Epoch 19/20\n",
      "40000/40000 - 8s - loss: 0.5371 - acc: 0.8181\n",
      "Epoch 20/20\n",
      "40000/40000 - 8s - loss: 0.5070 - acc: 0.8300\n"
     ]
    }
   ],
   "source": [
    "hist = model.fit(X_train, Y_train, epochs = 20, verbose = 2)"
   ]
  },
  {
   "cell_type": "code",
   "execution_count": 61,
   "metadata": {
    "colab": {
     "base_uri": "https://localhost:8080/",
     "height": 573
    },
    "colab_type": "code",
    "id": "OuwzJNdXDLUJ",
    "outputId": "743f0f5a-695f-4f5a-8fdb-9473ab30f3c2"
   },
   "outputs": [
    {
     "data": {
      "image/png": "[encoded data removed]",
      "text/plain": [
       "<Figure size 432x288 with 1 Axes>"
      ]
     },
     "metadata": {
      "tags": []
     },
     "output_type": "display_data"
    },
    {
     "data": {
      "image/png": "[encoded data removed]",
      "text/plain": [
       "<Figure size 432x288 with 1 Axes>"
      ]
     },
     "metadata": {
      "tags": []
     },
     "output_type": "display_data"
    }
   ],
   "source": [
    "plot_loss(hist.history['loss'])\n",
    "plot_acc(hist.history['acc'])"
   ]
  },
  {
   "cell_type": "code",
   "execution_count": 62,
   "metadata": {
    "colab": {
     "base_uri": "https://localhost:8080/",
     "height": 68
    },
    "colab_type": "code",
    "id": "d0vAWUx2DMyZ",
    "outputId": "7c338fb0-3099-49cd-f54c-66d9ec7e1bc5"
   },
   "outputs": [
    {
     "name": "stdout",
     "output_type": "stream",
     "text": [
      "10000/10000 - 1s - loss: 0.8441 - acc: 0.7092\n",
      "Validation Loss:  0.8441179809570313\n",
      "Validation Acc :  0.7092\n"
     ]
    }
   ],
   "source": [
    "val_loss, val_acc = model.evaluate(X_val, Y_val, verbose=2)\n",
    "print(\"Validation Loss: \", val_loss)\n",
    "print(\"Validation Acc : \", val_acc)"
   ]
  },
  {
   "cell_type": "markdown",
   "metadata": {
    "colab_type": "text",
    "id": "pxeMrNntDJ-g"
   },
   "source": [
    "## Model 9"
   ]
  },
  {
   "cell_type": "markdown",
   "metadata": {
    "colab_type": "text",
    "id": "bBMzFc7eKIhi"
   },
   "source": [
    "### Chosen model: -\n",
    "- Model 6 is chosen because it has the best validation accuracy and validation loss among models 1 to 7"
   ]
  },
  {
   "cell_type": "code",
   "execution_count": 0,
   "metadata": {
    "colab": {},
    "colab_type": "code",
    "id": "GQf9RQEADPFi"
   },
   "outputs": [],
   "source": [
    "model = keras.Sequential([\n",
    "                          Conv2D(32, (3, 3), padding='same', activation='sigmoid'),\n",
    "                          MaxPool2D((2, 2)),\n",
    "                          Conv2D(64, (3, 3), padding='same', activation='sigmoid'),\n",
    "                          MaxPool2D((2, 2)),\n",
    "                          Conv2D(128, (3, 3), padding='same', activation='sigmoid'),\n",
    "                          MaxPool2D((2, 2)),\n",
    "                          Flatten(),\n",
    "                          Dense(64, activation='sigmoid'),\n",
    "                          Dense(n_classes, activation='softmax')\n",
    "])"
   ]
  },
  {
   "cell_type": "code",
   "execution_count": 0,
   "metadata": {
    "colab": {},
    "colab_type": "code",
    "id": "XQT4sTNLDP9X"
   },
   "outputs": [],
   "source": [
    "model.compile(optimizer='sgd', loss='sparse_categorical_crossentropy', metrics = ['acc'])"
   ]
  },
  {
   "cell_type": "code",
   "execution_count": 65,
   "metadata": {
    "colab": {
     "base_uri": "https://localhost:8080/",
     "height": 714
    },
    "colab_type": "code",
    "id": "yAmK_8lMDQMs",
    "outputId": "74add7b1-fefc-44ba-be3e-d58c27a3d8c4"
   },
   "outputs": [
    {
     "name": "stdout",
     "output_type": "stream",
     "text": [
      "Train on 40000 samples\n",
      "Epoch 1/20\n",
      "40000/40000 - 9s - loss: 2.3078 - acc: 0.0975\n",
      "Epoch 2/20\n",
      "40000/40000 - 9s - loss: 2.3066 - acc: 0.0993\n",
      "Epoch 3/20\n",
      "40000/40000 - 9s - loss: 2.3059 - acc: 0.1014\n",
      "Epoch 4/20\n",
      "40000/40000 - 8s - loss: 2.3061 - acc: 0.0981\n",
      "Epoch 5/20\n",
      "40000/40000 - 8s - loss: 2.3057 - acc: 0.0983\n",
      "Epoch 6/20\n",
      "40000/40000 - 8s - loss: 2.3052 - acc: 0.0989\n",
      "Epoch 7/20\n",
      "40000/40000 - 9s - loss: 2.3051 - acc: 0.0990\n",
      "Epoch 8/20\n",
      "40000/40000 - 8s - loss: 2.3050 - acc: 0.0962\n",
      "Epoch 9/20\n",
      "40000/40000 - 9s - loss: 2.3042 - acc: 0.1004\n",
      "Epoch 10/20\n",
      "40000/40000 - 9s - loss: 2.3044 - acc: 0.0998\n",
      "Epoch 11/20\n",
      "40000/40000 - 8s - loss: 2.3043 - acc: 0.0987\n",
      "Epoch 12/20\n",
      "40000/40000 - 8s - loss: 2.3042 - acc: 0.0973\n",
      "Epoch 13/20\n",
      "40000/40000 - 9s - loss: 2.3041 - acc: 0.0998\n",
      "Epoch 14/20\n",
      "40000/40000 - 9s - loss: 2.3039 - acc: 0.1011\n",
      "Epoch 15/20\n",
      "40000/40000 - 8s - loss: 2.3040 - acc: 0.0977\n",
      "Epoch 16/20\n",
      "40000/40000 - 8s - loss: 2.3040 - acc: 0.0982\n",
      "Epoch 17/20\n",
      "40000/40000 - 8s - loss: 2.3038 - acc: 0.0998\n",
      "Epoch 18/20\n",
      "40000/40000 - 8s - loss: 2.3037 - acc: 0.1013\n",
      "Epoch 19/20\n",
      "40000/40000 - 8s - loss: 2.3037 - acc: 0.0975\n",
      "Epoch 20/20\n",
      "40000/40000 - 8s - loss: 2.3038 - acc: 0.0994\n"
     ]
    }
   ],
   "source": [
    "hist = model.fit(X_train, Y_train, epochs = 20, verbose = 2)"
   ]
  },
  {
   "cell_type": "code",
   "execution_count": 66,
   "metadata": {
    "colab": {
     "base_uri": "https://localhost:8080/",
     "height": 573
    },
    "colab_type": "code",
    "id": "GZWzFRHmDQaq",
    "outputId": "28edb260-f94d-4031-8154-3618f14e53d4"
   },
   "outputs": [
    {
     "data": {
      "image/png": "[encoded data removed]",
      "text/plain": [
       "<Figure size 432x288 with 1 Axes>"
      ]
     },
     "metadata": {
      "tags": []
     },
     "output_type": "display_data"
    },
    {
     "data": {
      "image/png": "[encoded data removed]",
      "text/plain": [
       "<Figure size 432x288 with 1 Axes>"
      ]
     },
     "metadata": {
      "tags": []
     },
     "output_type": "display_data"
    }
   ],
   "source": [
    "plot_loss(hist.history['loss'])\n",
    "plot_acc(hist.history['acc'])"
   ]
  },
  {
   "cell_type": "code",
   "execution_count": 67,
   "metadata": {
    "colab": {
     "base_uri": "https://localhost:8080/",
     "height": 68
    },
    "colab_type": "code",
    "id": "cjHREzF8DQpb",
    "outputId": "bd10701a-b7b2-483a-f2e7-f55b6af51a0f"
   },
   "outputs": [
    {
     "name": "stdout",
     "output_type": "stream",
     "text": [
      "10000/10000 - 1s - loss: 2.3034 - acc: 0.0986\n",
      "Validation Loss:  2.3033866577148436\n",
      "Validation Acc :  0.0986\n"
     ]
    }
   ],
   "source": [
    "val_loss, val_acc = model.evaluate(X_val, Y_val, verbose=2)\n",
    "print(\"Validation Loss: \", val_loss)\n",
    "print(\"Validation Acc : \", val_acc)"
   ]
  },
  {
   "cell_type": "markdown",
   "metadata": {
    "colab_type": "text",
    "id": "T_gvEA0dDgON"
   },
   "source": [
    "## Best Model"
   ]
  },
  {
   "cell_type": "markdown",
   "metadata": {
    "colab_type": "text",
    "id": "Z-adRBmAOU7s"
   },
   "source": [
    "### Model 8\n",
    "\n",
    "- This is the best model from among all the models, i.e. models 1 to 9\n",
    "- It has the highest accuracy and least validation loss"
   ]
  },
  {
   "cell_type": "code",
   "execution_count": 0,
   "metadata": {
    "colab": {},
    "colab_type": "code",
    "id": "JCxmLAuUDhB2"
   },
   "outputs": [],
   "source": [
    "model = keras.Sequential([\n",
    "                          Conv2D(32, (3, 3), padding='same', activation='tanh'),\n",
    "                          MaxPool2D((2, 2)),\n",
    "                          Conv2D(64, (3, 3), padding='same', activation='tanh'),\n",
    "                          MaxPool2D((2, 2)),\n",
    "                          Conv2D(128, (3, 3), padding='same', activation='tanh'),\n",
    "                          MaxPool2D((2, 2)),\n",
    "                          Flatten(),\n",
    "                          Dense(64, activation='tanh'),\n",
    "                          Dense(n_classes, activation='softmax')\n",
    "])"
   ]
  },
  {
   "cell_type": "code",
   "execution_count": 0,
   "metadata": {
    "colab": {},
    "colab_type": "code",
    "id": "xJEGp8XdDk4C"
   },
   "outputs": [],
   "source": [
    "model.compile(optimizer='sgd', loss='sparse_categorical_crossentropy', metrics = ['acc'])"
   ]
  },
  {
   "cell_type": "code",
   "execution_count": 0,
   "metadata": {
    "colab": {},
    "colab_type": "code",
    "id": "TfwalFDFDlGH"
   },
   "outputs": [],
   "source": [
    "_ = model.fit(X_train, Y_train, epochs = 20, verbose = 0)"
   ]
  },
  {
   "cell_type": "code",
   "execution_count": 73,
   "metadata": {
    "colab": {
     "base_uri": "https://localhost:8080/",
     "height": 68
    },
    "colab_type": "code",
    "id": "HUEQT3PADlU8",
    "outputId": "bea68eed-7662-43fb-b226-8e4a64c3297a"
   },
   "outputs": [
    {
     "name": "stdout",
     "output_type": "stream",
     "text": [
      "10000/10000 - 1s - loss: 0.8828 - acc: 0.7067\n",
      "Test Loss:  0.882759896850586\n",
      "Test Acc :  0.7067\n"
     ]
    }
   ],
   "source": [
    "test_loss, test_acc = model.evaluate(X_test, Y_test, verbose=2)\n",
    "print(\"Test Loss: \", test_loss)\n",
    "print(\"Test Acc : \", test_acc)"
   ]
  },
  {
   "cell_type": "markdown",
   "metadata": {},
   "source": []
  }
 ],
 "metadata": {
  "accelerator": "GPU",
  "colab": {
   "collapsed_sections": [],
   "name": "ImageClassification.ipynb",
   "provenance": []
  },
  "kernelspec": {
   "display_name": "Python 3",
   "language": "python",
   "name": "python3"
  },
  "language_info": {
   "codemirror_mode": {
    "name": "ipython",
    "version": 3
   },
   "file_extension": ".py",
   "mimetype": "text/x-python",
   "name": "python",
   "nbconvert_exporter": "python",
   "pygments_lexer": "ipython3",
   "version": "3.6.8"
  }
 },
 "nbformat": 4,
 "nbformat_minor": 1
}
